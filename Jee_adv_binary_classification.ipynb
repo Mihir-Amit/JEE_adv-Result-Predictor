{
  "metadata": {
    "kernelspec": {
      "language": "python",
      "display_name": "Python 3",
      "name": "python3"
    },
    "language_info": {
      "name": "python",
      "version": "3.10.13",
      "mimetype": "text/x-python",
      "codemirror_mode": {
        "name": "ipython",
        "version": 3
      },
      "pygments_lexer": "ipython3",
      "nbconvert_exporter": "python",
      "file_extension": ".py"
    },
    "kaggle": {
      "accelerator": "nvidiaTeslaT4",
      "dataSources": [
        {
          "sourceId": 70278,
          "databundleVersionId": 7690613,
          "sourceType": "competition"
        }
      ],
      "dockerImageVersionId": 30648,
      "isInternetEnabled": true,
      "language": "python",
      "sourceType": "notebook",
      "isGpuEnabled": true
    },
    "colab": {
      "name": "Jee_advanced Result Prediction",
      "provenance": [],
      "include_colab_link": true
    }
  },
  "nbformat_minor": 0,
  "nbformat": 4,
  "cells": [
    {
      "cell_type": "markdown",
      "metadata": {
        "id": "view-in-github",
        "colab_type": "text"
      },
      "source": [
        "<a href=\"https://colab.research.google.com/github/Mihir-Amit/JEE_adv-Result-Predictor/blob/main/Jee_adv_binary_classification.ipynb\" target=\"_parent\"><img src=\"https://colab.research.google.com/assets/colab-badge.svg\" alt=\"Open In Colab\"/></a>"
      ]
    },
    {
      "source": [
        "\n",
        "# IMPORTANT: RUN THIS CELL IN ORDER TO IMPORT YOUR KAGGLE DATA SOURCES\n",
        "# TO THE CORRECT LOCATION (/kaggle/input) IN YOUR NOTEBOOK,\n",
        "# THEN FEEL FREE TO DELETE THIS CELL.\n",
        "# NOTE: THIS NOTEBOOK ENVIRONMENT DIFFERS FROM KAGGLE'S PYTHON\n",
        "# ENVIRONMENT SO THERE MAY BE MISSING LIBRARIES USED BY YOUR\n",
        "# NOTEBOOK.\n",
        "\n",
        "import os\n",
        "import sys\n",
        "from tempfile import NamedTemporaryFile\n",
        "from urllib.request import urlopen\n",
        "from urllib.parse import unquote, urlparse\n",
        "from urllib.error import HTTPError\n",
        "from zipfile import ZipFile\n",
        "import tarfile\n",
        "import shutil\n",
        "\n",
        "CHUNK_SIZE = 40960\n",
        "DATA_SOURCE_MAPPING = 'yamunas-odyssey-a-dream-to-conquer-iit-jammu:https%3A%2F%2Fstorage.googleapis.com%2Fkaggle-competitions-data%2Fkaggle-v2%2F70278%2F7690613%2Fbundle%2Farchive.zip%3FX-Goog-Algorithm%3DGOOG4-RSA-SHA256%26X-Goog-Credential%3Dgcp-kaggle-com%2540kaggle-161607.iam.gserviceaccount.com%252F20240212%252Fauto%252Fstorage%252Fgoog4_request%26X-Goog-Date%3D20240212T153418Z%26X-Goog-Expires%3D259200%26X-Goog-SignedHeaders%3Dhost%26X-Goog-Signature%3D819e23b13f3360e3dfddcc4a1bf9cda5a1b78a255da949ce8827d6e7063367353654ac3d5349c6a2de8fd2c51ed65d3eead613fed6399fde6d7f1439c9012e7c10ec016ef524173c9d9e6f94f1978fdaf93b0344c8307c02049f77cf4c0cd641162e30616e4e64e3b011fd7aa1c370a2fca8ec53fc0272cc6e85bceb65ac590ef5bf4965263cd52ef05be5dca36e8df08c2b3c0b69adc1e423c4995f72be3289dbd4b512cfa534c67e053c32fe5b78dd10dbb6bcf945ec757b60ea89f43209aefe58a84fe3a74175bd2bb0a4abdaff33854470a5230a27e6c48d19b07cc787f732e8eb41a0f3d1dda4fb186c579fc20fd8f549796739c86395ca855aef33dc78'\n",
        "\n",
        "KAGGLE_INPUT_PATH='/kaggle/input'\n",
        "KAGGLE_WORKING_PATH='/kaggle/working'\n",
        "KAGGLE_SYMLINK='kaggle'\n",
        "\n",
        "!umount /kaggle/input/ 2> /dev/null\n",
        "shutil.rmtree('/kaggle/input', ignore_errors=True)\n",
        "os.makedirs(KAGGLE_INPUT_PATH, 0o777, exist_ok=True)\n",
        "os.makedirs(KAGGLE_WORKING_PATH, 0o777, exist_ok=True)\n",
        "\n",
        "try:\n",
        "  os.symlink(KAGGLE_INPUT_PATH, os.path.join(\"..\", 'input'), target_is_directory=True)\n",
        "except FileExistsError:\n",
        "  pass\n",
        "try:\n",
        "  os.symlink(KAGGLE_WORKING_PATH, os.path.join(\"..\", 'working'), target_is_directory=True)\n",
        "except FileExistsError:\n",
        "  pass\n",
        "\n",
        "for data_source_mapping in DATA_SOURCE_MAPPING.split(','):\n",
        "    directory, download_url_encoded = data_source_mapping.split(':')\n",
        "    download_url = unquote(download_url_encoded)\n",
        "    filename = urlparse(download_url).path\n",
        "    destination_path = os.path.join(KAGGLE_INPUT_PATH, directory)\n",
        "    try:\n",
        "        with urlopen(download_url) as fileres, NamedTemporaryFile() as tfile:\n",
        "            total_length = fileres.headers['content-length']\n",
        "            print(f'Downloading {directory}, {total_length} bytes compressed')\n",
        "            dl = 0\n",
        "            data = fileres.read(CHUNK_SIZE)\n",
        "            while len(data) > 0:\n",
        "                dl += len(data)\n",
        "                tfile.write(data)\n",
        "                done = int(50 * dl / int(total_length))\n",
        "                sys.stdout.write(f\"\\r[{'=' * done}{' ' * (50-done)}] {dl} bytes downloaded\")\n",
        "                sys.stdout.flush()\n",
        "                data = fileres.read(CHUNK_SIZE)\n",
        "            if filename.endswith('.zip'):\n",
        "              with ZipFile(tfile) as zfile:\n",
        "                zfile.extractall(destination_path)\n",
        "            else:\n",
        "              with tarfile.open(tfile.name) as tarfile:\n",
        "                tarfile.extractall(destination_path)\n",
        "            print(f'\\nDownloaded and uncompressed: {directory}')\n",
        "    except HTTPError as e:\n",
        "        print(f'Failed to load (likely expired) {download_url} to path {destination_path}')\n",
        "        continue\n",
        "    except OSError as e:\n",
        "        print(f'Failed to load {download_url} to path {destination_path}')\n",
        "        continue\n",
        "\n",
        "print('Data source import complete.')\n"
      ],
      "metadata": {
        "id": "exHHKL6e9Hnz",
        "outputId": "e64cd137-d6ed-4f7f-e523-74e16b90a4ba",
        "colab": {
          "base_uri": "https://localhost:8080/"
        }
      },
      "cell_type": "code",
      "outputs": [
        {
          "output_type": "stream",
          "name": "stdout",
          "text": [
            "Downloading yamunas-odyssey-a-dream-to-conquer-iit-jammu, 2672049 bytes compressed\n",
            "[==================================================] 2672049 bytes downloaded\n",
            "Downloaded and uncompressed: yamunas-odyssey-a-dream-to-conquer-iit-jammu\n",
            "Data source import complete.\n"
          ]
        }
      ],
      "execution_count": 1
    },
    {
      "cell_type": "code",
      "source": [],
      "metadata": {
        "id": "H9mya_SF9Hn1"
      },
      "execution_count": 1,
      "outputs": []
    },
    {
      "cell_type": "code",
      "source": [
        "# This Python 3 environment comes with many helpful analytics libraries installed\n",
        "# It is defined by the kaggle/python Docker image: https://github.com/kaggle/docker-python\n",
        "# For example, here's several helpful packages to load\n",
        "\n",
        "import numpy as np # linear algebra\n",
        "import pandas as pd # data processing, CSV file I/O (e.g. pd.read_csv)\n",
        "\n",
        "# Input data files are available in the read-only \"../input/\" directory\n",
        "# For example, running this (by clicking run or pressing Shift+Enter) will list all files under the input directory\n",
        "\n",
        "import os\n",
        "for dirname, _, filenames in os.walk('/kaggle/input'):\n",
        "    for filename in filenames:\n",
        "        print(os.path.join(dirname, filename))\n",
        "\n",
        "# You can write up to 20GB to the current directory (/kaggle/working/) that gets preserved as output when you create a version using \"Save & Run All\"\n",
        "# You can also write temporary files to /kaggle/temp/, but they won't be saved outside of the current session"
      ],
      "metadata": {
        "_uuid": "8f2839f25d086af736a60e9eeb907d3b93b6e0e5",
        "_cell_guid": "b1076dfc-b9ad-4769-8c92-a6c4dae69d19",
        "execution": {
          "iopub.status.busy": "2024-02-10T17:20:02.51797Z",
          "iopub.execute_input": "2024-02-10T17:20:02.518531Z",
          "iopub.status.idle": "2024-02-10T17:20:03.66305Z",
          "shell.execute_reply.started": "2024-02-10T17:20:02.518496Z",
          "shell.execute_reply": "2024-02-10T17:20:03.66209Z"
        },
        "trusted": true,
        "id": "M0npAuHJ9Hn2",
        "outputId": "08038a6d-dbbf-44a4-f6db-19e7c695ccff",
        "colab": {
          "base_uri": "https://localhost:8080/"
        }
      },
      "execution_count": 2,
      "outputs": [
        {
          "output_type": "stream",
          "name": "stdout",
          "text": [
            "/kaggle/input/yamunas-odyssey-a-dream-to-conquer-iit-jammu/train.csv\n",
            "/kaggle/input/yamunas-odyssey-a-dream-to-conquer-iit-jammu/test.csv\n",
            "/kaggle/input/yamunas-odyssey-a-dream-to-conquer-iit-jammu/sample_submission.csv\n"
          ]
        }
      ]
    },
    {
      "cell_type": "code",
      "source": [
        "import tensorflow as tf\n",
        "from tensorflow import keras\n",
        "from tensorflow.keras import layers\n",
        "from tensorflow.keras import regularizers\n",
        "from tensorflow.keras.callbacks import EarlyStopping\n",
        "\n",
        "\n",
        "from sklearn.preprocessing import StandardScaler\n",
        "from sklearn.preprocessing import LabelEncoder\n",
        "from sklearn.metrics import accuracy_score\n",
        "from sklearn.preprocessing import OneHotEncoder\n",
        "from sklearn.model_selection import train_test_split\n",
        "\n",
        "\n",
        "import matplotlib.pyplot as plt\n",
        "import seaborn as sns"
      ],
      "metadata": {
        "execution": {
          "iopub.status.busy": "2024-02-10T17:20:03.664965Z",
          "iopub.execute_input": "2024-02-10T17:20:03.665778Z",
          "iopub.status.idle": "2024-02-10T17:20:18.92868Z",
          "shell.execute_reply.started": "2024-02-10T17:20:03.665742Z",
          "shell.execute_reply": "2024-02-10T17:20:18.927642Z"
        },
        "trusted": true,
        "id": "irMZzHPt9Hn2"
      },
      "execution_count": 6,
      "outputs": []
    },
    {
      "cell_type": "code",
      "source": [
        "print(tf.__version__)"
      ],
      "metadata": {
        "execution": {
          "iopub.status.busy": "2024-02-10T17:20:18.93023Z",
          "iopub.execute_input": "2024-02-10T17:20:18.930954Z",
          "iopub.status.idle": "2024-02-10T17:20:18.93631Z",
          "shell.execute_reply.started": "2024-02-10T17:20:18.930918Z",
          "shell.execute_reply": "2024-02-10T17:20:18.935256Z"
        },
        "trusted": true,
        "id": "spBu3bcL9Hn3",
        "outputId": "3565380f-7392-4f66-f566-dc22db02bc33",
        "colab": {
          "base_uri": "https://localhost:8080/"
        }
      },
      "execution_count": 7,
      "outputs": [
        {
          "output_type": "stream",
          "name": "stdout",
          "text": [
            "2.15.0\n"
          ]
        }
      ]
    },
    {
      "cell_type": "code",
      "source": [
        "#data loading\n",
        "data = pd.read_csv(\"/kaggle/input/yamunas-odyssey-a-dream-to-conquer-iit-jammu/train.csv\")\n",
        "data.head()\n"
      ],
      "metadata": {
        "execution": {
          "iopub.status.busy": "2024-02-10T17:20:18.938659Z",
          "iopub.execute_input": "2024-02-10T17:20:18.93899Z",
          "iopub.status.idle": "2024-02-10T17:20:19.317587Z",
          "shell.execute_reply.started": "2024-02-10T17:20:18.938964Z",
          "shell.execute_reply": "2024-02-10T17:20:19.316542Z"
        },
        "trusted": true,
        "id": "iDGxCNJ29Hn3",
        "outputId": "5b84c318-44d1-49b7-ede6-f96f4324f333",
        "colab": {
          "base_uri": "https://localhost:8080/",
          "height": 310
        }
      },
      "execution_count": 8,
      "outputs": [
        {
          "output_type": "execute_result",
          "data": {
            "text/plain": [
              "      Roll No         Name Caoching  High School Marks 12th Appearing  \\\n",
              "0  5467238558  NOOFT MFFYT       NO               80.5             NO   \n",
              "1  5467299091  CXYTK EYIRF       NO               83.3            YES   \n",
              "2   546729932  UKIFE PPYNH       NO               76.4            YES   \n",
              "3   546729181  TZIRV XMAKN      YES               89.7             NO   \n",
              "4   546724317  NVQJK PVMJH      YES               98.9             NO   \n",
              "\n",
              "   Intermediate Marks   Income Dummy       School Board Device to Study  \\\n",
              "0                92.2    59000    NO  Maharashtra Board          Laptop   \n",
              "1                 NaN   390000    NO               BSEB           Phone   \n",
              "2                 NaN  3140000    NO               CBSE             NaN   \n",
              "3                79.4   345000   YES           HP Board             NaN   \n",
              "4                95.3    29000    NO               CBSE             NaN   \n",
              "\n",
              "  Online Course     Category  PwD  Age Sex Passed  \n",
              "0           YES  General-EWS   NO   20   M   FAIL  \n",
              "1           YES           ST   NO   18   F   FAIL  \n",
              "2           NaN      OBC-NCL   NO   18   M   FAIL  \n",
              "3           NaN           SC   NO   21   M   PASS  \n",
              "4           NaN           SC  YES   17   M   PASS  "
            ],
            "text/html": [
              "\n",
              "  <div id=\"df-a5281ae3-a8b8-4f66-855a-cc042f2776a2\" class=\"colab-df-container\">\n",
              "    <div>\n",
              "<style scoped>\n",
              "    .dataframe tbody tr th:only-of-type {\n",
              "        vertical-align: middle;\n",
              "    }\n",
              "\n",
              "    .dataframe tbody tr th {\n",
              "        vertical-align: top;\n",
              "    }\n",
              "\n",
              "    .dataframe thead th {\n",
              "        text-align: right;\n",
              "    }\n",
              "</style>\n",
              "<table border=\"1\" class=\"dataframe\">\n",
              "  <thead>\n",
              "    <tr style=\"text-align: right;\">\n",
              "      <th></th>\n",
              "      <th>Roll No</th>\n",
              "      <th>Name</th>\n",
              "      <th>Caoching</th>\n",
              "      <th>High School Marks</th>\n",
              "      <th>12th Appearing</th>\n",
              "      <th>Intermediate Marks</th>\n",
              "      <th>Income</th>\n",
              "      <th>Dummy</th>\n",
              "      <th>School Board</th>\n",
              "      <th>Device to Study</th>\n",
              "      <th>Online Course</th>\n",
              "      <th>Category</th>\n",
              "      <th>PwD</th>\n",
              "      <th>Age</th>\n",
              "      <th>Sex</th>\n",
              "      <th>Passed</th>\n",
              "    </tr>\n",
              "  </thead>\n",
              "  <tbody>\n",
              "    <tr>\n",
              "      <th>0</th>\n",
              "      <td>5467238558</td>\n",
              "      <td>NOOFT MFFYT</td>\n",
              "      <td>NO</td>\n",
              "      <td>80.5</td>\n",
              "      <td>NO</td>\n",
              "      <td>92.2</td>\n",
              "      <td>59000</td>\n",
              "      <td>NO</td>\n",
              "      <td>Maharashtra Board</td>\n",
              "      <td>Laptop</td>\n",
              "      <td>YES</td>\n",
              "      <td>General-EWS</td>\n",
              "      <td>NO</td>\n",
              "      <td>20</td>\n",
              "      <td>M</td>\n",
              "      <td>FAIL</td>\n",
              "    </tr>\n",
              "    <tr>\n",
              "      <th>1</th>\n",
              "      <td>5467299091</td>\n",
              "      <td>CXYTK EYIRF</td>\n",
              "      <td>NO</td>\n",
              "      <td>83.3</td>\n",
              "      <td>YES</td>\n",
              "      <td>NaN</td>\n",
              "      <td>390000</td>\n",
              "      <td>NO</td>\n",
              "      <td>BSEB</td>\n",
              "      <td>Phone</td>\n",
              "      <td>YES</td>\n",
              "      <td>ST</td>\n",
              "      <td>NO</td>\n",
              "      <td>18</td>\n",
              "      <td>F</td>\n",
              "      <td>FAIL</td>\n",
              "    </tr>\n",
              "    <tr>\n",
              "      <th>2</th>\n",
              "      <td>546729932</td>\n",
              "      <td>UKIFE PPYNH</td>\n",
              "      <td>NO</td>\n",
              "      <td>76.4</td>\n",
              "      <td>YES</td>\n",
              "      <td>NaN</td>\n",
              "      <td>3140000</td>\n",
              "      <td>NO</td>\n",
              "      <td>CBSE</td>\n",
              "      <td>NaN</td>\n",
              "      <td>NaN</td>\n",
              "      <td>OBC-NCL</td>\n",
              "      <td>NO</td>\n",
              "      <td>18</td>\n",
              "      <td>M</td>\n",
              "      <td>FAIL</td>\n",
              "    </tr>\n",
              "    <tr>\n",
              "      <th>3</th>\n",
              "      <td>546729181</td>\n",
              "      <td>TZIRV XMAKN</td>\n",
              "      <td>YES</td>\n",
              "      <td>89.7</td>\n",
              "      <td>NO</td>\n",
              "      <td>79.4</td>\n",
              "      <td>345000</td>\n",
              "      <td>YES</td>\n",
              "      <td>HP Board</td>\n",
              "      <td>NaN</td>\n",
              "      <td>NaN</td>\n",
              "      <td>SC</td>\n",
              "      <td>NO</td>\n",
              "      <td>21</td>\n",
              "      <td>M</td>\n",
              "      <td>PASS</td>\n",
              "    </tr>\n",
              "    <tr>\n",
              "      <th>4</th>\n",
              "      <td>546724317</td>\n",
              "      <td>NVQJK PVMJH</td>\n",
              "      <td>YES</td>\n",
              "      <td>98.9</td>\n",
              "      <td>NO</td>\n",
              "      <td>95.3</td>\n",
              "      <td>29000</td>\n",
              "      <td>NO</td>\n",
              "      <td>CBSE</td>\n",
              "      <td>NaN</td>\n",
              "      <td>NaN</td>\n",
              "      <td>SC</td>\n",
              "      <td>YES</td>\n",
              "      <td>17</td>\n",
              "      <td>M</td>\n",
              "      <td>PASS</td>\n",
              "    </tr>\n",
              "  </tbody>\n",
              "</table>\n",
              "</div>\n",
              "    <div class=\"colab-df-buttons\">\n",
              "\n",
              "  <div class=\"colab-df-container\">\n",
              "    <button class=\"colab-df-convert\" onclick=\"convertToInteractive('df-a5281ae3-a8b8-4f66-855a-cc042f2776a2')\"\n",
              "            title=\"Convert this dataframe to an interactive table.\"\n",
              "            style=\"display:none;\">\n",
              "\n",
              "  <svg xmlns=\"http://www.w3.org/2000/svg\" height=\"24px\" viewBox=\"0 -960 960 960\">\n",
              "    <path d=\"M120-120v-720h720v720H120Zm60-500h600v-160H180v160Zm220 220h160v-160H400v160Zm0 220h160v-160H400v160ZM180-400h160v-160H180v160Zm440 0h160v-160H620v160ZM180-180h160v-160H180v160Zm440 0h160v-160H620v160Z\"/>\n",
              "  </svg>\n",
              "    </button>\n",
              "\n",
              "  <style>\n",
              "    .colab-df-container {\n",
              "      display:flex;\n",
              "      gap: 12px;\n",
              "    }\n",
              "\n",
              "    .colab-df-convert {\n",
              "      background-color: #E8F0FE;\n",
              "      border: none;\n",
              "      border-radius: 50%;\n",
              "      cursor: pointer;\n",
              "      display: none;\n",
              "      fill: #1967D2;\n",
              "      height: 32px;\n",
              "      padding: 0 0 0 0;\n",
              "      width: 32px;\n",
              "    }\n",
              "\n",
              "    .colab-df-convert:hover {\n",
              "      background-color: #E2EBFA;\n",
              "      box-shadow: 0px 1px 2px rgba(60, 64, 67, 0.3), 0px 1px 3px 1px rgba(60, 64, 67, 0.15);\n",
              "      fill: #174EA6;\n",
              "    }\n",
              "\n",
              "    .colab-df-buttons div {\n",
              "      margin-bottom: 4px;\n",
              "    }\n",
              "\n",
              "    [theme=dark] .colab-df-convert {\n",
              "      background-color: #3B4455;\n",
              "      fill: #D2E3FC;\n",
              "    }\n",
              "\n",
              "    [theme=dark] .colab-df-convert:hover {\n",
              "      background-color: #434B5C;\n",
              "      box-shadow: 0px 1px 3px 1px rgba(0, 0, 0, 0.15);\n",
              "      filter: drop-shadow(0px 1px 2px rgba(0, 0, 0, 0.3));\n",
              "      fill: #FFFFFF;\n",
              "    }\n",
              "  </style>\n",
              "\n",
              "    <script>\n",
              "      const buttonEl =\n",
              "        document.querySelector('#df-a5281ae3-a8b8-4f66-855a-cc042f2776a2 button.colab-df-convert');\n",
              "      buttonEl.style.display =\n",
              "        google.colab.kernel.accessAllowed ? 'block' : 'none';\n",
              "\n",
              "      async function convertToInteractive(key) {\n",
              "        const element = document.querySelector('#df-a5281ae3-a8b8-4f66-855a-cc042f2776a2');\n",
              "        const dataTable =\n",
              "          await google.colab.kernel.invokeFunction('convertToInteractive',\n",
              "                                                    [key], {});\n",
              "        if (!dataTable) return;\n",
              "\n",
              "        const docLinkHtml = 'Like what you see? Visit the ' +\n",
              "          '<a target=\"_blank\" href=https://colab.research.google.com/notebooks/data_table.ipynb>data table notebook</a>'\n",
              "          + ' to learn more about interactive tables.';\n",
              "        element.innerHTML = '';\n",
              "        dataTable['output_type'] = 'display_data';\n",
              "        await google.colab.output.renderOutput(dataTable, element);\n",
              "        const docLink = document.createElement('div');\n",
              "        docLink.innerHTML = docLinkHtml;\n",
              "        element.appendChild(docLink);\n",
              "      }\n",
              "    </script>\n",
              "  </div>\n",
              "\n",
              "\n",
              "<div id=\"df-42008ccc-8401-4d53-b10d-27689ed96db9\">\n",
              "  <button class=\"colab-df-quickchart\" onclick=\"quickchart('df-42008ccc-8401-4d53-b10d-27689ed96db9')\"\n",
              "            title=\"Suggest charts\"\n",
              "            style=\"display:none;\">\n",
              "\n",
              "<svg xmlns=\"http://www.w3.org/2000/svg\" height=\"24px\"viewBox=\"0 0 24 24\"\n",
              "     width=\"24px\">\n",
              "    <g>\n",
              "        <path d=\"M19 3H5c-1.1 0-2 .9-2 2v14c0 1.1.9 2 2 2h14c1.1 0 2-.9 2-2V5c0-1.1-.9-2-2-2zM9 17H7v-7h2v7zm4 0h-2V7h2v10zm4 0h-2v-4h2v4z\"/>\n",
              "    </g>\n",
              "</svg>\n",
              "  </button>\n",
              "\n",
              "<style>\n",
              "  .colab-df-quickchart {\n",
              "      --bg-color: #E8F0FE;\n",
              "      --fill-color: #1967D2;\n",
              "      --hover-bg-color: #E2EBFA;\n",
              "      --hover-fill-color: #174EA6;\n",
              "      --disabled-fill-color: #AAA;\n",
              "      --disabled-bg-color: #DDD;\n",
              "  }\n",
              "\n",
              "  [theme=dark] .colab-df-quickchart {\n",
              "      --bg-color: #3B4455;\n",
              "      --fill-color: #D2E3FC;\n",
              "      --hover-bg-color: #434B5C;\n",
              "      --hover-fill-color: #FFFFFF;\n",
              "      --disabled-bg-color: #3B4455;\n",
              "      --disabled-fill-color: #666;\n",
              "  }\n",
              "\n",
              "  .colab-df-quickchart {\n",
              "    background-color: var(--bg-color);\n",
              "    border: none;\n",
              "    border-radius: 50%;\n",
              "    cursor: pointer;\n",
              "    display: none;\n",
              "    fill: var(--fill-color);\n",
              "    height: 32px;\n",
              "    padding: 0;\n",
              "    width: 32px;\n",
              "  }\n",
              "\n",
              "  .colab-df-quickchart:hover {\n",
              "    background-color: var(--hover-bg-color);\n",
              "    box-shadow: 0 1px 2px rgba(60, 64, 67, 0.3), 0 1px 3px 1px rgba(60, 64, 67, 0.15);\n",
              "    fill: var(--button-hover-fill-color);\n",
              "  }\n",
              "\n",
              "  .colab-df-quickchart-complete:disabled,\n",
              "  .colab-df-quickchart-complete:disabled:hover {\n",
              "    background-color: var(--disabled-bg-color);\n",
              "    fill: var(--disabled-fill-color);\n",
              "    box-shadow: none;\n",
              "  }\n",
              "\n",
              "  .colab-df-spinner {\n",
              "    border: 2px solid var(--fill-color);\n",
              "    border-color: transparent;\n",
              "    border-bottom-color: var(--fill-color);\n",
              "    animation:\n",
              "      spin 1s steps(1) infinite;\n",
              "  }\n",
              "\n",
              "  @keyframes spin {\n",
              "    0% {\n",
              "      border-color: transparent;\n",
              "      border-bottom-color: var(--fill-color);\n",
              "      border-left-color: var(--fill-color);\n",
              "    }\n",
              "    20% {\n",
              "      border-color: transparent;\n",
              "      border-left-color: var(--fill-color);\n",
              "      border-top-color: var(--fill-color);\n",
              "    }\n",
              "    30% {\n",
              "      border-color: transparent;\n",
              "      border-left-color: var(--fill-color);\n",
              "      border-top-color: var(--fill-color);\n",
              "      border-right-color: var(--fill-color);\n",
              "    }\n",
              "    40% {\n",
              "      border-color: transparent;\n",
              "      border-right-color: var(--fill-color);\n",
              "      border-top-color: var(--fill-color);\n",
              "    }\n",
              "    60% {\n",
              "      border-color: transparent;\n",
              "      border-right-color: var(--fill-color);\n",
              "    }\n",
              "    80% {\n",
              "      border-color: transparent;\n",
              "      border-right-color: var(--fill-color);\n",
              "      border-bottom-color: var(--fill-color);\n",
              "    }\n",
              "    90% {\n",
              "      border-color: transparent;\n",
              "      border-bottom-color: var(--fill-color);\n",
              "    }\n",
              "  }\n",
              "</style>\n",
              "\n",
              "  <script>\n",
              "    async function quickchart(key) {\n",
              "      const quickchartButtonEl =\n",
              "        document.querySelector('#' + key + ' button');\n",
              "      quickchartButtonEl.disabled = true;  // To prevent multiple clicks.\n",
              "      quickchartButtonEl.classList.add('colab-df-spinner');\n",
              "      try {\n",
              "        const charts = await google.colab.kernel.invokeFunction(\n",
              "            'suggestCharts', [key], {});\n",
              "      } catch (error) {\n",
              "        console.error('Error during call to suggestCharts:', error);\n",
              "      }\n",
              "      quickchartButtonEl.classList.remove('colab-df-spinner');\n",
              "      quickchartButtonEl.classList.add('colab-df-quickchart-complete');\n",
              "    }\n",
              "    (() => {\n",
              "      let quickchartButtonEl =\n",
              "        document.querySelector('#df-42008ccc-8401-4d53-b10d-27689ed96db9 button');\n",
              "      quickchartButtonEl.style.display =\n",
              "        google.colab.kernel.accessAllowed ? 'block' : 'none';\n",
              "    })();\n",
              "  </script>\n",
              "</div>\n",
              "\n",
              "    </div>\n",
              "  </div>\n"
            ]
          },
          "metadata": {},
          "execution_count": 8
        }
      ]
    },
    {
      "cell_type": "code",
      "source": [
        "columns = data.columns\n",
        "print(columns)\n",
        "print(data.size)"
      ],
      "metadata": {
        "execution": {
          "iopub.status.busy": "2024-02-10T17:20:19.318842Z",
          "iopub.execute_input": "2024-02-10T17:20:19.31926Z",
          "iopub.status.idle": "2024-02-10T17:20:19.326215Z",
          "shell.execute_reply.started": "2024-02-10T17:20:19.319222Z",
          "shell.execute_reply": "2024-02-10T17:20:19.325353Z"
        },
        "trusted": true,
        "id": "gUjjf4mq9Hn4",
        "outputId": "222ea573-6744-43ab-f5a8-02ba2ac14387",
        "colab": {
          "base_uri": "https://localhost:8080/"
        }
      },
      "execution_count": 9,
      "outputs": [
        {
          "output_type": "stream",
          "name": "stdout",
          "text": [
            "Index(['Roll No', 'Name', 'Caoching', 'High School Marks', '12th Appearing',\n",
            "       'Intermediate Marks', 'Income', 'Dummy', 'School Board',\n",
            "       'Device to Study', 'Online Course', 'Category', 'PwD', 'Age', 'Sex',\n",
            "       'Passed'],\n",
            "      dtype='object')\n",
            "1600000\n"
          ]
        }
      ]
    },
    {
      "cell_type": "code",
      "source": [
        "data.drop(['Roll No', 'Name'], axis=1, inplace=True)"
      ],
      "metadata": {
        "execution": {
          "iopub.status.busy": "2024-02-10T17:20:19.327465Z",
          "iopub.execute_input": "2024-02-10T17:20:19.32776Z",
          "iopub.status.idle": "2024-02-10T17:20:19.353764Z",
          "shell.execute_reply.started": "2024-02-10T17:20:19.327737Z",
          "shell.execute_reply": "2024-02-10T17:20:19.353018Z"
        },
        "trusted": true,
        "id": "Udbo4rMh9Hn4"
      },
      "execution_count": null,
      "outputs": []
    },
    {
      "cell_type": "code",
      "source": [
        "data.rename(columns={'Caoching':'coach', 'High School Marks':'hs_marks', '12th Appearing':'12_app', 'Intermediate Marks':'inter_marks', 'Income':'income', 'Dummy':'dummy', 'School Board':'board', 'Device to Study':'device', 'Online Course':'on_course', 'Category':'cat', 'PwD':'pwd', 'Age':'age', 'Sex':'sex','Passed':'pass'}, inplace=True)"
      ],
      "metadata": {
        "execution": {
          "iopub.status.busy": "2024-02-10T17:20:19.354754Z",
          "iopub.execute_input": "2024-02-10T17:20:19.355028Z",
          "iopub.status.idle": "2024-02-10T17:20:19.36088Z",
          "shell.execute_reply.started": "2024-02-10T17:20:19.355003Z",
          "shell.execute_reply": "2024-02-10T17:20:19.35991Z"
        },
        "trusted": true,
        "id": "ERkmL_mN9Hn5"
      },
      "execution_count": null,
      "outputs": []
    },
    {
      "cell_type": "code",
      "source": [
        "data.head()\n",
        "X = data.drop('pass', axis=1)\n",
        "Y = data['pass']"
      ],
      "metadata": {
        "execution": {
          "iopub.status.busy": "2024-02-10T17:20:19.362051Z",
          "iopub.execute_input": "2024-02-10T17:20:19.362364Z",
          "iopub.status.idle": "2024-02-10T17:20:19.381938Z",
          "shell.execute_reply.started": "2024-02-10T17:20:19.362333Z",
          "shell.execute_reply": "2024-02-10T17:20:19.381296Z"
        },
        "trusted": true,
        "id": "ozVA6EIS9Hn6"
      },
      "execution_count": null,
      "outputs": []
    },
    {
      "cell_type": "code",
      "source": [
        "X"
      ],
      "metadata": {
        "execution": {
          "iopub.status.busy": "2024-02-10T17:20:19.383062Z",
          "iopub.execute_input": "2024-02-10T17:20:19.383384Z",
          "iopub.status.idle": "2024-02-10T17:20:19.406085Z",
          "shell.execute_reply.started": "2024-02-10T17:20:19.383355Z",
          "shell.execute_reply": "2024-02-10T17:20:19.40527Z"
        },
        "trusted": true,
        "id": "_Uy0sm1m9Hn6",
        "outputId": "b2e02226-cac3-4f18-eb4d-52e797a09b2e"
      },
      "execution_count": null,
      "outputs": [
        {
          "execution_count": 9,
          "output_type": "execute_result",
          "data": {
            "text/plain": "      coach  hs_marks 12_app  inter_marks   income dummy              board  \\\n0        NO      80.5     NO         92.2    59000    NO  Maharashtra Board   \n1        NO      83.3    YES          NaN   390000    NO               BSEB   \n2        NO      76.4    YES          NaN  3140000    NO               CBSE   \n3       YES      89.7     NO         79.4   345000   YES           HP Board   \n4       YES      98.9     NO         95.3    29000    NO               CBSE   \n...     ...       ...    ...          ...      ...   ...                ...   \n99995   YES      78.3     NO         94.2   147000    NO               GSEB   \n99996    NO      93.7    YES          NaN   442000    NO               CBSE   \n99997   YES      76.8    YES          NaN    43000    NO               CBSE   \n99998   YES      87.0     NO         96.8    85000   YES           UP Board   \n99999   YES      96.4    YES          NaN   284000    NO               CBSE   \n\n       device on_course          cat  pwd  age sex  \n0      Laptop       YES  General-EWS   NO   20   M  \n1       Phone       YES           ST   NO   18   F  \n2         NaN       NaN      OBC-NCL   NO   18   M  \n3         NaN       NaN           SC   NO   21   M  \n4         NaN       NaN           SC  YES   17   M  \n...       ...       ...          ...  ...  ...  ..  \n99995   Phone       YES           ST   NO   18   M  \n99996  Tablet       YES     Minority   NO   20   F  \n99997     NaN       NaN      General   NO   19   M  \n99998     NaN       NaN  General-EWS   NO   18   F  \n99999     NaN       NaN  General-EWS   NO   20   F  \n\n[100000 rows x 13 columns]",
            "text/html": "<div>\n<style scoped>\n    .dataframe tbody tr th:only-of-type {\n        vertical-align: middle;\n    }\n\n    .dataframe tbody tr th {\n        vertical-align: top;\n    }\n\n    .dataframe thead th {\n        text-align: right;\n    }\n</style>\n<table border=\"1\" class=\"dataframe\">\n  <thead>\n    <tr style=\"text-align: right;\">\n      <th></th>\n      <th>coach</th>\n      <th>hs_marks</th>\n      <th>12_app</th>\n      <th>inter_marks</th>\n      <th>income</th>\n      <th>dummy</th>\n      <th>board</th>\n      <th>device</th>\n      <th>on_course</th>\n      <th>cat</th>\n      <th>pwd</th>\n      <th>age</th>\n      <th>sex</th>\n    </tr>\n  </thead>\n  <tbody>\n    <tr>\n      <th>0</th>\n      <td>NO</td>\n      <td>80.5</td>\n      <td>NO</td>\n      <td>92.2</td>\n      <td>59000</td>\n      <td>NO</td>\n      <td>Maharashtra Board</td>\n      <td>Laptop</td>\n      <td>YES</td>\n      <td>General-EWS</td>\n      <td>NO</td>\n      <td>20</td>\n      <td>M</td>\n    </tr>\n    <tr>\n      <th>1</th>\n      <td>NO</td>\n      <td>83.3</td>\n      <td>YES</td>\n      <td>NaN</td>\n      <td>390000</td>\n      <td>NO</td>\n      <td>BSEB</td>\n      <td>Phone</td>\n      <td>YES</td>\n      <td>ST</td>\n      <td>NO</td>\n      <td>18</td>\n      <td>F</td>\n    </tr>\n    <tr>\n      <th>2</th>\n      <td>NO</td>\n      <td>76.4</td>\n      <td>YES</td>\n      <td>NaN</td>\n      <td>3140000</td>\n      <td>NO</td>\n      <td>CBSE</td>\n      <td>NaN</td>\n      <td>NaN</td>\n      <td>OBC-NCL</td>\n      <td>NO</td>\n      <td>18</td>\n      <td>M</td>\n    </tr>\n    <tr>\n      <th>3</th>\n      <td>YES</td>\n      <td>89.7</td>\n      <td>NO</td>\n      <td>79.4</td>\n      <td>345000</td>\n      <td>YES</td>\n      <td>HP Board</td>\n      <td>NaN</td>\n      <td>NaN</td>\n      <td>SC</td>\n      <td>NO</td>\n      <td>21</td>\n      <td>M</td>\n    </tr>\n    <tr>\n      <th>4</th>\n      <td>YES</td>\n      <td>98.9</td>\n      <td>NO</td>\n      <td>95.3</td>\n      <td>29000</td>\n      <td>NO</td>\n      <td>CBSE</td>\n      <td>NaN</td>\n      <td>NaN</td>\n      <td>SC</td>\n      <td>YES</td>\n      <td>17</td>\n      <td>M</td>\n    </tr>\n    <tr>\n      <th>...</th>\n      <td>...</td>\n      <td>...</td>\n      <td>...</td>\n      <td>...</td>\n      <td>...</td>\n      <td>...</td>\n      <td>...</td>\n      <td>...</td>\n      <td>...</td>\n      <td>...</td>\n      <td>...</td>\n      <td>...</td>\n      <td>...</td>\n    </tr>\n    <tr>\n      <th>99995</th>\n      <td>YES</td>\n      <td>78.3</td>\n      <td>NO</td>\n      <td>94.2</td>\n      <td>147000</td>\n      <td>NO</td>\n      <td>GSEB</td>\n      <td>Phone</td>\n      <td>YES</td>\n      <td>ST</td>\n      <td>NO</td>\n      <td>18</td>\n      <td>M</td>\n    </tr>\n    <tr>\n      <th>99996</th>\n      <td>NO</td>\n      <td>93.7</td>\n      <td>YES</td>\n      <td>NaN</td>\n      <td>442000</td>\n      <td>NO</td>\n      <td>CBSE</td>\n      <td>Tablet</td>\n      <td>YES</td>\n      <td>Minority</td>\n      <td>NO</td>\n      <td>20</td>\n      <td>F</td>\n    </tr>\n    <tr>\n      <th>99997</th>\n      <td>YES</td>\n      <td>76.8</td>\n      <td>YES</td>\n      <td>NaN</td>\n      <td>43000</td>\n      <td>NO</td>\n      <td>CBSE</td>\n      <td>NaN</td>\n      <td>NaN</td>\n      <td>General</td>\n      <td>NO</td>\n      <td>19</td>\n      <td>M</td>\n    </tr>\n    <tr>\n      <th>99998</th>\n      <td>YES</td>\n      <td>87.0</td>\n      <td>NO</td>\n      <td>96.8</td>\n      <td>85000</td>\n      <td>YES</td>\n      <td>UP Board</td>\n      <td>NaN</td>\n      <td>NaN</td>\n      <td>General-EWS</td>\n      <td>NO</td>\n      <td>18</td>\n      <td>F</td>\n    </tr>\n    <tr>\n      <th>99999</th>\n      <td>YES</td>\n      <td>96.4</td>\n      <td>YES</td>\n      <td>NaN</td>\n      <td>284000</td>\n      <td>NO</td>\n      <td>CBSE</td>\n      <td>NaN</td>\n      <td>NaN</td>\n      <td>General-EWS</td>\n      <td>NO</td>\n      <td>20</td>\n      <td>F</td>\n    </tr>\n  </tbody>\n</table>\n<p>100000 rows × 13 columns</p>\n</div>"
          },
          "metadata": {}
        }
      ]
    },
    {
      "cell_type": "code",
      "source": [
        "Y"
      ],
      "metadata": {
        "execution": {
          "iopub.status.busy": "2024-02-10T17:20:19.409219Z",
          "iopub.execute_input": "2024-02-10T17:20:19.409468Z",
          "iopub.status.idle": "2024-02-10T17:20:19.416769Z",
          "shell.execute_reply.started": "2024-02-10T17:20:19.409447Z",
          "shell.execute_reply": "2024-02-10T17:20:19.415743Z"
        },
        "trusted": true,
        "id": "-JySFHtJ9Hn6",
        "outputId": "fb87c652-2a0a-47a0-b426-5b6eaf01f143"
      },
      "execution_count": null,
      "outputs": [
        {
          "execution_count": 10,
          "output_type": "execute_result",
          "data": {
            "text/plain": "0        FAIL\n1        FAIL\n2        FAIL\n3        PASS\n4        PASS\n         ... \n99995    PASS\n99996    FAIL\n99997    PASS\n99998    PASS\n99999    PASS\nName: pass, Length: 100000, dtype: object"
          },
          "metadata": {}
        }
      ]
    },
    {
      "cell_type": "code",
      "source": [
        "mapping = {\"PASS\": 1, \"FAIL\": 0}\n",
        "converted_array = [mapping[value] for value in Y]\n",
        "Y=converted_array"
      ],
      "metadata": {
        "execution": {
          "iopub.status.busy": "2024-02-10T17:20:19.417884Z",
          "iopub.execute_input": "2024-02-10T17:20:19.418194Z",
          "iopub.status.idle": "2024-02-10T17:20:19.44447Z",
          "shell.execute_reply.started": "2024-02-10T17:20:19.41817Z",
          "shell.execute_reply": "2024-02-10T17:20:19.443655Z"
        },
        "trusted": true,
        "id": "_-7OpEM49Hn7"
      },
      "execution_count": null,
      "outputs": []
    },
    {
      "cell_type": "code",
      "source": [
        "Y=np.array(Y)\n",
        "Y"
      ],
      "metadata": {
        "execution": {
          "iopub.status.busy": "2024-02-10T17:20:19.445563Z",
          "iopub.execute_input": "2024-02-10T17:20:19.445793Z",
          "iopub.status.idle": "2024-02-10T17:20:19.461803Z",
          "shell.execute_reply.started": "2024-02-10T17:20:19.445773Z",
          "shell.execute_reply": "2024-02-10T17:20:19.460732Z"
        },
        "trusted": true,
        "id": "ve6LrCti9Hn7",
        "outputId": "e74a383b-372b-4343-e928-06b7eb2dad73"
      },
      "execution_count": null,
      "outputs": [
        {
          "execution_count": 12,
          "output_type": "execute_result",
          "data": {
            "text/plain": "array([0, 0, 0, ..., 1, 1, 1])"
          },
          "metadata": {}
        }
      ]
    },
    {
      "cell_type": "code",
      "source": [
        "print(X.isna().sum())"
      ],
      "metadata": {
        "execution": {
          "iopub.status.busy": "2024-02-10T17:20:19.463229Z",
          "iopub.execute_input": "2024-02-10T17:20:19.463491Z",
          "iopub.status.idle": "2024-02-10T17:20:19.553354Z",
          "shell.execute_reply.started": "2024-02-10T17:20:19.463467Z",
          "shell.execute_reply": "2024-02-10T17:20:19.552165Z"
        },
        "trusted": true,
        "id": "84sLne8z9Hn7",
        "outputId": "5bf1f15f-7285-4f60-82a1-69f34bb19303"
      },
      "execution_count": null,
      "outputs": [
        {
          "name": "stdout",
          "text": "coach              0\nhs_marks           0\n12_app             0\ninter_marks    39931\nincome             0\ndummy              0\nboard              0\ndevice         50066\non_course      65062\ncat                0\npwd                0\nage                0\nsex                0\ndtype: int64\n",
          "output_type": "stream"
        }
      ]
    },
    {
      "cell_type": "code",
      "source": [
        "test_dat = pd.read_csv('/kaggle/input/yamunas-odyssey-a-dream-to-conquer-iit-jammu/test.csv')\n",
        "test_dat.head()"
      ],
      "metadata": {
        "execution": {
          "iopub.status.busy": "2024-02-10T17:20:19.555016Z",
          "iopub.execute_input": "2024-02-10T17:20:19.555536Z",
          "iopub.status.idle": "2024-02-10T17:20:19.591494Z",
          "shell.execute_reply.started": "2024-02-10T17:20:19.555498Z",
          "shell.execute_reply": "2024-02-10T17:20:19.59066Z"
        },
        "trusted": true,
        "id": "bUkT0A7G9Hn8",
        "outputId": "493229d0-d4e2-4efb-c254-885730537f9f"
      },
      "execution_count": null,
      "outputs": [
        {
          "execution_count": 14,
          "output_type": "execute_result",
          "data": {
            "text/plain": "     Roll No         Name Caoching  High School Marks 12th Appearing  \\\n0  546722345  GIJPQ ZYZPW      YES               87.3             NO   \n1  546722346  YJMBL EIQFA      YES               81.9            YES   \n2  546722347  POTQM FVTEG      YES               75.8            YES   \n3  546722348  VNPZP BMQTZ       NO               97.8             NO   \n4  546722349  CDAAU LMXVV      YES               90.0             NO   \n\n   Intermediate Marks  Income Dummy       School Board Device to Study  \\\n0                83.5  393000    NO           AP Board             NaN   \n1                 NaN  174000    NO  Maharashtra Board          Tablet   \n2                 NaN   13000   YES          Goa Board             NaN   \n3                98.7  122000    NO               CBSE          Laptop   \n4                93.6  124000    NO           MP Board           Phone   \n\n  Online Course     Category PwD  Age Sex  \n0           NaN  General-EWS  NO   16   M  \n1           YES      OBC-NCL  NO   21   F  \n2           NaN  General-EWS  NO   21   F  \n3           YES           ST  NO   19   M  \n4           NaN           SC  NO   16   F  ",
            "text/html": "<div>\n<style scoped>\n    .dataframe tbody tr th:only-of-type {\n        vertical-align: middle;\n    }\n\n    .dataframe tbody tr th {\n        vertical-align: top;\n    }\n\n    .dataframe thead th {\n        text-align: right;\n    }\n</style>\n<table border=\"1\" class=\"dataframe\">\n  <thead>\n    <tr style=\"text-align: right;\">\n      <th></th>\n      <th>Roll No</th>\n      <th>Name</th>\n      <th>Caoching</th>\n      <th>High School Marks</th>\n      <th>12th Appearing</th>\n      <th>Intermediate Marks</th>\n      <th>Income</th>\n      <th>Dummy</th>\n      <th>School Board</th>\n      <th>Device to Study</th>\n      <th>Online Course</th>\n      <th>Category</th>\n      <th>PwD</th>\n      <th>Age</th>\n      <th>Sex</th>\n    </tr>\n  </thead>\n  <tbody>\n    <tr>\n      <th>0</th>\n      <td>546722345</td>\n      <td>GIJPQ ZYZPW</td>\n      <td>YES</td>\n      <td>87.3</td>\n      <td>NO</td>\n      <td>83.5</td>\n      <td>393000</td>\n      <td>NO</td>\n      <td>AP Board</td>\n      <td>NaN</td>\n      <td>NaN</td>\n      <td>General-EWS</td>\n      <td>NO</td>\n      <td>16</td>\n      <td>M</td>\n    </tr>\n    <tr>\n      <th>1</th>\n      <td>546722346</td>\n      <td>YJMBL EIQFA</td>\n      <td>YES</td>\n      <td>81.9</td>\n      <td>YES</td>\n      <td>NaN</td>\n      <td>174000</td>\n      <td>NO</td>\n      <td>Maharashtra Board</td>\n      <td>Tablet</td>\n      <td>YES</td>\n      <td>OBC-NCL</td>\n      <td>NO</td>\n      <td>21</td>\n      <td>F</td>\n    </tr>\n    <tr>\n      <th>2</th>\n      <td>546722347</td>\n      <td>POTQM FVTEG</td>\n      <td>YES</td>\n      <td>75.8</td>\n      <td>YES</td>\n      <td>NaN</td>\n      <td>13000</td>\n      <td>YES</td>\n      <td>Goa Board</td>\n      <td>NaN</td>\n      <td>NaN</td>\n      <td>General-EWS</td>\n      <td>NO</td>\n      <td>21</td>\n      <td>F</td>\n    </tr>\n    <tr>\n      <th>3</th>\n      <td>546722348</td>\n      <td>VNPZP BMQTZ</td>\n      <td>NO</td>\n      <td>97.8</td>\n      <td>NO</td>\n      <td>98.7</td>\n      <td>122000</td>\n      <td>NO</td>\n      <td>CBSE</td>\n      <td>Laptop</td>\n      <td>YES</td>\n      <td>ST</td>\n      <td>NO</td>\n      <td>19</td>\n      <td>M</td>\n    </tr>\n    <tr>\n      <th>4</th>\n      <td>546722349</td>\n      <td>CDAAU LMXVV</td>\n      <td>YES</td>\n      <td>90.0</td>\n      <td>NO</td>\n      <td>93.6</td>\n      <td>124000</td>\n      <td>NO</td>\n      <td>MP Board</td>\n      <td>Phone</td>\n      <td>NaN</td>\n      <td>SC</td>\n      <td>NO</td>\n      <td>16</td>\n      <td>F</td>\n    </tr>\n  </tbody>\n</table>\n</div>"
          },
          "metadata": {}
        }
      ]
    },
    {
      "cell_type": "code",
      "source": [
        "inter_mean = X['inter_marks'].mean();"
      ],
      "metadata": {
        "execution": {
          "iopub.status.busy": "2024-02-10T17:20:19.592621Z",
          "iopub.execute_input": "2024-02-10T17:20:19.592973Z",
          "iopub.status.idle": "2024-02-10T17:20:19.597759Z",
          "shell.execute_reply.started": "2024-02-10T17:20:19.592946Z",
          "shell.execute_reply": "2024-02-10T17:20:19.596893Z"
        },
        "trusted": true,
        "id": "G-j-L3m89Hn8"
      },
      "execution_count": null,
      "outputs": []
    },
    {
      "cell_type": "code",
      "source": [
        "X['inter_marks'] = X['inter_marks'].fillna(X['inter_marks'].mean())"
      ],
      "metadata": {
        "execution": {
          "iopub.status.busy": "2024-02-10T17:20:19.599292Z",
          "iopub.execute_input": "2024-02-10T17:20:19.599783Z",
          "iopub.status.idle": "2024-02-10T17:20:19.608421Z",
          "shell.execute_reply.started": "2024-02-10T17:20:19.599723Z",
          "shell.execute_reply": "2024-02-10T17:20:19.60752Z"
        },
        "trusted": true,
        "id": "I3baZUUw9Hn8"
      },
      "execution_count": null,
      "outputs": []
    },
    {
      "cell_type": "code",
      "source": [
        "print(X.isna().sum())"
      ],
      "metadata": {
        "execution": {
          "iopub.status.busy": "2024-02-10T17:20:19.609441Z",
          "iopub.execute_input": "2024-02-10T17:20:19.609713Z",
          "iopub.status.idle": "2024-02-10T17:20:19.692881Z",
          "shell.execute_reply.started": "2024-02-10T17:20:19.60969Z",
          "shell.execute_reply": "2024-02-10T17:20:19.691832Z"
        },
        "trusted": true,
        "id": "NPhFg9tA9Hn9",
        "outputId": "6f55ad89-9e15-4bd8-d690-df047dec228d"
      },
      "execution_count": null,
      "outputs": [
        {
          "name": "stdout",
          "text": "coach              0\nhs_marks           0\n12_app             0\ninter_marks        0\nincome             0\ndummy              0\nboard              0\ndevice         50066\non_course      65062\ncat                0\npwd                0\nage                0\nsex                0\ndtype: int64\n",
          "output_type": "stream"
        }
      ]
    },
    {
      "cell_type": "code",
      "source": [
        "value_counts = data['device'].value_counts()\n",
        "plt.bar(value_counts.index, value_counts.values)"
      ],
      "metadata": {
        "execution": {
          "iopub.status.busy": "2024-02-10T17:20:19.69422Z",
          "iopub.execute_input": "2024-02-10T17:20:19.694606Z",
          "iopub.status.idle": "2024-02-10T17:20:19.909425Z",
          "shell.execute_reply.started": "2024-02-10T17:20:19.694568Z",
          "shell.execute_reply": "2024-02-10T17:20:19.908417Z"
        },
        "trusted": true,
        "id": "gH0zuUL29Hn9",
        "outputId": "8ca56481-d6eb-4200-8c3c-73cf6cca8bd6"
      },
      "execution_count": null,
      "outputs": [
        {
          "execution_count": 18,
          "output_type": "execute_result",
          "data": {
            "text/plain": "<BarContainer object of 3 artists>"
          },
          "metadata": {}
        },
        {
          "output_type": "display_data",
          "data": {
            "text/plain": "<Figure size 640x480 with 1 Axes>",
            "image/png": "[encoded data removed]"
          },
          "metadata": {}
        }
      ]
    },
    {
      "cell_type": "code",
      "source": [
        "value_counts = data['on_course'].value_counts()\n",
        "plt.bar(value_counts.index, value_counts.values)"
      ],
      "metadata": {
        "execution": {
          "iopub.status.busy": "2024-02-10T17:20:19.910749Z",
          "iopub.execute_input": "2024-02-10T17:20:19.911161Z",
          "iopub.status.idle": "2024-02-10T17:20:20.071461Z",
          "shell.execute_reply.started": "2024-02-10T17:20:19.911122Z",
          "shell.execute_reply": "2024-02-10T17:20:20.070479Z"
        },
        "trusted": true,
        "id": "FLvfk3Dv9Hn9",
        "outputId": "222686b6-d713-474c-872e-ae9f7fd7cab5"
      },
      "execution_count": null,
      "outputs": [
        {
          "execution_count": 19,
          "output_type": "execute_result",
          "data": {
            "text/plain": "<BarContainer object of 1 artists>"
          },
          "metadata": {}
        },
        {
          "output_type": "display_data",
          "data": {
            "text/plain": "<Figure size 640x480 with 1 Axes>",
            "image/png": "[encoded data removed]"
          },
          "metadata": {}
        }
      ]
    },
    {
      "cell_type": "code",
      "source": [
        "X.drop('device', axis=1, inplace=True)"
      ],
      "metadata": {
        "execution": {
          "iopub.status.busy": "2024-02-10T17:20:20.07254Z",
          "iopub.execute_input": "2024-02-10T17:20:20.072821Z",
          "iopub.status.idle": "2024-02-10T17:20:20.091598Z",
          "shell.execute_reply.started": "2024-02-10T17:20:20.072796Z",
          "shell.execute_reply": "2024-02-10T17:20:20.090752Z"
        },
        "trusted": true,
        "id": "Bh6XmU4Q9Hn9"
      },
      "execution_count": null,
      "outputs": []
    },
    {
      "cell_type": "code",
      "source": [
        "X"
      ],
      "metadata": {
        "execution": {
          "iopub.status.busy": "2024-02-10T17:20:20.092661Z",
          "iopub.execute_input": "2024-02-10T17:20:20.092961Z",
          "iopub.status.idle": "2024-02-10T17:20:20.111893Z",
          "shell.execute_reply.started": "2024-02-10T17:20:20.092936Z",
          "shell.execute_reply": "2024-02-10T17:20:20.110914Z"
        },
        "trusted": true,
        "id": "VgOybw8L9Hn-",
        "outputId": "08741128-b42b-43f1-8948-ac5972700438"
      },
      "execution_count": null,
      "outputs": [
        {
          "execution_count": 21,
          "output_type": "execute_result",
          "data": {
            "text/plain": "      coach  hs_marks 12_app  inter_marks   income dummy              board  \\\n0        NO      80.5     NO    92.200000    59000    NO  Maharashtra Board   \n1        NO      83.3    YES    87.419339   390000    NO               BSEB   \n2        NO      76.4    YES    87.419339  3140000    NO               CBSE   \n3       YES      89.7     NO    79.400000   345000   YES           HP Board   \n4       YES      98.9     NO    95.300000    29000    NO               CBSE   \n...     ...       ...    ...          ...      ...   ...                ...   \n99995   YES      78.3     NO    94.200000   147000    NO               GSEB   \n99996    NO      93.7    YES    87.419339   442000    NO               CBSE   \n99997   YES      76.8    YES    87.419339    43000    NO               CBSE   \n99998   YES      87.0     NO    96.800000    85000   YES           UP Board   \n99999   YES      96.4    YES    87.419339   284000    NO               CBSE   \n\n      on_course          cat  pwd  age sex  \n0           YES  General-EWS   NO   20   M  \n1           YES           ST   NO   18   F  \n2           NaN      OBC-NCL   NO   18   M  \n3           NaN           SC   NO   21   M  \n4           NaN           SC  YES   17   M  \n...         ...          ...  ...  ...  ..  \n99995       YES           ST   NO   18   M  \n99996       YES     Minority   NO   20   F  \n99997       NaN      General   NO   19   M  \n99998       NaN  General-EWS   NO   18   F  \n99999       NaN  General-EWS   NO   20   F  \n\n[100000 rows x 12 columns]",
            "text/html": "<div>\n<style scoped>\n    .dataframe tbody tr th:only-of-type {\n        vertical-align: middle;\n    }\n\n    .dataframe tbody tr th {\n        vertical-align: top;\n    }\n\n    .dataframe thead th {\n        text-align: right;\n    }\n</style>\n<table border=\"1\" class=\"dataframe\">\n  <thead>\n    <tr style=\"text-align: right;\">\n      <th></th>\n      <th>coach</th>\n      <th>hs_marks</th>\n      <th>12_app</th>\n      <th>inter_marks</th>\n      <th>income</th>\n      <th>dummy</th>\n      <th>board</th>\n      <th>on_course</th>\n      <th>cat</th>\n      <th>pwd</th>\n      <th>age</th>\n      <th>sex</th>\n    </tr>\n  </thead>\n  <tbody>\n    <tr>\n      <th>0</th>\n      <td>NO</td>\n      <td>80.5</td>\n      <td>NO</td>\n      <td>92.200000</td>\n      <td>59000</td>\n      <td>NO</td>\n      <td>Maharashtra Board</td>\n      <td>YES</td>\n      <td>General-EWS</td>\n      <td>NO</td>\n      <td>20</td>\n      <td>M</td>\n    </tr>\n    <tr>\n      <th>1</th>\n      <td>NO</td>\n      <td>83.3</td>\n      <td>YES</td>\n      <td>87.419339</td>\n      <td>390000</td>\n      <td>NO</td>\n      <td>BSEB</td>\n      <td>YES</td>\n      <td>ST</td>\n      <td>NO</td>\n      <td>18</td>\n      <td>F</td>\n    </tr>\n    <tr>\n      <th>2</th>\n      <td>NO</td>\n      <td>76.4</td>\n      <td>YES</td>\n      <td>87.419339</td>\n      <td>3140000</td>\n      <td>NO</td>\n      <td>CBSE</td>\n      <td>NaN</td>\n      <td>OBC-NCL</td>\n      <td>NO</td>\n      <td>18</td>\n      <td>M</td>\n    </tr>\n    <tr>\n      <th>3</th>\n      <td>YES</td>\n      <td>89.7</td>\n      <td>NO</td>\n      <td>79.400000</td>\n      <td>345000</td>\n      <td>YES</td>\n      <td>HP Board</td>\n      <td>NaN</td>\n      <td>SC</td>\n      <td>NO</td>\n      <td>21</td>\n      <td>M</td>\n    </tr>\n    <tr>\n      <th>4</th>\n      <td>YES</td>\n      <td>98.9</td>\n      <td>NO</td>\n      <td>95.300000</td>\n      <td>29000</td>\n      <td>NO</td>\n      <td>CBSE</td>\n      <td>NaN</td>\n      <td>SC</td>\n      <td>YES</td>\n      <td>17</td>\n      <td>M</td>\n    </tr>\n    <tr>\n      <th>...</th>\n      <td>...</td>\n      <td>...</td>\n      <td>...</td>\n      <td>...</td>\n      <td>...</td>\n      <td>...</td>\n      <td>...</td>\n      <td>...</td>\n      <td>...</td>\n      <td>...</td>\n      <td>...</td>\n      <td>...</td>\n    </tr>\n    <tr>\n      <th>99995</th>\n      <td>YES</td>\n      <td>78.3</td>\n      <td>NO</td>\n      <td>94.200000</td>\n      <td>147000</td>\n      <td>NO</td>\n      <td>GSEB</td>\n      <td>YES</td>\n      <td>ST</td>\n      <td>NO</td>\n      <td>18</td>\n      <td>M</td>\n    </tr>\n    <tr>\n      <th>99996</th>\n      <td>NO</td>\n      <td>93.7</td>\n      <td>YES</td>\n      <td>87.419339</td>\n      <td>442000</td>\n      <td>NO</td>\n      <td>CBSE</td>\n      <td>YES</td>\n      <td>Minority</td>\n      <td>NO</td>\n      <td>20</td>\n      <td>F</td>\n    </tr>\n    <tr>\n      <th>99997</th>\n      <td>YES</td>\n      <td>76.8</td>\n      <td>YES</td>\n      <td>87.419339</td>\n      <td>43000</td>\n      <td>NO</td>\n      <td>CBSE</td>\n      <td>NaN</td>\n      <td>General</td>\n      <td>NO</td>\n      <td>19</td>\n      <td>M</td>\n    </tr>\n    <tr>\n      <th>99998</th>\n      <td>YES</td>\n      <td>87.0</td>\n      <td>NO</td>\n      <td>96.800000</td>\n      <td>85000</td>\n      <td>YES</td>\n      <td>UP Board</td>\n      <td>NaN</td>\n      <td>General-EWS</td>\n      <td>NO</td>\n      <td>18</td>\n      <td>F</td>\n    </tr>\n    <tr>\n      <th>99999</th>\n      <td>YES</td>\n      <td>96.4</td>\n      <td>YES</td>\n      <td>87.419339</td>\n      <td>284000</td>\n      <td>NO</td>\n      <td>CBSE</td>\n      <td>NaN</td>\n      <td>General-EWS</td>\n      <td>NO</td>\n      <td>20</td>\n      <td>F</td>\n    </tr>\n  </tbody>\n</table>\n<p>100000 rows × 12 columns</p>\n</div>"
          },
          "metadata": {}
        }
      ]
    },
    {
      "cell_type": "code",
      "source": [
        "X['on_course'] = X['on_course'].fillna('NO')"
      ],
      "metadata": {
        "execution": {
          "iopub.status.busy": "2024-02-10T17:20:20.113261Z",
          "iopub.execute_input": "2024-02-10T17:20:20.113632Z",
          "iopub.status.idle": "2024-02-10T17:20:20.129829Z",
          "shell.execute_reply.started": "2024-02-10T17:20:20.113598Z",
          "shell.execute_reply": "2024-02-10T17:20:20.128902Z"
        },
        "trusted": true,
        "id": "YLPEN4ua9Hn-"
      },
      "execution_count": null,
      "outputs": []
    },
    {
      "cell_type": "code",
      "source": [
        "X"
      ],
      "metadata": {
        "execution": {
          "iopub.status.busy": "2024-02-10T17:20:20.13117Z",
          "iopub.execute_input": "2024-02-10T17:20:20.131518Z",
          "iopub.status.idle": "2024-02-10T17:20:20.14981Z",
          "shell.execute_reply.started": "2024-02-10T17:20:20.131488Z",
          "shell.execute_reply": "2024-02-10T17:20:20.14902Z"
        },
        "trusted": true,
        "id": "yl-m6-Bk9Hn-",
        "outputId": "9f37d475-6c57-4097-cbe7-259a6823a005"
      },
      "execution_count": null,
      "outputs": [
        {
          "execution_count": 23,
          "output_type": "execute_result",
          "data": {
            "text/plain": "      coach  hs_marks 12_app  inter_marks   income dummy              board  \\\n0        NO      80.5     NO    92.200000    59000    NO  Maharashtra Board   \n1        NO      83.3    YES    87.419339   390000    NO               BSEB   \n2        NO      76.4    YES    87.419339  3140000    NO               CBSE   \n3       YES      89.7     NO    79.400000   345000   YES           HP Board   \n4       YES      98.9     NO    95.300000    29000    NO               CBSE   \n...     ...       ...    ...          ...      ...   ...                ...   \n99995   YES      78.3     NO    94.200000   147000    NO               GSEB   \n99996    NO      93.7    YES    87.419339   442000    NO               CBSE   \n99997   YES      76.8    YES    87.419339    43000    NO               CBSE   \n99998   YES      87.0     NO    96.800000    85000   YES           UP Board   \n99999   YES      96.4    YES    87.419339   284000    NO               CBSE   \n\n      on_course          cat  pwd  age sex  \n0           YES  General-EWS   NO   20   M  \n1           YES           ST   NO   18   F  \n2            NO      OBC-NCL   NO   18   M  \n3            NO           SC   NO   21   M  \n4            NO           SC  YES   17   M  \n...         ...          ...  ...  ...  ..  \n99995       YES           ST   NO   18   M  \n99996       YES     Minority   NO   20   F  \n99997        NO      General   NO   19   M  \n99998        NO  General-EWS   NO   18   F  \n99999        NO  General-EWS   NO   20   F  \n\n[100000 rows x 12 columns]",
            "text/html": "<div>\n<style scoped>\n    .dataframe tbody tr th:only-of-type {\n        vertical-align: middle;\n    }\n\n    .dataframe tbody tr th {\n        vertical-align: top;\n    }\n\n    .dataframe thead th {\n        text-align: right;\n    }\n</style>\n<table border=\"1\" class=\"dataframe\">\n  <thead>\n    <tr style=\"text-align: right;\">\n      <th></th>\n      <th>coach</th>\n      <th>hs_marks</th>\n      <th>12_app</th>\n      <th>inter_marks</th>\n      <th>income</th>\n      <th>dummy</th>\n      <th>board</th>\n      <th>on_course</th>\n      <th>cat</th>\n      <th>pwd</th>\n      <th>age</th>\n      <th>sex</th>\n    </tr>\n  </thead>\n  <tbody>\n    <tr>\n      <th>0</th>\n      <td>NO</td>\n      <td>80.5</td>\n      <td>NO</td>\n      <td>92.200000</td>\n      <td>59000</td>\n      <td>NO</td>\n      <td>Maharashtra Board</td>\n      <td>YES</td>\n      <td>General-EWS</td>\n      <td>NO</td>\n      <td>20</td>\n      <td>M</td>\n    </tr>\n    <tr>\n      <th>1</th>\n      <td>NO</td>\n      <td>83.3</td>\n      <td>YES</td>\n      <td>87.419339</td>\n      <td>390000</td>\n      <td>NO</td>\n      <td>BSEB</td>\n      <td>YES</td>\n      <td>ST</td>\n      <td>NO</td>\n      <td>18</td>\n      <td>F</td>\n    </tr>\n    <tr>\n      <th>2</th>\n      <td>NO</td>\n      <td>76.4</td>\n      <td>YES</td>\n      <td>87.419339</td>\n      <td>3140000</td>\n      <td>NO</td>\n      <td>CBSE</td>\n      <td>NO</td>\n      <td>OBC-NCL</td>\n      <td>NO</td>\n      <td>18</td>\n      <td>M</td>\n    </tr>\n    <tr>\n      <th>3</th>\n      <td>YES</td>\n      <td>89.7</td>\n      <td>NO</td>\n      <td>79.400000</td>\n      <td>345000</td>\n      <td>YES</td>\n      <td>HP Board</td>\n      <td>NO</td>\n      <td>SC</td>\n      <td>NO</td>\n      <td>21</td>\n      <td>M</td>\n    </tr>\n    <tr>\n      <th>4</th>\n      <td>YES</td>\n      <td>98.9</td>\n      <td>NO</td>\n      <td>95.300000</td>\n      <td>29000</td>\n      <td>NO</td>\n      <td>CBSE</td>\n      <td>NO</td>\n      <td>SC</td>\n      <td>YES</td>\n      <td>17</td>\n      <td>M</td>\n    </tr>\n    <tr>\n      <th>...</th>\n      <td>...</td>\n      <td>...</td>\n      <td>...</td>\n      <td>...</td>\n      <td>...</td>\n      <td>...</td>\n      <td>...</td>\n      <td>...</td>\n      <td>...</td>\n      <td>...</td>\n      <td>...</td>\n      <td>...</td>\n    </tr>\n    <tr>\n      <th>99995</th>\n      <td>YES</td>\n      <td>78.3</td>\n      <td>NO</td>\n      <td>94.200000</td>\n      <td>147000</td>\n      <td>NO</td>\n      <td>GSEB</td>\n      <td>YES</td>\n      <td>ST</td>\n      <td>NO</td>\n      <td>18</td>\n      <td>M</td>\n    </tr>\n    <tr>\n      <th>99996</th>\n      <td>NO</td>\n      <td>93.7</td>\n      <td>YES</td>\n      <td>87.419339</td>\n      <td>442000</td>\n      <td>NO</td>\n      <td>CBSE</td>\n      <td>YES</td>\n      <td>Minority</td>\n      <td>NO</td>\n      <td>20</td>\n      <td>F</td>\n    </tr>\n    <tr>\n      <th>99997</th>\n      <td>YES</td>\n      <td>76.8</td>\n      <td>YES</td>\n      <td>87.419339</td>\n      <td>43000</td>\n      <td>NO</td>\n      <td>CBSE</td>\n      <td>NO</td>\n      <td>General</td>\n      <td>NO</td>\n      <td>19</td>\n      <td>M</td>\n    </tr>\n    <tr>\n      <th>99998</th>\n      <td>YES</td>\n      <td>87.0</td>\n      <td>NO</td>\n      <td>96.800000</td>\n      <td>85000</td>\n      <td>YES</td>\n      <td>UP Board</td>\n      <td>NO</td>\n      <td>General-EWS</td>\n      <td>NO</td>\n      <td>18</td>\n      <td>F</td>\n    </tr>\n    <tr>\n      <th>99999</th>\n      <td>YES</td>\n      <td>96.4</td>\n      <td>YES</td>\n      <td>87.419339</td>\n      <td>284000</td>\n      <td>NO</td>\n      <td>CBSE</td>\n      <td>NO</td>\n      <td>General-EWS</td>\n      <td>NO</td>\n      <td>20</td>\n      <td>F</td>\n    </tr>\n  </tbody>\n</table>\n<p>100000 rows × 12 columns</p>\n</div>"
          },
          "metadata": {}
        }
      ]
    },
    {
      "cell_type": "code",
      "source": [
        "print(X.isna().sum())"
      ],
      "metadata": {
        "execution": {
          "iopub.status.busy": "2024-02-10T17:20:20.150812Z",
          "iopub.execute_input": "2024-02-10T17:20:20.151154Z",
          "iopub.status.idle": "2024-02-10T17:20:20.233417Z",
          "shell.execute_reply.started": "2024-02-10T17:20:20.151128Z",
          "shell.execute_reply": "2024-02-10T17:20:20.232504Z"
        },
        "trusted": true,
        "id": "IH9Xn6Jt9Hn-",
        "outputId": "306789b3-0a44-42fb-b6f4-20167ff01266"
      },
      "execution_count": null,
      "outputs": [
        {
          "name": "stdout",
          "text": "coach          0\nhs_marks       0\n12_app         0\ninter_marks    0\nincome         0\ndummy          0\nboard          0\non_course      0\ncat            0\npwd            0\nage            0\nsex            0\ndtype: int64\n",
          "output_type": "stream"
        }
      ]
    },
    {
      "cell_type": "code",
      "source": [
        "scaler = StandardScaler()\n",
        "\n",
        "numerical_columns = ['hs_marks', 'inter_marks','income','age']\n",
        "scaler.fit(X[numerical_columns])\n",
        "scaled_data = scaler.transform(X[numerical_columns])\n",
        "for i, col in enumerate(numerical_columns):\n",
        "    X['scaled_' + col] = scaled_data[:, i]"
      ],
      "metadata": {
        "execution": {
          "iopub.status.busy": "2024-02-10T17:20:20.234409Z",
          "iopub.execute_input": "2024-02-10T17:20:20.234655Z",
          "iopub.status.idle": "2024-02-10T17:20:20.254798Z",
          "shell.execute_reply.started": "2024-02-10T17:20:20.234634Z",
          "shell.execute_reply": "2024-02-10T17:20:20.254075Z"
        },
        "trusted": true,
        "id": "L3Jg6cJ-9Hn-"
      },
      "execution_count": null,
      "outputs": []
    },
    {
      "cell_type": "code",
      "source": [
        "X.drop(numerical_columns, axis=1, inplace=True)"
      ],
      "metadata": {
        "execution": {
          "iopub.status.busy": "2024-02-10T17:20:20.256041Z",
          "iopub.execute_input": "2024-02-10T17:20:20.256751Z",
          "iopub.status.idle": "2024-02-10T17:20:20.275441Z",
          "shell.execute_reply.started": "2024-02-10T17:20:20.256715Z",
          "shell.execute_reply": "2024-02-10T17:20:20.274636Z"
        },
        "trusted": true,
        "id": "1Jt2ci0f9Hn_"
      },
      "execution_count": null,
      "outputs": []
    },
    {
      "cell_type": "code",
      "source": [
        "X"
      ],
      "metadata": {
        "execution": {
          "iopub.status.busy": "2024-02-10T17:20:20.276426Z",
          "iopub.execute_input": "2024-02-10T17:20:20.276696Z",
          "iopub.status.idle": "2024-02-10T17:20:20.296535Z",
          "shell.execute_reply.started": "2024-02-10T17:20:20.276672Z",
          "shell.execute_reply": "2024-02-10T17:20:20.295498Z"
        },
        "trusted": true,
        "id": "pNMYDaNj9Hn_",
        "outputId": "bcda944c-51fa-4243-94ff-0e15e0299eb0"
      },
      "execution_count": null,
      "outputs": [
        {
          "execution_count": 27,
          "output_type": "execute_result",
          "data": {
            "text/plain": "      coach 12_app dummy              board on_course          cat  pwd sex  \\\n0        NO     NO    NO  Maharashtra Board       YES  General-EWS   NO   M   \n1        NO    YES    NO               BSEB       YES           ST   NO   F   \n2        NO    YES    NO               CBSE        NO      OBC-NCL   NO   M   \n3       YES     NO   YES           HP Board        NO           SC   NO   M   \n4       YES     NO    NO               CBSE        NO           SC  YES   M   \n...     ...    ...   ...                ...       ...          ...  ...  ..   \n99995   YES     NO    NO               GSEB       YES           ST   NO   M   \n99996    NO    YES    NO               CBSE       YES     Minority   NO   F   \n99997   YES    YES    NO               CBSE        NO      General   NO   M   \n99998   YES     NO   YES           UP Board        NO  General-EWS   NO   F   \n99999   YES    YES    NO               CBSE        NO  General-EWS   NO   F   \n\n       scaled_hs_marks  scaled_inter_marks  scaled_income  scaled_age  \n0            -0.960002            0.849966      -0.438280    0.876842  \n1            -0.574427            0.000000      -0.063489   -0.292577  \n2            -1.524593            0.000000       3.050335   -0.292577  \n3             0.306886           -1.425780      -0.114443    1.461551  \n4             1.573774            1.401124      -0.472249   -0.877286  \n...                ...                 ...            ...         ...  \n99995        -1.262953            1.205552      -0.338638   -0.292577  \n99996         0.857707            0.000000      -0.004610    0.876842  \n99997        -1.469511            0.000000      -0.456397    0.292132  \n99998        -0.064918            1.667813      -0.408841   -0.292577  \n99999         1.229511            0.000000      -0.183513    0.876842  \n\n[100000 rows x 12 columns]",
            "text/html": "<div>\n<style scoped>\n    .dataframe tbody tr th:only-of-type {\n        vertical-align: middle;\n    }\n\n    .dataframe tbody tr th {\n        vertical-align: top;\n    }\n\n    .dataframe thead th {\n        text-align: right;\n    }\n</style>\n<table border=\"1\" class=\"dataframe\">\n  <thead>\n    <tr style=\"text-align: right;\">\n      <th></th>\n      <th>coach</th>\n      <th>12_app</th>\n      <th>dummy</th>\n      <th>board</th>\n      <th>on_course</th>\n      <th>cat</th>\n      <th>pwd</th>\n      <th>sex</th>\n      <th>scaled_hs_marks</th>\n      <th>scaled_inter_marks</th>\n      <th>scaled_income</th>\n      <th>scaled_age</th>\n    </tr>\n  </thead>\n  <tbody>\n    <tr>\n      <th>0</th>\n      <td>NO</td>\n      <td>NO</td>\n      <td>NO</td>\n      <td>Maharashtra Board</td>\n      <td>YES</td>\n      <td>General-EWS</td>\n      <td>NO</td>\n      <td>M</td>\n      <td>-0.960002</td>\n      <td>0.849966</td>\n      <td>-0.438280</td>\n      <td>0.876842</td>\n    </tr>\n    <tr>\n      <th>1</th>\n      <td>NO</td>\n      <td>YES</td>\n      <td>NO</td>\n      <td>BSEB</td>\n      <td>YES</td>\n      <td>ST</td>\n      <td>NO</td>\n      <td>F</td>\n      <td>-0.574427</td>\n      <td>0.000000</td>\n      <td>-0.063489</td>\n      <td>-0.292577</td>\n    </tr>\n    <tr>\n      <th>2</th>\n      <td>NO</td>\n      <td>YES</td>\n      <td>NO</td>\n      <td>CBSE</td>\n      <td>NO</td>\n      <td>OBC-NCL</td>\n      <td>NO</td>\n      <td>M</td>\n      <td>-1.524593</td>\n      <td>0.000000</td>\n      <td>3.050335</td>\n      <td>-0.292577</td>\n    </tr>\n    <tr>\n      <th>3</th>\n      <td>YES</td>\n      <td>NO</td>\n      <td>YES</td>\n      <td>HP Board</td>\n      <td>NO</td>\n      <td>SC</td>\n      <td>NO</td>\n      <td>M</td>\n      <td>0.306886</td>\n      <td>-1.425780</td>\n      <td>-0.114443</td>\n      <td>1.461551</td>\n    </tr>\n    <tr>\n      <th>4</th>\n      <td>YES</td>\n      <td>NO</td>\n      <td>NO</td>\n      <td>CBSE</td>\n      <td>NO</td>\n      <td>SC</td>\n      <td>YES</td>\n      <td>M</td>\n      <td>1.573774</td>\n      <td>1.401124</td>\n      <td>-0.472249</td>\n      <td>-0.877286</td>\n    </tr>\n    <tr>\n      <th>...</th>\n      <td>...</td>\n      <td>...</td>\n      <td>...</td>\n      <td>...</td>\n      <td>...</td>\n      <td>...</td>\n      <td>...</td>\n      <td>...</td>\n      <td>...</td>\n      <td>...</td>\n      <td>...</td>\n      <td>...</td>\n    </tr>\n    <tr>\n      <th>99995</th>\n      <td>YES</td>\n      <td>NO</td>\n      <td>NO</td>\n      <td>GSEB</td>\n      <td>YES</td>\n      <td>ST</td>\n      <td>NO</td>\n      <td>M</td>\n      <td>-1.262953</td>\n      <td>1.205552</td>\n      <td>-0.338638</td>\n      <td>-0.292577</td>\n    </tr>\n    <tr>\n      <th>99996</th>\n      <td>NO</td>\n      <td>YES</td>\n      <td>NO</td>\n      <td>CBSE</td>\n      <td>YES</td>\n      <td>Minority</td>\n      <td>NO</td>\n      <td>F</td>\n      <td>0.857707</td>\n      <td>0.000000</td>\n      <td>-0.004610</td>\n      <td>0.876842</td>\n    </tr>\n    <tr>\n      <th>99997</th>\n      <td>YES</td>\n      <td>YES</td>\n      <td>NO</td>\n      <td>CBSE</td>\n      <td>NO</td>\n      <td>General</td>\n      <td>NO</td>\n      <td>M</td>\n      <td>-1.469511</td>\n      <td>0.000000</td>\n      <td>-0.456397</td>\n      <td>0.292132</td>\n    </tr>\n    <tr>\n      <th>99998</th>\n      <td>YES</td>\n      <td>NO</td>\n      <td>YES</td>\n      <td>UP Board</td>\n      <td>NO</td>\n      <td>General-EWS</td>\n      <td>NO</td>\n      <td>F</td>\n      <td>-0.064918</td>\n      <td>1.667813</td>\n      <td>-0.408841</td>\n      <td>-0.292577</td>\n    </tr>\n    <tr>\n      <th>99999</th>\n      <td>YES</td>\n      <td>YES</td>\n      <td>NO</td>\n      <td>CBSE</td>\n      <td>NO</td>\n      <td>General-EWS</td>\n      <td>NO</td>\n      <td>F</td>\n      <td>1.229511</td>\n      <td>0.000000</td>\n      <td>-0.183513</td>\n      <td>0.876842</td>\n    </tr>\n  </tbody>\n</table>\n<p>100000 rows × 12 columns</p>\n</div>"
          },
          "metadata": {}
        }
      ]
    },
    {
      "cell_type": "code",
      "source": [
        "#one-hot-encoding\n",
        "categorical_columns = ['coach', '12_app', 'dummy', 'board', 'on_course', 'cat', 'pwd', 'sex']\n",
        "encoder = OneHotEncoder(sparse_output=False, handle_unknown='ignore')\n",
        "encoder.fit(X[['coach', '12_app', 'dummy', 'board', 'on_course', 'cat', 'pwd', 'sex']])\n",
        "encoded_data = encoder.transform(X[['coach', '12_app', 'dummy', 'board', 'on_course', 'cat', 'pwd', 'sex']])\n",
        "new_columns = encoder.get_feature_names_out(categorical_columns)\n",
        "X[new_columns] = encoded_data\n",
        "\n"
      ],
      "metadata": {
        "execution": {
          "iopub.status.busy": "2024-02-10T17:20:20.304237Z",
          "iopub.execute_input": "2024-02-10T17:20:20.304508Z",
          "iopub.status.idle": "2024-02-10T17:20:20.683093Z",
          "shell.execute_reply.started": "2024-02-10T17:20:20.304485Z",
          "shell.execute_reply": "2024-02-10T17:20:20.682332Z"
        },
        "trusted": true,
        "id": "rTVqYQot9Hn_"
      },
      "execution_count": null,
      "outputs": []
    },
    {
      "cell_type": "code",
      "source": [],
      "metadata": {
        "trusted": true,
        "id": "Wg1zLfz19Hn_"
      },
      "execution_count": null,
      "outputs": []
    },
    {
      "cell_type": "code",
      "source": [
        "X.drop(categorical_columns, axis=1, inplace=True)"
      ],
      "metadata": {
        "execution": {
          "iopub.status.busy": "2024-02-10T17:20:20.684104Z",
          "iopub.execute_input": "2024-02-10T17:20:20.684393Z",
          "iopub.status.idle": "2024-02-10T17:20:20.727823Z",
          "shell.execute_reply.started": "2024-02-10T17:20:20.684369Z",
          "shell.execute_reply": "2024-02-10T17:20:20.726757Z"
        },
        "trusted": true,
        "id": "OC7oAVMP9Hn_"
      },
      "execution_count": null,
      "outputs": []
    },
    {
      "cell_type": "code",
      "source": [
        "X"
      ],
      "metadata": {
        "execution": {
          "iopub.status.busy": "2024-02-10T17:20:20.729206Z",
          "iopub.execute_input": "2024-02-10T17:20:20.72961Z",
          "iopub.status.idle": "2024-02-10T17:20:20.804945Z",
          "shell.execute_reply.started": "2024-02-10T17:20:20.729571Z",
          "shell.execute_reply": "2024-02-10T17:20:20.803915Z"
        },
        "trusted": true,
        "id": "huEkef_79HoA",
        "outputId": "c54b1687-2c18-4df7-c4e2-3b0b1a850ea2"
      },
      "execution_count": null,
      "outputs": [
        {
          "execution_count": 30,
          "output_type": "execute_result",
          "data": {
            "text/plain": "       scaled_hs_marks  scaled_inter_marks  scaled_income  scaled_age  \\\n0            -0.960002            0.849966      -0.438280    0.876842   \n1            -0.574427            0.000000      -0.063489   -0.292577   \n2            -1.524593            0.000000       3.050335   -0.292577   \n3             0.306886           -1.425780      -0.114443    1.461551   \n4             1.573774            1.401124      -0.472249   -0.877286   \n...                ...                 ...            ...         ...   \n99995        -1.262953            1.205552      -0.338638   -0.292577   \n99996         0.857707            0.000000      -0.004610    0.876842   \n99997        -1.469511            0.000000      -0.456397    0.292132   \n99998        -0.064918            1.667813      -0.408841   -0.292577   \n99999         1.229511            0.000000      -0.183513    0.876842   \n\n       coach_NO  coach_YES  12_app_NO  12_app_YES  dummy_NO  dummy_YES  ...  \\\n0           1.0        0.0        1.0         0.0       1.0        0.0  ...   \n1           1.0        0.0        0.0         1.0       1.0        0.0  ...   \n2           1.0        0.0        0.0         1.0       1.0        0.0  ...   \n3           0.0        1.0        1.0         0.0       0.0        1.0  ...   \n4           0.0        1.0        1.0         0.0       1.0        0.0  ...   \n...         ...        ...        ...         ...       ...        ...  ...   \n99995       0.0        1.0        1.0         0.0       1.0        0.0  ...   \n99996       1.0        0.0        0.0         1.0       1.0        0.0  ...   \n99997       0.0        1.0        0.0         1.0       1.0        0.0  ...   \n99998       0.0        1.0        1.0         0.0       0.0        1.0  ...   \n99999       0.0        1.0        0.0         1.0       1.0        0.0  ...   \n\n       cat_General  cat_General-EWS  cat_Minority  cat_OBC-NCL  cat_SC  \\\n0              0.0              1.0           0.0          0.0     0.0   \n1              0.0              0.0           0.0          0.0     0.0   \n2              0.0              0.0           0.0          1.0     0.0   \n3              0.0              0.0           0.0          0.0     1.0   \n4              0.0              0.0           0.0          0.0     1.0   \n...            ...              ...           ...          ...     ...   \n99995          0.0              0.0           0.0          0.0     0.0   \n99996          0.0              0.0           1.0          0.0     0.0   \n99997          1.0              0.0           0.0          0.0     0.0   \n99998          0.0              1.0           0.0          0.0     0.0   \n99999          0.0              1.0           0.0          0.0     0.0   \n\n       cat_ST  pwd_NO  pwd_YES  sex_F  sex_M  \n0         0.0     1.0      0.0    0.0    1.0  \n1         1.0     1.0      0.0    1.0    0.0  \n2         0.0     1.0      0.0    0.0    1.0  \n3         0.0     1.0      0.0    0.0    1.0  \n4         0.0     0.0      1.0    0.0    1.0  \n...       ...     ...      ...    ...    ...  \n99995     1.0     1.0      0.0    0.0    1.0  \n99996     0.0     1.0      0.0    1.0    0.0  \n99997     0.0     1.0      0.0    0.0    1.0  \n99998     0.0     1.0      0.0    1.0    0.0  \n99999     0.0     1.0      0.0    1.0    0.0  \n\n[100000 rows x 42 columns]",
            "text/html": "<div>\n<style scoped>\n    .dataframe tbody tr th:only-of-type {\n        vertical-align: middle;\n    }\n\n    .dataframe tbody tr th {\n        vertical-align: top;\n    }\n\n    .dataframe thead th {\n        text-align: right;\n    }\n</style>\n<table border=\"1\" class=\"dataframe\">\n  <thead>\n    <tr style=\"text-align: right;\">\n      <th></th>\n      <th>scaled_hs_marks</th>\n      <th>scaled_inter_marks</th>\n      <th>scaled_income</th>\n      <th>scaled_age</th>\n      <th>coach_NO</th>\n      <th>coach_YES</th>\n      <th>12_app_NO</th>\n      <th>12_app_YES</th>\n      <th>dummy_NO</th>\n      <th>dummy_YES</th>\n      <th>...</th>\n      <th>cat_General</th>\n      <th>cat_General-EWS</th>\n      <th>cat_Minority</th>\n      <th>cat_OBC-NCL</th>\n      <th>cat_SC</th>\n      <th>cat_ST</th>\n      <th>pwd_NO</th>\n      <th>pwd_YES</th>\n      <th>sex_F</th>\n      <th>sex_M</th>\n    </tr>\n  </thead>\n  <tbody>\n    <tr>\n      <th>0</th>\n      <td>-0.960002</td>\n      <td>0.849966</td>\n      <td>-0.438280</td>\n      <td>0.876842</td>\n      <td>1.0</td>\n      <td>0.0</td>\n      <td>1.0</td>\n      <td>0.0</td>\n      <td>1.0</td>\n      <td>0.0</td>\n      <td>...</td>\n      <td>0.0</td>\n      <td>1.0</td>\n      <td>0.0</td>\n      <td>0.0</td>\n      <td>0.0</td>\n      <td>0.0</td>\n      <td>1.0</td>\n      <td>0.0</td>\n      <td>0.0</td>\n      <td>1.0</td>\n    </tr>\n    <tr>\n      <th>1</th>\n      <td>-0.574427</td>\n      <td>0.000000</td>\n      <td>-0.063489</td>\n      <td>-0.292577</td>\n      <td>1.0</td>\n      <td>0.0</td>\n      <td>0.0</td>\n      <td>1.0</td>\n      <td>1.0</td>\n      <td>0.0</td>\n      <td>...</td>\n      <td>0.0</td>\n      <td>0.0</td>\n      <td>0.0</td>\n      <td>0.0</td>\n      <td>0.0</td>\n      <td>1.0</td>\n      <td>1.0</td>\n      <td>0.0</td>\n      <td>1.0</td>\n      <td>0.0</td>\n    </tr>\n    <tr>\n      <th>2</th>\n      <td>-1.524593</td>\n      <td>0.000000</td>\n      <td>3.050335</td>\n      <td>-0.292577</td>\n      <td>1.0</td>\n      <td>0.0</td>\n      <td>0.0</td>\n      <td>1.0</td>\n      <td>1.0</td>\n      <td>0.0</td>\n      <td>...</td>\n      <td>0.0</td>\n      <td>0.0</td>\n      <td>0.0</td>\n      <td>1.0</td>\n      <td>0.0</td>\n      <td>0.0</td>\n      <td>1.0</td>\n      <td>0.0</td>\n      <td>0.0</td>\n      <td>1.0</td>\n    </tr>\n    <tr>\n      <th>3</th>\n      <td>0.306886</td>\n      <td>-1.425780</td>\n      <td>-0.114443</td>\n      <td>1.461551</td>\n      <td>0.0</td>\n      <td>1.0</td>\n      <td>1.0</td>\n      <td>0.0</td>\n      <td>0.0</td>\n      <td>1.0</td>\n      <td>...</td>\n      <td>0.0</td>\n      <td>0.0</td>\n      <td>0.0</td>\n      <td>0.0</td>\n      <td>1.0</td>\n      <td>0.0</td>\n      <td>1.0</td>\n      <td>0.0</td>\n      <td>0.0</td>\n      <td>1.0</td>\n    </tr>\n    <tr>\n      <th>4</th>\n      <td>1.573774</td>\n      <td>1.401124</td>\n      <td>-0.472249</td>\n      <td>-0.877286</td>\n      <td>0.0</td>\n      <td>1.0</td>\n      <td>1.0</td>\n      <td>0.0</td>\n      <td>1.0</td>\n      <td>0.0</td>\n      <td>...</td>\n      <td>0.0</td>\n      <td>0.0</td>\n      <td>0.0</td>\n      <td>0.0</td>\n      <td>1.0</td>\n      <td>0.0</td>\n      <td>0.0</td>\n      <td>1.0</td>\n      <td>0.0</td>\n      <td>1.0</td>\n    </tr>\n    <tr>\n      <th>...</th>\n      <td>...</td>\n      <td>...</td>\n      <td>...</td>\n      <td>...</td>\n      <td>...</td>\n      <td>...</td>\n      <td>...</td>\n      <td>...</td>\n      <td>...</td>\n      <td>...</td>\n      <td>...</td>\n      <td>...</td>\n      <td>...</td>\n      <td>...</td>\n      <td>...</td>\n      <td>...</td>\n      <td>...</td>\n      <td>...</td>\n      <td>...</td>\n      <td>...</td>\n      <td>...</td>\n    </tr>\n    <tr>\n      <th>99995</th>\n      <td>-1.262953</td>\n      <td>1.205552</td>\n      <td>-0.338638</td>\n      <td>-0.292577</td>\n      <td>0.0</td>\n      <td>1.0</td>\n      <td>1.0</td>\n      <td>0.0</td>\n      <td>1.0</td>\n      <td>0.0</td>\n      <td>...</td>\n      <td>0.0</td>\n      <td>0.0</td>\n      <td>0.0</td>\n      <td>0.0</td>\n      <td>0.0</td>\n      <td>1.0</td>\n      <td>1.0</td>\n      <td>0.0</td>\n      <td>0.0</td>\n      <td>1.0</td>\n    </tr>\n    <tr>\n      <th>99996</th>\n      <td>0.857707</td>\n      <td>0.000000</td>\n      <td>-0.004610</td>\n      <td>0.876842</td>\n      <td>1.0</td>\n      <td>0.0</td>\n      <td>0.0</td>\n      <td>1.0</td>\n      <td>1.0</td>\n      <td>0.0</td>\n      <td>...</td>\n      <td>0.0</td>\n      <td>0.0</td>\n      <td>1.0</td>\n      <td>0.0</td>\n      <td>0.0</td>\n      <td>0.0</td>\n      <td>1.0</td>\n      <td>0.0</td>\n      <td>1.0</td>\n      <td>0.0</td>\n    </tr>\n    <tr>\n      <th>99997</th>\n      <td>-1.469511</td>\n      <td>0.000000</td>\n      <td>-0.456397</td>\n      <td>0.292132</td>\n      <td>0.0</td>\n      <td>1.0</td>\n      <td>0.0</td>\n      <td>1.0</td>\n      <td>1.0</td>\n      <td>0.0</td>\n      <td>...</td>\n      <td>1.0</td>\n      <td>0.0</td>\n      <td>0.0</td>\n      <td>0.0</td>\n      <td>0.0</td>\n      <td>0.0</td>\n      <td>1.0</td>\n      <td>0.0</td>\n      <td>0.0</td>\n      <td>1.0</td>\n    </tr>\n    <tr>\n      <th>99998</th>\n      <td>-0.064918</td>\n      <td>1.667813</td>\n      <td>-0.408841</td>\n      <td>-0.292577</td>\n      <td>0.0</td>\n      <td>1.0</td>\n      <td>1.0</td>\n      <td>0.0</td>\n      <td>0.0</td>\n      <td>1.0</td>\n      <td>...</td>\n      <td>0.0</td>\n      <td>1.0</td>\n      <td>0.0</td>\n      <td>0.0</td>\n      <td>0.0</td>\n      <td>0.0</td>\n      <td>1.0</td>\n      <td>0.0</td>\n      <td>1.0</td>\n      <td>0.0</td>\n    </tr>\n    <tr>\n      <th>99999</th>\n      <td>1.229511</td>\n      <td>0.000000</td>\n      <td>-0.183513</td>\n      <td>0.876842</td>\n      <td>0.0</td>\n      <td>1.0</td>\n      <td>0.0</td>\n      <td>1.0</td>\n      <td>1.0</td>\n      <td>0.0</td>\n      <td>...</td>\n      <td>0.0</td>\n      <td>1.0</td>\n      <td>0.0</td>\n      <td>0.0</td>\n      <td>0.0</td>\n      <td>0.0</td>\n      <td>1.0</td>\n      <td>0.0</td>\n      <td>1.0</td>\n      <td>0.0</td>\n    </tr>\n  </tbody>\n</table>\n<p>100000 rows × 42 columns</p>\n</div>"
          },
          "metadata": {}
        }
      ]
    },
    {
      "cell_type": "code",
      "source": [
        "X_train, X_test, y_train, y_test = train_test_split(X, Y, test_size=0.05, random_state=42)"
      ],
      "metadata": {
        "execution": {
          "iopub.status.busy": "2024-02-10T17:20:20.806587Z",
          "iopub.execute_input": "2024-02-10T17:20:20.807003Z",
          "iopub.status.idle": "2024-02-10T17:20:20.855463Z",
          "shell.execute_reply.started": "2024-02-10T17:20:20.806964Z",
          "shell.execute_reply": "2024-02-10T17:20:20.854677Z"
        },
        "trusted": true,
        "id": "uMCTwLcH9HoA"
      },
      "execution_count": null,
      "outputs": []
    },
    {
      "cell_type": "code",
      "source": [
        "print(X_train.shape)\n",
        "print(y_train.shape)"
      ],
      "metadata": {
        "execution": {
          "iopub.status.busy": "2024-02-10T17:20:20.856659Z",
          "iopub.execute_input": "2024-02-10T17:20:20.856993Z",
          "iopub.status.idle": "2024-02-10T17:20:20.862204Z",
          "shell.execute_reply.started": "2024-02-10T17:20:20.856964Z",
          "shell.execute_reply": "2024-02-10T17:20:20.861285Z"
        },
        "trusted": true,
        "id": "VBn9O9YP9HoA",
        "outputId": "acbd544e-18e6-4837-bb3d-4379adbb88b2"
      },
      "execution_count": null,
      "outputs": [
        {
          "name": "stdout",
          "text": "(95000, 42)\n(95000,)\n",
          "output_type": "stream"
        }
      ]
    },
    {
      "cell_type": "code",
      "source": [
        "len(X_train.keys())"
      ],
      "metadata": {
        "execution": {
          "iopub.status.busy": "2024-02-10T17:20:20.863377Z",
          "iopub.execute_input": "2024-02-10T17:20:20.864044Z",
          "iopub.status.idle": "2024-02-10T17:20:20.874653Z",
          "shell.execute_reply.started": "2024-02-10T17:20:20.864006Z",
          "shell.execute_reply": "2024-02-10T17:20:20.873711Z"
        },
        "trusted": true,
        "id": "R53iI47a9HoA",
        "outputId": "63d2a62c-0d50-4cae-9560-83e6d9429aad"
      },
      "execution_count": null,
      "outputs": [
        {
          "execution_count": 33,
          "output_type": "execute_result",
          "data": {
            "text/plain": "42"
          },
          "metadata": {}
        }
      ]
    },
    {
      "cell_type": "code",
      "source": [
        "def build_model(alpha):\n",
        "    model = tf.keras.Sequential([\n",
        "        tf.keras.layers.Dense(1024, activation='relu',\n",
        "                              input_shape=[len(X_train.keys())]),\n",
        "        tf.keras.layers.Dense(512, activation='relu'),\n",
        "        tf.keras.layers.Dense(256, activation='relu'),\n",
        "        tf.keras.layers.Dense(128, activation='relu'),\n",
        "        tf.keras.layers.Dense(64, activation='relu'),\n",
        "        tf.keras.layers.Dense(1, activation='sigmoid')\n",
        "  ])\n",
        "\n",
        "  # Compile the model with specified optimizer and loss function for binary classification\n",
        "    model.compile(optimizer=tf.keras.optimizers.Adam(learning_rate=alpha),\n",
        "                loss='binary_crossentropy',\n",
        "                metrics=['accuracy'])\n",
        "\n",
        "    return model\n",
        "\n",
        ""
      ],
      "metadata": {
        "execution": {
          "iopub.status.busy": "2024-02-10T17:27:49.24861Z",
          "iopub.execute_input": "2024-02-10T17:27:49.249282Z",
          "iopub.status.idle": "2024-02-10T17:27:49.256332Z",
          "shell.execute_reply.started": "2024-02-10T17:27:49.249249Z",
          "shell.execute_reply": "2024-02-10T17:27:49.255335Z"
        },
        "trusted": true,
        "id": "DpM6izGJ9HoB"
      },
      "execution_count": null,
      "outputs": []
    },
    {
      "cell_type": "code",
      "source": [
        "model1 = build_model(0.00001)\n",
        "model2 = build_model(0.01)\n",
        "model3 = build_model(0.001)"
      ],
      "metadata": {
        "execution": {
          "iopub.status.busy": "2024-02-10T17:27:49.596916Z",
          "iopub.execute_input": "2024-02-10T17:27:49.597283Z",
          "iopub.status.idle": "2024-02-10T17:27:49.822693Z",
          "shell.execute_reply.started": "2024-02-10T17:27:49.597254Z",
          "shell.execute_reply": "2024-02-10T17:27:49.821907Z"
        },
        "trusted": true,
        "id": "G4XYOOhT9HoB"
      },
      "execution_count": null,
      "outputs": []
    },
    {
      "cell_type": "code",
      "source": [
        "model1.summary()"
      ],
      "metadata": {
        "execution": {
          "iopub.status.busy": "2024-02-10T17:27:50.294756Z",
          "iopub.execute_input": "2024-02-10T17:27:50.295155Z",
          "iopub.status.idle": "2024-02-10T17:27:50.318563Z",
          "shell.execute_reply.started": "2024-02-10T17:27:50.295106Z",
          "shell.execute_reply": "2024-02-10T17:27:50.31774Z"
        },
        "trusted": true,
        "id": "YfjEVF4k9HoB",
        "outputId": "c99ec825-8f23-4a56-bed6-e99c2a219669"
      },
      "execution_count": null,
      "outputs": [
        {
          "name": "stdout",
          "text": "Model: \"sequential_12\"\n_________________________________________________________________\n Layer (type)                Output Shape              Param #   \n=================================================================\n dense_72 (Dense)            (None, 1024)              44032     \n                                                                 \n dense_73 (Dense)            (None, 512)               524800    \n                                                                 \n dense_74 (Dense)            (None, 256)               131328    \n                                                                 \n dense_75 (Dense)            (None, 128)               32896     \n                                                                 \n dense_76 (Dense)            (None, 64)                8256      \n                                                                 \n dense_77 (Dense)            (None, 1)                 65        \n                                                                 \n=================================================================\nTotal params: 741377 (2.83 MB)\nTrainable params: 741377 (2.83 MB)\nNon-trainable params: 0 (0.00 Byte)\n_________________________________________________________________\n",
          "output_type": "stream"
        }
      ]
    },
    {
      "cell_type": "code",
      "source": [
        "# #mini-batch implementation\n",
        "X_train_tensor = tf.convert_to_tensor(X_train)\n",
        "Y_train_tensor = tf.convert_to_tensor(y_train)\n"
      ],
      "metadata": {
        "execution": {
          "iopub.status.busy": "2024-02-10T17:27:51.223678Z",
          "iopub.execute_input": "2024-02-10T17:27:51.224492Z",
          "iopub.status.idle": "2024-02-10T17:27:51.263109Z",
          "shell.execute_reply.started": "2024-02-10T17:27:51.224456Z",
          "shell.execute_reply": "2024-02-10T17:27:51.262029Z"
        },
        "trusted": true,
        "id": "W9kgBiYJ9HoB"
      },
      "execution_count": null,
      "outputs": []
    },
    {
      "cell_type": "code",
      "source": [
        "mini_batch_size=512\n",
        "train_dataset = tf.data.Dataset.from_tensor_slices((X_train_tensor, Y_train_tensor))\n",
        "train_dataset = train_dataset.repeat().shuffle(buffer_size=1000).batch(mini_batch_size)\n"
      ],
      "metadata": {
        "execution": {
          "iopub.status.busy": "2024-02-10T17:27:51.756873Z",
          "iopub.execute_input": "2024-02-10T17:27:51.757475Z",
          "iopub.status.idle": "2024-02-10T17:27:51.796804Z",
          "shell.execute_reply.started": "2024-02-10T17:27:51.757443Z",
          "shell.execute_reply": "2024-02-10T17:27:51.796023Z"
        },
        "trusted": true,
        "id": "0U61moI89HoB"
      },
      "execution_count": null,
      "outputs": []
    },
    {
      "cell_type": "code",
      "source": [
        "X_train.info()"
      ],
      "metadata": {
        "execution": {
          "iopub.status.busy": "2024-02-10T17:27:52.125795Z",
          "iopub.execute_input": "2024-02-10T17:27:52.126608Z",
          "iopub.status.idle": "2024-02-10T17:27:52.14752Z",
          "shell.execute_reply.started": "2024-02-10T17:27:52.126566Z",
          "shell.execute_reply": "2024-02-10T17:27:52.146644Z"
        },
        "trusted": true,
        "id": "Mag4mbil9HoB",
        "outputId": "bd529946-f239-4ec9-c060-18fae42f5793"
      },
      "execution_count": null,
      "outputs": [
        {
          "name": "stdout",
          "text": "<class 'pandas.core.frame.DataFrame'>\nIndex: 95000 entries, 62989 to 15795\nData columns (total 42 columns):\n #   Column                   Non-Null Count  Dtype  \n---  ------                   --------------  -----  \n 0   scaled_hs_marks          95000 non-null  float64\n 1   scaled_inter_marks       95000 non-null  float64\n 2   scaled_income            95000 non-null  float64\n 3   scaled_age               95000 non-null  float64\n 4   coach_NO                 95000 non-null  float64\n 5   coach_YES                95000 non-null  float64\n 6   12_app_NO                95000 non-null  float64\n 7   12_app_YES               95000 non-null  float64\n 8   dummy_NO                 95000 non-null  float64\n 9   dummy_YES                95000 non-null  float64\n 10  board_AP Board           95000 non-null  float64\n 11  board_BSEB               95000 non-null  float64\n 12  board_CBSE               95000 non-null  float64\n 13  board_CGBSE              95000 non-null  float64\n 14  board_GSEB               95000 non-null  float64\n 15  board_Goa Board          95000 non-null  float64\n 16  board_HP Board           95000 non-null  float64\n 17  board_ISC                95000 non-null  float64\n 18  board_JKBOSE             95000 non-null  float64\n 19  board_Karnatak PUC       95000 non-null  float64\n 20  board_Kerala DHSE        95000 non-null  float64\n 21  board_MBOSE HSSLC        95000 non-null  float64\n 22  board_MP Board           95000 non-null  float64\n 23  board_Maharashtra Board  95000 non-null  float64\n 24  board_Nagaland Board     95000 non-null  float64\n 25  board_PSEB               95000 non-null  float64\n 26  board_Tamil Nadu Boards  95000 non-null  float64\n 27  board_Telangana Board    95000 non-null  float64\n 28  board_UK Board           95000 non-null  float64\n 29  board_UP Board           95000 non-null  float64\n 30  on_course_NO             95000 non-null  float64\n 31  on_course_YES            95000 non-null  float64\n 32  cat_General              95000 non-null  float64\n 33  cat_General-EWS          95000 non-null  float64\n 34  cat_Minority             95000 non-null  float64\n 35  cat_OBC-NCL              95000 non-null  float64\n 36  cat_SC                   95000 non-null  float64\n 37  cat_ST                   95000 non-null  float64\n 38  pwd_NO                   95000 non-null  float64\n 39  pwd_YES                  95000 non-null  float64\n 40  sex_F                    95000 non-null  float64\n 41  sex_M                    95000 non-null  float64\ndtypes: float64(42)\nmemory usage: 31.2 MB\n",
          "output_type": "stream"
        }
      ]
    },
    {
      "cell_type": "code",
      "source": [
        "Y_train_tensor"
      ],
      "metadata": {
        "execution": {
          "iopub.status.busy": "2024-02-10T17:27:52.584928Z",
          "iopub.execute_input": "2024-02-10T17:27:52.585328Z",
          "iopub.status.idle": "2024-02-10T17:27:52.592211Z",
          "shell.execute_reply.started": "2024-02-10T17:27:52.585297Z",
          "shell.execute_reply": "2024-02-10T17:27:52.591239Z"
        },
        "trusted": true,
        "id": "IZGpcd479HoB",
        "outputId": "0cdcc47e-7b47-4ad5-aef4-08ba9aeedeb9"
      },
      "execution_count": null,
      "outputs": [
        {
          "execution_count": 109,
          "output_type": "execute_result",
          "data": {
            "text/plain": "<tf.Tensor: shape=(95000,), dtype=int64, numpy=array([0, 1, 0, ..., 0, 0, 1])>"
          },
          "metadata": {}
        }
      ]
    },
    {
      "cell_type": "code",
      "source": [
        "# early_stopping = EarlyStopping(\n",
        "#     monitor='val_accuracy',  # Monitor validation accuracy (adjust if needed)\n",
        "#     min_delta=0.001,  # Minimum change in accuracy to consider improvement\n",
        "#     patience=5,  # Number of epochs to wait without improvement before stopping\n",
        "#     restore_best_weights=True  # Restore the weights with the best validation accuracy\n",
        "# )"
      ],
      "metadata": {
        "execution": {
          "iopub.status.busy": "2024-02-10T17:27:53.198827Z",
          "iopub.execute_input": "2024-02-10T17:27:53.199196Z",
          "iopub.status.idle": "2024-02-10T17:27:53.204807Z",
          "shell.execute_reply.started": "2024-02-10T17:27:53.199167Z",
          "shell.execute_reply": "2024-02-10T17:27:53.20388Z"
        },
        "trusted": true,
        "id": "Z1ngHkP59HoB"
      },
      "execution_count": null,
      "outputs": []
    },
    {
      "cell_type": "code",
      "source": [
        "model1.fit(X_train_tensor, Y_train_tensor,\n",
        "          epochs=100,  # Adjust the number of epochs based on your data\n",
        "          validation_data=(X_test, y_test),  # Include validation data\n",
        ")"
      ],
      "metadata": {
        "execution": {
          "iopub.status.busy": "2024-02-10T17:27:53.556033Z",
          "iopub.execute_input": "2024-02-10T17:27:53.556873Z",
          "iopub.status.idle": "2024-02-10T17:29:51.229637Z",
          "shell.execute_reply.started": "2024-02-10T17:27:53.556822Z",
          "shell.execute_reply": "2024-02-10T17:29:51.228221Z"
        },
        "trusted": true,
        "id": "IGiKR37o9HoC",
        "outputId": "fd7ed77d-b052-45ee-9584-d8511bc36092"
      },
      "execution_count": null,
      "outputs": [
        {
          "name": "stdout",
          "text": "Epoch 1/100\n2969/2969 [==============================] - 13s 4ms/step - loss: 0.2096 - accuracy: 0.9164 - val_loss: 0.1353 - val_accuracy: 0.9294\nEpoch 2/100\n2969/2969 [==============================] - 11s 4ms/step - loss: 0.1299 - accuracy: 0.9305 - val_loss: 0.1245 - val_accuracy: 0.9300\nEpoch 3/100\n2969/2969 [==============================] - 11s 4ms/step - loss: 0.1244 - accuracy: 0.9309 - val_loss: 0.1215 - val_accuracy: 0.9312\nEpoch 4/100\n2969/2969 [==============================] - 11s 4ms/step - loss: 0.1218 - accuracy: 0.9309 - val_loss: 0.1205 - val_accuracy: 0.9300\nEpoch 5/100\n2969/2969 [==============================] - 11s 4ms/step - loss: 0.1196 - accuracy: 0.9325 - val_loss: 0.1180 - val_accuracy: 0.9328\nEpoch 6/100\n2969/2969 [==============================] - 11s 4ms/step - loss: 0.1180 - accuracy: 0.9331 - val_loss: 0.1184 - val_accuracy: 0.9336\nEpoch 7/100\n2969/2969 [==============================] - 11s 4ms/step - loss: 0.1165 - accuracy: 0.9336 - val_loss: 0.1170 - val_accuracy: 0.9316\nEpoch 8/100\n2969/2969 [==============================] - 11s 4ms/step - loss: 0.1149 - accuracy: 0.9342 - val_loss: 0.1147 - val_accuracy: 0.9344\nEpoch 9/100\n2969/2969 [==============================] - 11s 4ms/step - loss: 0.1137 - accuracy: 0.9355 - val_loss: 0.1139 - val_accuracy: 0.9360\nEpoch 10/100\n2969/2969 [==============================] - 11s 4ms/step - loss: 0.1125 - accuracy: 0.9360 - val_loss: 0.1159 - val_accuracy: 0.9358\nEpoch 11/100\n1322/2969 [============>.................] - ETA: 5s - loss: 0.1109 - accuracy: 0.9365",
          "output_type": "stream"
        },
        {
          "traceback": [
            "\u001b[0;31m---------------------------------------------------------------------------\u001b[0m",
            "\u001b[0;31mKeyboardInterrupt\u001b[0m                         Traceback (most recent call last)",
            "Cell \u001b[0;32mIn[111], line 1\u001b[0m\n\u001b[0;32m----> 1\u001b[0m \u001b[43mmodel1\u001b[49m\u001b[38;5;241;43m.\u001b[39;49m\u001b[43mfit\u001b[49m\u001b[43m(\u001b[49m\u001b[43mX_train_tensor\u001b[49m\u001b[43m,\u001b[49m\u001b[43m \u001b[49m\u001b[43mY_train_tensor\u001b[49m\u001b[43m,\u001b[49m\n\u001b[1;32m      2\u001b[0m \u001b[43m          \u001b[49m\u001b[43mepochs\u001b[49m\u001b[38;5;241;43m=\u001b[39;49m\u001b[38;5;241;43m100\u001b[39;49m\u001b[43m,\u001b[49m\u001b[43m  \u001b[49m\u001b[38;5;66;43;03m# Adjust the number of epochs based on your data\u001b[39;49;00m\n\u001b[1;32m      3\u001b[0m \u001b[43m          \u001b[49m\u001b[43mvalidation_data\u001b[49m\u001b[38;5;241;43m=\u001b[39;49m\u001b[43m(\u001b[49m\u001b[43mX_test\u001b[49m\u001b[43m,\u001b[49m\u001b[43m \u001b[49m\u001b[43my_test\u001b[49m\u001b[43m)\u001b[49m\u001b[43m,\u001b[49m\u001b[43m  \u001b[49m\u001b[38;5;66;43;03m# Include validation data\u001b[39;49;00m\n\u001b[1;32m      4\u001b[0m \u001b[43m)\u001b[49m\n",
            "File \u001b[0;32m/opt/conda/lib/python3.10/site-packages/keras/src/utils/traceback_utils.py:65\u001b[0m, in \u001b[0;36mfilter_traceback.<locals>.error_handler\u001b[0;34m(*args, **kwargs)\u001b[0m\n\u001b[1;32m     63\u001b[0m filtered_tb \u001b[38;5;241m=\u001b[39m \u001b[38;5;28;01mNone\u001b[39;00m\n\u001b[1;32m     64\u001b[0m \u001b[38;5;28;01mtry\u001b[39;00m:\n\u001b[0;32m---> 65\u001b[0m     \u001b[38;5;28;01mreturn\u001b[39;00m \u001b[43mfn\u001b[49m\u001b[43m(\u001b[49m\u001b[38;5;241;43m*\u001b[39;49m\u001b[43margs\u001b[49m\u001b[43m,\u001b[49m\u001b[43m \u001b[49m\u001b[38;5;241;43m*\u001b[39;49m\u001b[38;5;241;43m*\u001b[39;49m\u001b[43mkwargs\u001b[49m\u001b[43m)\u001b[49m\n\u001b[1;32m     66\u001b[0m \u001b[38;5;28;01mexcept\u001b[39;00m \u001b[38;5;167;01mException\u001b[39;00m \u001b[38;5;28;01mas\u001b[39;00m e:\n\u001b[1;32m     67\u001b[0m     filtered_tb \u001b[38;5;241m=\u001b[39m _process_traceback_frames(e\u001b[38;5;241m.\u001b[39m__traceback__)\n",
            "File \u001b[0;32m/opt/conda/lib/python3.10/site-packages/keras/src/engine/training.py:1807\u001b[0m, in \u001b[0;36mModel.fit\u001b[0;34m(self, x, y, batch_size, epochs, verbose, callbacks, validation_split, validation_data, shuffle, class_weight, sample_weight, initial_epoch, steps_per_epoch, validation_steps, validation_batch_size, validation_freq, max_queue_size, workers, use_multiprocessing)\u001b[0m\n\u001b[1;32m   1799\u001b[0m \u001b[38;5;28;01mwith\u001b[39;00m tf\u001b[38;5;241m.\u001b[39mprofiler\u001b[38;5;241m.\u001b[39mexperimental\u001b[38;5;241m.\u001b[39mTrace(\n\u001b[1;32m   1800\u001b[0m     \u001b[38;5;124m\"\u001b[39m\u001b[38;5;124mtrain\u001b[39m\u001b[38;5;124m\"\u001b[39m,\n\u001b[1;32m   1801\u001b[0m     epoch_num\u001b[38;5;241m=\u001b[39mepoch,\n\u001b[0;32m   (...)\u001b[0m\n\u001b[1;32m   1804\u001b[0m     _r\u001b[38;5;241m=\u001b[39m\u001b[38;5;241m1\u001b[39m,\n\u001b[1;32m   1805\u001b[0m ):\n\u001b[1;32m   1806\u001b[0m     callbacks\u001b[38;5;241m.\u001b[39mon_train_batch_begin(step)\n\u001b[0;32m-> 1807\u001b[0m     tmp_logs \u001b[38;5;241m=\u001b[39m \u001b[38;5;28;43mself\u001b[39;49m\u001b[38;5;241;43m.\u001b[39;49m\u001b[43mtrain_function\u001b[49m\u001b[43m(\u001b[49m\u001b[43miterator\u001b[49m\u001b[43m)\u001b[49m\n\u001b[1;32m   1808\u001b[0m     \u001b[38;5;28;01mif\u001b[39;00m data_handler\u001b[38;5;241m.\u001b[39mshould_sync:\n\u001b[1;32m   1809\u001b[0m         context\u001b[38;5;241m.\u001b[39masync_wait()\n",
            "File \u001b[0;32m/opt/conda/lib/python3.10/site-packages/tensorflow/python/util/traceback_utils.py:150\u001b[0m, in \u001b[0;36mfilter_traceback.<locals>.error_handler\u001b[0;34m(*args, **kwargs)\u001b[0m\n\u001b[1;32m    148\u001b[0m filtered_tb \u001b[38;5;241m=\u001b[39m \u001b[38;5;28;01mNone\u001b[39;00m\n\u001b[1;32m    149\u001b[0m \u001b[38;5;28;01mtry\u001b[39;00m:\n\u001b[0;32m--> 150\u001b[0m   \u001b[38;5;28;01mreturn\u001b[39;00m \u001b[43mfn\u001b[49m\u001b[43m(\u001b[49m\u001b[38;5;241;43m*\u001b[39;49m\u001b[43margs\u001b[49m\u001b[43m,\u001b[49m\u001b[43m \u001b[49m\u001b[38;5;241;43m*\u001b[39;49m\u001b[38;5;241;43m*\u001b[39;49m\u001b[43mkwargs\u001b[49m\u001b[43m)\u001b[49m\n\u001b[1;32m    151\u001b[0m \u001b[38;5;28;01mexcept\u001b[39;00m \u001b[38;5;167;01mException\u001b[39;00m \u001b[38;5;28;01mas\u001b[39;00m e:\n\u001b[1;32m    152\u001b[0m   filtered_tb \u001b[38;5;241m=\u001b[39m _process_traceback_frames(e\u001b[38;5;241m.\u001b[39m__traceback__)\n",
            "File \u001b[0;32m/opt/conda/lib/python3.10/site-packages/tensorflow/python/eager/polymorphic_function/polymorphic_function.py:832\u001b[0m, in \u001b[0;36mFunction.__call__\u001b[0;34m(self, *args, **kwds)\u001b[0m\n\u001b[1;32m    829\u001b[0m compiler \u001b[38;5;241m=\u001b[39m \u001b[38;5;124m\"\u001b[39m\u001b[38;5;124mxla\u001b[39m\u001b[38;5;124m\"\u001b[39m \u001b[38;5;28;01mif\u001b[39;00m \u001b[38;5;28mself\u001b[39m\u001b[38;5;241m.\u001b[39m_jit_compile \u001b[38;5;28;01melse\u001b[39;00m \u001b[38;5;124m\"\u001b[39m\u001b[38;5;124mnonXla\u001b[39m\u001b[38;5;124m\"\u001b[39m\n\u001b[1;32m    831\u001b[0m \u001b[38;5;28;01mwith\u001b[39;00m OptionalXlaContext(\u001b[38;5;28mself\u001b[39m\u001b[38;5;241m.\u001b[39m_jit_compile):\n\u001b[0;32m--> 832\u001b[0m   result \u001b[38;5;241m=\u001b[39m \u001b[38;5;28;43mself\u001b[39;49m\u001b[38;5;241;43m.\u001b[39;49m\u001b[43m_call\u001b[49m\u001b[43m(\u001b[49m\u001b[38;5;241;43m*\u001b[39;49m\u001b[43margs\u001b[49m\u001b[43m,\u001b[49m\u001b[43m \u001b[49m\u001b[38;5;241;43m*\u001b[39;49m\u001b[38;5;241;43m*\u001b[39;49m\u001b[43mkwds\u001b[49m\u001b[43m)\u001b[49m\n\u001b[1;32m    834\u001b[0m new_tracing_count \u001b[38;5;241m=\u001b[39m \u001b[38;5;28mself\u001b[39m\u001b[38;5;241m.\u001b[39mexperimental_get_tracing_count()\n\u001b[1;32m    835\u001b[0m without_tracing \u001b[38;5;241m=\u001b[39m (tracing_count \u001b[38;5;241m==\u001b[39m new_tracing_count)\n",
            "File \u001b[0;32m/opt/conda/lib/python3.10/site-packages/tensorflow/python/eager/polymorphic_function/polymorphic_function.py:868\u001b[0m, in \u001b[0;36mFunction._call\u001b[0;34m(self, *args, **kwds)\u001b[0m\n\u001b[1;32m    865\u001b[0m   \u001b[38;5;28mself\u001b[39m\u001b[38;5;241m.\u001b[39m_lock\u001b[38;5;241m.\u001b[39mrelease()\n\u001b[1;32m    866\u001b[0m   \u001b[38;5;66;03m# In this case we have created variables on the first call, so we run the\u001b[39;00m\n\u001b[1;32m    867\u001b[0m   \u001b[38;5;66;03m# defunned version which is guaranteed to never create variables.\u001b[39;00m\n\u001b[0;32m--> 868\u001b[0m   \u001b[38;5;28;01mreturn\u001b[39;00m \u001b[43mtracing_compilation\u001b[49m\u001b[38;5;241;43m.\u001b[39;49m\u001b[43mcall_function\u001b[49m\u001b[43m(\u001b[49m\n\u001b[1;32m    869\u001b[0m \u001b[43m      \u001b[49m\u001b[43margs\u001b[49m\u001b[43m,\u001b[49m\u001b[43m \u001b[49m\u001b[43mkwds\u001b[49m\u001b[43m,\u001b[49m\u001b[43m \u001b[49m\u001b[38;5;28;43mself\u001b[39;49m\u001b[38;5;241;43m.\u001b[39;49m\u001b[43m_no_variable_creation_config\u001b[49m\n\u001b[1;32m    870\u001b[0m \u001b[43m  \u001b[49m\u001b[43m)\u001b[49m\n\u001b[1;32m    871\u001b[0m \u001b[38;5;28;01melif\u001b[39;00m \u001b[38;5;28mself\u001b[39m\u001b[38;5;241m.\u001b[39m_variable_creation_config \u001b[38;5;129;01mis\u001b[39;00m \u001b[38;5;129;01mnot\u001b[39;00m \u001b[38;5;28;01mNone\u001b[39;00m:\n\u001b[1;32m    872\u001b[0m   \u001b[38;5;66;03m# Release the lock early so that multiple threads can perform the call\u001b[39;00m\n\u001b[1;32m    873\u001b[0m   \u001b[38;5;66;03m# in parallel.\u001b[39;00m\n\u001b[1;32m    874\u001b[0m   \u001b[38;5;28mself\u001b[39m\u001b[38;5;241m.\u001b[39m_lock\u001b[38;5;241m.\u001b[39mrelease()\n",
            "File \u001b[0;32m/opt/conda/lib/python3.10/site-packages/tensorflow/python/eager/polymorphic_function/tracing_compilation.py:138\u001b[0m, in \u001b[0;36mcall_function\u001b[0;34m(args, kwargs, tracing_options)\u001b[0m\n\u001b[1;32m    136\u001b[0m \u001b[38;5;66;03m# Bind it ourselves to skip unnecessary canonicalization of default call.\u001b[39;00m\n\u001b[1;32m    137\u001b[0m bound_args \u001b[38;5;241m=\u001b[39m function\u001b[38;5;241m.\u001b[39mfunction_type\u001b[38;5;241m.\u001b[39mbind(\u001b[38;5;241m*\u001b[39margs, \u001b[38;5;241m*\u001b[39m\u001b[38;5;241m*\u001b[39mkwargs)\n\u001b[0;32m--> 138\u001b[0m flat_inputs \u001b[38;5;241m=\u001b[39m \u001b[43mfunction\u001b[49m\u001b[38;5;241;43m.\u001b[39;49m\u001b[43mfunction_type\u001b[49m\u001b[38;5;241;43m.\u001b[39;49m\u001b[43munpack_inputs\u001b[49m\u001b[43m(\u001b[49m\u001b[43mbound_args\u001b[49m\u001b[43m)\u001b[49m\n\u001b[1;32m    139\u001b[0m \u001b[38;5;28;01mreturn\u001b[39;00m function\u001b[38;5;241m.\u001b[39m_call_flat(  \u001b[38;5;66;03m# pylint: disable=protected-access\u001b[39;00m\n\u001b[1;32m    140\u001b[0m     flat_inputs, captured_inputs\u001b[38;5;241m=\u001b[39mfunction\u001b[38;5;241m.\u001b[39mcaptured_inputs\n\u001b[1;32m    141\u001b[0m )\n",
            "File \u001b[0;32m/opt/conda/lib/python3.10/site-packages/tensorflow/core/function/polymorphism/function_type.py:396\u001b[0m, in \u001b[0;36mFunctionType.unpack_inputs\u001b[0;34m(self, bound_parameters)\u001b[0m\n\u001b[1;32m    394\u001b[0m dealiased_inputs \u001b[38;5;241m=\u001b[39m []\n\u001b[1;32m    395\u001b[0m ids_used \u001b[38;5;241m=\u001b[39m \u001b[38;5;28mset\u001b[39m()\n\u001b[0;32m--> 396\u001b[0m \u001b[38;5;28;01mfor\u001b[39;00m tensor, input_type \u001b[38;5;129;01min\u001b[39;00m \u001b[38;5;28;43mzip\u001b[39;49m\u001b[43m(\u001b[49m\u001b[43mflat\u001b[49m\u001b[43m,\u001b[49m\u001b[43m \u001b[49m\u001b[38;5;28;43mself\u001b[39;49m\u001b[38;5;241;43m.\u001b[39;49m\u001b[43mflat_inputs\u001b[49m\u001b[43m)\u001b[49m:\n\u001b[1;32m    397\u001b[0m   alias_id \u001b[38;5;241m=\u001b[39m input_type\u001b[38;5;241m.\u001b[39m_alias_id()  \u001b[38;5;66;03m# pylint: disable=protected-access\u001b[39;00m\n\u001b[1;32m    398\u001b[0m   \u001b[38;5;28;01mif\u001b[39;00m alias_id \u001b[38;5;129;01mis\u001b[39;00m \u001b[38;5;28;01mNone\u001b[39;00m \u001b[38;5;129;01mor\u001b[39;00m alias_id \u001b[38;5;129;01mnot\u001b[39;00m \u001b[38;5;129;01min\u001b[39;00m ids_used:\n",
            "\u001b[0;31mKeyboardInterrupt\u001b[0m: "
          ],
          "ename": "KeyboardInterrupt",
          "evalue": "",
          "output_type": "error"
        }
      ]
    },
    {
      "cell_type": "code",
      "source": [
        "X_dev,y_dev = X_test, y_test"
      ],
      "metadata": {
        "execution": {
          "iopub.status.busy": "2024-02-10T17:29:56.996045Z",
          "iopub.execute_input": "2024-02-10T17:29:56.996399Z",
          "iopub.status.idle": "2024-02-10T17:29:57.001027Z",
          "shell.execute_reply.started": "2024-02-10T17:29:56.996372Z",
          "shell.execute_reply": "2024-02-10T17:29:56.999906Z"
        },
        "trusted": true,
        "id": "UXd5KxFv9HoC"
      },
      "execution_count": null,
      "outputs": []
    },
    {
      "cell_type": "code",
      "source": [
        "model1.evaluate(X_dev, y_dev)"
      ],
      "metadata": {
        "execution": {
          "iopub.status.busy": "2024-02-10T17:29:57.205322Z",
          "iopub.execute_input": "2024-02-10T17:29:57.205641Z",
          "iopub.status.idle": "2024-02-10T17:29:57.644921Z",
          "shell.execute_reply.started": "2024-02-10T17:29:57.205614Z",
          "shell.execute_reply": "2024-02-10T17:29:57.644045Z"
        },
        "trusted": true,
        "id": "qW00O2mR9HoC",
        "outputId": "8b394567-787d-4c36-b463-981e3435a519"
      },
      "execution_count": null,
      "outputs": [
        {
          "name": "stdout",
          "text": "157/157 [==============================] - 0s 2ms/step - loss: 0.1127 - accuracy: 0.9334\n",
          "output_type": "stream"
        },
        {
          "execution_count": 113,
          "output_type": "execute_result",
          "data": {
            "text/plain": "[0.11269688606262207, 0.9333999752998352]"
          },
          "metadata": {}
        }
      ]
    },
    {
      "cell_type": "code",
      "source": [
        "test_dat = pd.read_csv('/kaggle/input/yamunas-odyssey-a-dream-to-conquer-iit-jammu/test.csv')\n",
        "test_dat.head()"
      ],
      "metadata": {
        "execution": {
          "iopub.status.busy": "2024-02-10T17:29:57.64661Z",
          "iopub.execute_input": "2024-02-10T17:29:57.646967Z",
          "iopub.status.idle": "2024-02-10T17:29:57.680967Z",
          "shell.execute_reply.started": "2024-02-10T17:29:57.646938Z",
          "shell.execute_reply": "2024-02-10T17:29:57.680038Z"
        },
        "trusted": true,
        "id": "5Awtot8p9HoC",
        "outputId": "c1a92c24-aa1e-42b3-d2cd-ba975a1bebe1"
      },
      "execution_count": null,
      "outputs": [
        {
          "execution_count": 114,
          "output_type": "execute_result",
          "data": {
            "text/plain": "     Roll No         Name Caoching  High School Marks 12th Appearing  \\\n0  546722345  GIJPQ ZYZPW      YES               87.3             NO   \n1  546722346  YJMBL EIQFA      YES               81.9            YES   \n2  546722347  POTQM FVTEG      YES               75.8            YES   \n3  546722348  VNPZP BMQTZ       NO               97.8             NO   \n4  546722349  CDAAU LMXVV      YES               90.0             NO   \n\n   Intermediate Marks  Income Dummy       School Board Device to Study  \\\n0                83.5  393000    NO           AP Board             NaN   \n1                 NaN  174000    NO  Maharashtra Board          Tablet   \n2                 NaN   13000   YES          Goa Board             NaN   \n3                98.7  122000    NO               CBSE          Laptop   \n4                93.6  124000    NO           MP Board           Phone   \n\n  Online Course     Category PwD  Age Sex  \n0           NaN  General-EWS  NO   16   M  \n1           YES      OBC-NCL  NO   21   F  \n2           NaN  General-EWS  NO   21   F  \n3           YES           ST  NO   19   M  \n4           NaN           SC  NO   16   F  ",
            "text/html": "<div>\n<style scoped>\n    .dataframe tbody tr th:only-of-type {\n        vertical-align: middle;\n    }\n\n    .dataframe tbody tr th {\n        vertical-align: top;\n    }\n\n    .dataframe thead th {\n        text-align: right;\n    }\n</style>\n<table border=\"1\" class=\"dataframe\">\n  <thead>\n    <tr style=\"text-align: right;\">\n      <th></th>\n      <th>Roll No</th>\n      <th>Name</th>\n      <th>Caoching</th>\n      <th>High School Marks</th>\n      <th>12th Appearing</th>\n      <th>Intermediate Marks</th>\n      <th>Income</th>\n      <th>Dummy</th>\n      <th>School Board</th>\n      <th>Device to Study</th>\n      <th>Online Course</th>\n      <th>Category</th>\n      <th>PwD</th>\n      <th>Age</th>\n      <th>Sex</th>\n    </tr>\n  </thead>\n  <tbody>\n    <tr>\n      <th>0</th>\n      <td>546722345</td>\n      <td>GIJPQ ZYZPW</td>\n      <td>YES</td>\n      <td>87.3</td>\n      <td>NO</td>\n      <td>83.5</td>\n      <td>393000</td>\n      <td>NO</td>\n      <td>AP Board</td>\n      <td>NaN</td>\n      <td>NaN</td>\n      <td>General-EWS</td>\n      <td>NO</td>\n      <td>16</td>\n      <td>M</td>\n    </tr>\n    <tr>\n      <th>1</th>\n      <td>546722346</td>\n      <td>YJMBL EIQFA</td>\n      <td>YES</td>\n      <td>81.9</td>\n      <td>YES</td>\n      <td>NaN</td>\n      <td>174000</td>\n      <td>NO</td>\n      <td>Maharashtra Board</td>\n      <td>Tablet</td>\n      <td>YES</td>\n      <td>OBC-NCL</td>\n      <td>NO</td>\n      <td>21</td>\n      <td>F</td>\n    </tr>\n    <tr>\n      <th>2</th>\n      <td>546722347</td>\n      <td>POTQM FVTEG</td>\n      <td>YES</td>\n      <td>75.8</td>\n      <td>YES</td>\n      <td>NaN</td>\n      <td>13000</td>\n      <td>YES</td>\n      <td>Goa Board</td>\n      <td>NaN</td>\n      <td>NaN</td>\n      <td>General-EWS</td>\n      <td>NO</td>\n      <td>21</td>\n      <td>F</td>\n    </tr>\n    <tr>\n      <th>3</th>\n      <td>546722348</td>\n      <td>VNPZP BMQTZ</td>\n      <td>NO</td>\n      <td>97.8</td>\n      <td>NO</td>\n      <td>98.7</td>\n      <td>122000</td>\n      <td>NO</td>\n      <td>CBSE</td>\n      <td>Laptop</td>\n      <td>YES</td>\n      <td>ST</td>\n      <td>NO</td>\n      <td>19</td>\n      <td>M</td>\n    </tr>\n    <tr>\n      <th>4</th>\n      <td>546722349</td>\n      <td>CDAAU LMXVV</td>\n      <td>YES</td>\n      <td>90.0</td>\n      <td>NO</td>\n      <td>93.6</td>\n      <td>124000</td>\n      <td>NO</td>\n      <td>MP Board</td>\n      <td>Phone</td>\n      <td>NaN</td>\n      <td>SC</td>\n      <td>NO</td>\n      <td>16</td>\n      <td>F</td>\n    </tr>\n  </tbody>\n</table>\n</div>"
          },
          "metadata": {}
        }
      ]
    },
    {
      "cell_type": "code",
      "source": [
        "ids = test_dat['Roll No']\n",
        "test_dat.drop(['Roll No', 'Name'], axis=1, inplace=True)"
      ],
      "metadata": {
        "execution": {
          "iopub.status.busy": "2024-02-10T17:29:57.818235Z",
          "iopub.execute_input": "2024-02-10T17:29:57.81852Z",
          "iopub.status.idle": "2024-02-10T17:29:57.824469Z",
          "shell.execute_reply.started": "2024-02-10T17:29:57.818496Z",
          "shell.execute_reply": "2024-02-10T17:29:57.823438Z"
        },
        "trusted": true,
        "id": "J0S1I9079HoE"
      },
      "execution_count": null,
      "outputs": []
    },
    {
      "cell_type": "code",
      "source": [
        "test_dat.rename(columns={'Caoching':'coach', 'High School Marks':'hs_marks', '12th Appearing':'12_app', 'Intermediate Marks':'inter_marks', 'Income':'income', 'Dummy':'dummy', 'School Board':'board', 'Device to Study':'device', 'Online Course':'on_course', 'Category':'cat', 'PwD':'pwd', 'Age':'age', 'Sex':'sex','Passed':'pass'}, inplace=True)"
      ],
      "metadata": {
        "execution": {
          "iopub.status.busy": "2024-02-10T17:29:58.269938Z",
          "iopub.execute_input": "2024-02-10T17:29:58.270679Z",
          "iopub.status.idle": "2024-02-10T17:29:58.276529Z",
          "shell.execute_reply.started": "2024-02-10T17:29:58.270632Z",
          "shell.execute_reply": "2024-02-10T17:29:58.275533Z"
        },
        "trusted": true,
        "id": "-yZYE-JQ9HoE"
      },
      "execution_count": null,
      "outputs": []
    },
    {
      "cell_type": "code",
      "source": [
        "print(test_dat.isna().sum())"
      ],
      "metadata": {
        "execution": {
          "iopub.status.busy": "2024-02-10T17:29:58.814354Z",
          "iopub.execute_input": "2024-02-10T17:29:58.815062Z",
          "iopub.status.idle": "2024-02-10T17:29:58.825606Z",
          "shell.execute_reply.started": "2024-02-10T17:29:58.815031Z",
          "shell.execute_reply": "2024-02-10T17:29:58.824589Z"
        },
        "trusted": true,
        "id": "ZQYsEVFQ9HoE",
        "outputId": "f82e173f-a0eb-44a2-893b-5f883448754f"
      },
      "execution_count": null,
      "outputs": [
        {
          "name": "stdout",
          "text": "coach             0\nhs_marks          0\n12_app            0\ninter_marks    1926\nincome            0\ndummy             0\nboard             0\ndevice         2466\non_course      3231\ncat               0\npwd               0\nage               0\nsex               0\ndtype: int64\n",
          "output_type": "stream"
        }
      ]
    },
    {
      "cell_type": "code",
      "source": [
        "inter_mean"
      ],
      "metadata": {
        "execution": {
          "iopub.status.busy": "2024-02-10T17:29:59.023822Z",
          "iopub.execute_input": "2024-02-10T17:29:59.024168Z",
          "iopub.status.idle": "2024-02-10T17:29:59.03003Z",
          "shell.execute_reply.started": "2024-02-10T17:29:59.024141Z",
          "shell.execute_reply": "2024-02-10T17:29:59.029131Z"
        },
        "trusted": true,
        "id": "FcQmUtQX9HoF",
        "outputId": "96ac4dd7-333f-4443-b4bc-a169a2a7b821"
      },
      "execution_count": null,
      "outputs": [
        {
          "execution_count": 118,
          "output_type": "execute_result",
          "data": {
            "text/plain": "87.41933942632637"
          },
          "metadata": {}
        }
      ]
    },
    {
      "cell_type": "code",
      "source": [
        "test_dat['inter_marks'] = test_dat['inter_marks'].fillna(inter_mean)"
      ],
      "metadata": {
        "execution": {
          "iopub.status.busy": "2024-02-10T17:29:59.404382Z",
          "iopub.execute_input": "2024-02-10T17:29:59.405001Z",
          "iopub.status.idle": "2024-02-10T17:29:59.410696Z",
          "shell.execute_reply.started": "2024-02-10T17:29:59.404969Z",
          "shell.execute_reply": "2024-02-10T17:29:59.409671Z"
        },
        "trusted": true,
        "id": "l6a64exL9HoF"
      },
      "execution_count": null,
      "outputs": []
    },
    {
      "cell_type": "code",
      "source": [
        "test_dat.head()"
      ],
      "metadata": {
        "execution": {
          "iopub.status.busy": "2024-02-10T17:29:59.810882Z",
          "iopub.execute_input": "2024-02-10T17:29:59.811276Z",
          "iopub.status.idle": "2024-02-10T17:29:59.828749Z",
          "shell.execute_reply.started": "2024-02-10T17:29:59.811247Z",
          "shell.execute_reply": "2024-02-10T17:29:59.827661Z"
        },
        "trusted": true,
        "id": "cTw1QyQt9HoF",
        "outputId": "25a86de0-118f-4892-e4d7-4c944d788424"
      },
      "execution_count": null,
      "outputs": [
        {
          "execution_count": 120,
          "output_type": "execute_result",
          "data": {
            "text/plain": "  coach  hs_marks 12_app  inter_marks  income dummy              board  \\\n0   YES      87.3     NO    83.500000  393000    NO           AP Board   \n1   YES      81.9    YES    87.419339  174000    NO  Maharashtra Board   \n2   YES      75.8    YES    87.419339   13000   YES          Goa Board   \n3    NO      97.8     NO    98.700000  122000    NO               CBSE   \n4   YES      90.0     NO    93.600000  124000    NO           MP Board   \n\n   device on_course          cat pwd  age sex  \n0     NaN       NaN  General-EWS  NO   16   M  \n1  Tablet       YES      OBC-NCL  NO   21   F  \n2     NaN       NaN  General-EWS  NO   21   F  \n3  Laptop       YES           ST  NO   19   M  \n4   Phone       NaN           SC  NO   16   F  ",
            "text/html": "<div>\n<style scoped>\n    .dataframe tbody tr th:only-of-type {\n        vertical-align: middle;\n    }\n\n    .dataframe tbody tr th {\n        vertical-align: top;\n    }\n\n    .dataframe thead th {\n        text-align: right;\n    }\n</style>\n<table border=\"1\" class=\"dataframe\">\n  <thead>\n    <tr style=\"text-align: right;\">\n      <th></th>\n      <th>coach</th>\n      <th>hs_marks</th>\n      <th>12_app</th>\n      <th>inter_marks</th>\n      <th>income</th>\n      <th>dummy</th>\n      <th>board</th>\n      <th>device</th>\n      <th>on_course</th>\n      <th>cat</th>\n      <th>pwd</th>\n      <th>age</th>\n      <th>sex</th>\n    </tr>\n  </thead>\n  <tbody>\n    <tr>\n      <th>0</th>\n      <td>YES</td>\n      <td>87.3</td>\n      <td>NO</td>\n      <td>83.500000</td>\n      <td>393000</td>\n      <td>NO</td>\n      <td>AP Board</td>\n      <td>NaN</td>\n      <td>NaN</td>\n      <td>General-EWS</td>\n      <td>NO</td>\n      <td>16</td>\n      <td>M</td>\n    </tr>\n    <tr>\n      <th>1</th>\n      <td>YES</td>\n      <td>81.9</td>\n      <td>YES</td>\n      <td>87.419339</td>\n      <td>174000</td>\n      <td>NO</td>\n      <td>Maharashtra Board</td>\n      <td>Tablet</td>\n      <td>YES</td>\n      <td>OBC-NCL</td>\n      <td>NO</td>\n      <td>21</td>\n      <td>F</td>\n    </tr>\n    <tr>\n      <th>2</th>\n      <td>YES</td>\n      <td>75.8</td>\n      <td>YES</td>\n      <td>87.419339</td>\n      <td>13000</td>\n      <td>YES</td>\n      <td>Goa Board</td>\n      <td>NaN</td>\n      <td>NaN</td>\n      <td>General-EWS</td>\n      <td>NO</td>\n      <td>21</td>\n      <td>F</td>\n    </tr>\n    <tr>\n      <th>3</th>\n      <td>NO</td>\n      <td>97.8</td>\n      <td>NO</td>\n      <td>98.700000</td>\n      <td>122000</td>\n      <td>NO</td>\n      <td>CBSE</td>\n      <td>Laptop</td>\n      <td>YES</td>\n      <td>ST</td>\n      <td>NO</td>\n      <td>19</td>\n      <td>M</td>\n    </tr>\n    <tr>\n      <th>4</th>\n      <td>YES</td>\n      <td>90.0</td>\n      <td>NO</td>\n      <td>93.600000</td>\n      <td>124000</td>\n      <td>NO</td>\n      <td>MP Board</td>\n      <td>Phone</td>\n      <td>NaN</td>\n      <td>SC</td>\n      <td>NO</td>\n      <td>16</td>\n      <td>F</td>\n    </tr>\n  </tbody>\n</table>\n</div>"
          },
          "metadata": {}
        }
      ]
    },
    {
      "cell_type": "code",
      "source": [
        "test_dat['on_course'] = test_dat['on_course'].fillna('NO')\n",
        "test_dat.head()"
      ],
      "metadata": {
        "execution": {
          "iopub.status.busy": "2024-02-10T17:30:00.187222Z",
          "iopub.execute_input": "2024-02-10T17:30:00.18758Z",
          "iopub.status.idle": "2024-02-10T17:30:00.20901Z",
          "shell.execute_reply.started": "2024-02-10T17:30:00.187552Z",
          "shell.execute_reply": "2024-02-10T17:30:00.207844Z"
        },
        "trusted": true,
        "id": "UuFzvS5n9HoF",
        "outputId": "ee65e767-8d5e-468c-8361-8acb0424ee79"
      },
      "execution_count": null,
      "outputs": [
        {
          "execution_count": 121,
          "output_type": "execute_result",
          "data": {
            "text/plain": "  coach  hs_marks 12_app  inter_marks  income dummy              board  \\\n0   YES      87.3     NO    83.500000  393000    NO           AP Board   \n1   YES      81.9    YES    87.419339  174000    NO  Maharashtra Board   \n2   YES      75.8    YES    87.419339   13000   YES          Goa Board   \n3    NO      97.8     NO    98.700000  122000    NO               CBSE   \n4   YES      90.0     NO    93.600000  124000    NO           MP Board   \n\n   device on_course          cat pwd  age sex  \n0     NaN        NO  General-EWS  NO   16   M  \n1  Tablet       YES      OBC-NCL  NO   21   F  \n2     NaN        NO  General-EWS  NO   21   F  \n3  Laptop       YES           ST  NO   19   M  \n4   Phone        NO           SC  NO   16   F  ",
            "text/html": "<div>\n<style scoped>\n    .dataframe tbody tr th:only-of-type {\n        vertical-align: middle;\n    }\n\n    .dataframe tbody tr th {\n        vertical-align: top;\n    }\n\n    .dataframe thead th {\n        text-align: right;\n    }\n</style>\n<table border=\"1\" class=\"dataframe\">\n  <thead>\n    <tr style=\"text-align: right;\">\n      <th></th>\n      <th>coach</th>\n      <th>hs_marks</th>\n      <th>12_app</th>\n      <th>inter_marks</th>\n      <th>income</th>\n      <th>dummy</th>\n      <th>board</th>\n      <th>device</th>\n      <th>on_course</th>\n      <th>cat</th>\n      <th>pwd</th>\n      <th>age</th>\n      <th>sex</th>\n    </tr>\n  </thead>\n  <tbody>\n    <tr>\n      <th>0</th>\n      <td>YES</td>\n      <td>87.3</td>\n      <td>NO</td>\n      <td>83.500000</td>\n      <td>393000</td>\n      <td>NO</td>\n      <td>AP Board</td>\n      <td>NaN</td>\n      <td>NO</td>\n      <td>General-EWS</td>\n      <td>NO</td>\n      <td>16</td>\n      <td>M</td>\n    </tr>\n    <tr>\n      <th>1</th>\n      <td>YES</td>\n      <td>81.9</td>\n      <td>YES</td>\n      <td>87.419339</td>\n      <td>174000</td>\n      <td>NO</td>\n      <td>Maharashtra Board</td>\n      <td>Tablet</td>\n      <td>YES</td>\n      <td>OBC-NCL</td>\n      <td>NO</td>\n      <td>21</td>\n      <td>F</td>\n    </tr>\n    <tr>\n      <th>2</th>\n      <td>YES</td>\n      <td>75.8</td>\n      <td>YES</td>\n      <td>87.419339</td>\n      <td>13000</td>\n      <td>YES</td>\n      <td>Goa Board</td>\n      <td>NaN</td>\n      <td>NO</td>\n      <td>General-EWS</td>\n      <td>NO</td>\n      <td>21</td>\n      <td>F</td>\n    </tr>\n    <tr>\n      <th>3</th>\n      <td>NO</td>\n      <td>97.8</td>\n      <td>NO</td>\n      <td>98.700000</td>\n      <td>122000</td>\n      <td>NO</td>\n      <td>CBSE</td>\n      <td>Laptop</td>\n      <td>YES</td>\n      <td>ST</td>\n      <td>NO</td>\n      <td>19</td>\n      <td>M</td>\n    </tr>\n    <tr>\n      <th>4</th>\n      <td>YES</td>\n      <td>90.0</td>\n      <td>NO</td>\n      <td>93.600000</td>\n      <td>124000</td>\n      <td>NO</td>\n      <td>MP Board</td>\n      <td>Phone</td>\n      <td>NO</td>\n      <td>SC</td>\n      <td>NO</td>\n      <td>16</td>\n      <td>F</td>\n    </tr>\n  </tbody>\n</table>\n</div>"
          },
          "metadata": {}
        }
      ]
    },
    {
      "cell_type": "markdown",
      "source": [],
      "metadata": {
        "id": "PdaQ6g4v9HoF"
      }
    },
    {
      "cell_type": "code",
      "source": [
        "test_dat.isna().sum()"
      ],
      "metadata": {
        "execution": {
          "iopub.status.busy": "2024-02-10T17:30:00.818129Z",
          "iopub.execute_input": "2024-02-10T17:30:00.818519Z",
          "iopub.status.idle": "2024-02-10T17:30:00.832169Z",
          "shell.execute_reply.started": "2024-02-10T17:30:00.818488Z",
          "shell.execute_reply": "2024-02-10T17:30:00.830927Z"
        },
        "trusted": true,
        "id": "8VZjCiHy9HoF",
        "outputId": "33c6e347-1323-4e5c-bd34-5b873273d001"
      },
      "execution_count": null,
      "outputs": [
        {
          "execution_count": 122,
          "output_type": "execute_result",
          "data": {
            "text/plain": "coach             0\nhs_marks          0\n12_app            0\ninter_marks       0\nincome            0\ndummy             0\nboard             0\ndevice         2466\non_course         0\ncat               0\npwd               0\nage               0\nsex               0\ndtype: int64"
          },
          "metadata": {}
        }
      ]
    },
    {
      "cell_type": "code",
      "source": [
        "scaled_data = scaler.transform(test_dat[numerical_columns])\n",
        "for i, col in enumerate(numerical_columns):\n",
        "    test_dat['scaled_' + col] = scaled_data[:, i]"
      ],
      "metadata": {
        "execution": {
          "iopub.status.busy": "2024-02-10T17:30:01.174136Z",
          "iopub.execute_input": "2024-02-10T17:30:01.17512Z",
          "iopub.status.idle": "2024-02-10T17:30:01.185128Z",
          "shell.execute_reply.started": "2024-02-10T17:30:01.175073Z",
          "shell.execute_reply": "2024-02-10T17:30:01.184006Z"
        },
        "trusted": true,
        "id": "sBEfYuX19HoH"
      },
      "execution_count": null,
      "outputs": []
    },
    {
      "cell_type": "code",
      "source": [
        "test_dat.drop(numerical_columns, axis=1, inplace=True)\n",
        "test_dat.head()"
      ],
      "metadata": {
        "execution": {
          "iopub.status.busy": "2024-02-10T17:30:01.442231Z",
          "iopub.execute_input": "2024-02-10T17:30:01.442576Z",
          "iopub.status.idle": "2024-02-10T17:30:01.46089Z",
          "shell.execute_reply.started": "2024-02-10T17:30:01.442542Z",
          "shell.execute_reply": "2024-02-10T17:30:01.459793Z"
        },
        "trusted": true,
        "id": "XF8943sA9HoH",
        "outputId": "e92f6d9c-6e19-4612-99f0-5ba521516d47"
      },
      "execution_count": null,
      "outputs": [
        {
          "execution_count": 124,
          "output_type": "execute_result",
          "data": {
            "text/plain": "  coach 12_app dummy              board  device on_course          cat pwd  \\\n0   YES     NO    NO           AP Board     NaN        NO  General-EWS  NO   \n1   YES    YES    NO  Maharashtra Board  Tablet       YES      OBC-NCL  NO   \n2   YES    YES   YES          Goa Board     NaN        NO  General-EWS  NO   \n3    NO     NO    NO               CBSE  Laptop       YES           ST  NO   \n4   YES     NO    NO           MP Board   Phone        NO           SC  NO   \n\n  sex  scaled_hs_marks  scaled_inter_marks  scaled_income  scaled_age  \n0   M        -0.023606           -0.696830      -0.060092   -1.461996  \n1   F        -0.767214            0.000000      -0.308066    1.461551  \n2   F        -1.607216            0.000000      -0.490366    1.461551  \n3   M         1.422298            2.005619      -0.366945    0.292132  \n4   F         0.348198            1.098876      -0.364681   -1.461996  ",
            "text/html": "<div>\n<style scoped>\n    .dataframe tbody tr th:only-of-type {\n        vertical-align: middle;\n    }\n\n    .dataframe tbody tr th {\n        vertical-align: top;\n    }\n\n    .dataframe thead th {\n        text-align: right;\n    }\n</style>\n<table border=\"1\" class=\"dataframe\">\n  <thead>\n    <tr style=\"text-align: right;\">\n      <th></th>\n      <th>coach</th>\n      <th>12_app</th>\n      <th>dummy</th>\n      <th>board</th>\n      <th>device</th>\n      <th>on_course</th>\n      <th>cat</th>\n      <th>pwd</th>\n      <th>sex</th>\n      <th>scaled_hs_marks</th>\n      <th>scaled_inter_marks</th>\n      <th>scaled_income</th>\n      <th>scaled_age</th>\n    </tr>\n  </thead>\n  <tbody>\n    <tr>\n      <th>0</th>\n      <td>YES</td>\n      <td>NO</td>\n      <td>NO</td>\n      <td>AP Board</td>\n      <td>NaN</td>\n      <td>NO</td>\n      <td>General-EWS</td>\n      <td>NO</td>\n      <td>M</td>\n      <td>-0.023606</td>\n      <td>-0.696830</td>\n      <td>-0.060092</td>\n      <td>-1.461996</td>\n    </tr>\n    <tr>\n      <th>1</th>\n      <td>YES</td>\n      <td>YES</td>\n      <td>NO</td>\n      <td>Maharashtra Board</td>\n      <td>Tablet</td>\n      <td>YES</td>\n      <td>OBC-NCL</td>\n      <td>NO</td>\n      <td>F</td>\n      <td>-0.767214</td>\n      <td>0.000000</td>\n      <td>-0.308066</td>\n      <td>1.461551</td>\n    </tr>\n    <tr>\n      <th>2</th>\n      <td>YES</td>\n      <td>YES</td>\n      <td>YES</td>\n      <td>Goa Board</td>\n      <td>NaN</td>\n      <td>NO</td>\n      <td>General-EWS</td>\n      <td>NO</td>\n      <td>F</td>\n      <td>-1.607216</td>\n      <td>0.000000</td>\n      <td>-0.490366</td>\n      <td>1.461551</td>\n    </tr>\n    <tr>\n      <th>3</th>\n      <td>NO</td>\n      <td>NO</td>\n      <td>NO</td>\n      <td>CBSE</td>\n      <td>Laptop</td>\n      <td>YES</td>\n      <td>ST</td>\n      <td>NO</td>\n      <td>M</td>\n      <td>1.422298</td>\n      <td>2.005619</td>\n      <td>-0.366945</td>\n      <td>0.292132</td>\n    </tr>\n    <tr>\n      <th>4</th>\n      <td>YES</td>\n      <td>NO</td>\n      <td>NO</td>\n      <td>MP Board</td>\n      <td>Phone</td>\n      <td>NO</td>\n      <td>SC</td>\n      <td>NO</td>\n      <td>F</td>\n      <td>0.348198</td>\n      <td>1.098876</td>\n      <td>-0.364681</td>\n      <td>-1.461996</td>\n    </tr>\n  </tbody>\n</table>\n</div>"
          },
          "metadata": {}
        }
      ]
    },
    {
      "cell_type": "code",
      "source": [
        "encoded_data = encoder.transform(test_dat[['coach', '12_app', 'dummy', 'board', 'on_course', 'cat', 'pwd', 'sex']])\n",
        "new_columns = encoder.get_feature_names_out(categorical_columns)\n",
        "test_dat[new_columns] = encoded_data"
      ],
      "metadata": {
        "execution": {
          "iopub.status.busy": "2024-02-10T17:30:01.839244Z",
          "iopub.execute_input": "2024-02-10T17:30:01.839607Z",
          "iopub.status.idle": "2024-02-10T17:30:01.872424Z",
          "shell.execute_reply.started": "2024-02-10T17:30:01.839577Z",
          "shell.execute_reply": "2024-02-10T17:30:01.871399Z"
        },
        "trusted": true,
        "id": "ew0HGonp9HoH"
      },
      "execution_count": null,
      "outputs": []
    },
    {
      "cell_type": "code",
      "source": [
        "test_dat.drop(categorical_columns, axis=1, inplace=True)"
      ],
      "metadata": {
        "execution": {
          "iopub.status.busy": "2024-02-10T17:30:02.160828Z",
          "iopub.execute_input": "2024-02-10T17:30:02.161682Z",
          "iopub.status.idle": "2024-02-10T17:30:02.168543Z",
          "shell.execute_reply.started": "2024-02-10T17:30:02.16165Z",
          "shell.execute_reply": "2024-02-10T17:30:02.167536Z"
        },
        "trusted": true,
        "id": "ZuhjEE7I9HoH"
      },
      "execution_count": null,
      "outputs": []
    },
    {
      "cell_type": "code",
      "source": [
        "test_dat.head()"
      ],
      "metadata": {
        "execution": {
          "iopub.status.busy": "2024-02-10T17:30:02.576146Z",
          "iopub.execute_input": "2024-02-10T17:30:02.576541Z",
          "iopub.status.idle": "2024-02-10T17:30:02.611089Z",
          "shell.execute_reply.started": "2024-02-10T17:30:02.576512Z",
          "shell.execute_reply": "2024-02-10T17:30:02.610154Z"
        },
        "trusted": true,
        "id": "QIa28vMj9HoH",
        "outputId": "0c162e11-1589-4652-c095-8f336fbdb884"
      },
      "execution_count": null,
      "outputs": [
        {
          "execution_count": 127,
          "output_type": "execute_result",
          "data": {
            "text/plain": "   device  scaled_hs_marks  scaled_inter_marks  scaled_income  scaled_age  \\\n0     NaN        -0.023606           -0.696830      -0.060092   -1.461996   \n1  Tablet        -0.767214            0.000000      -0.308066    1.461551   \n2     NaN        -1.607216            0.000000      -0.490366    1.461551   \n3  Laptop         1.422298            2.005619      -0.366945    0.292132   \n4   Phone         0.348198            1.098876      -0.364681   -1.461996   \n\n   coach_NO  coach_YES  12_app_NO  12_app_YES  dummy_NO  ...  cat_General  \\\n0       0.0        1.0        1.0         0.0       1.0  ...          0.0   \n1       0.0        1.0        0.0         1.0       1.0  ...          0.0   \n2       0.0        1.0        0.0         1.0       0.0  ...          0.0   \n3       1.0        0.0        1.0         0.0       1.0  ...          0.0   \n4       0.0        1.0        1.0         0.0       1.0  ...          0.0   \n\n   cat_General-EWS  cat_Minority  cat_OBC-NCL  cat_SC  cat_ST  pwd_NO  \\\n0              1.0           0.0          0.0     0.0     0.0     1.0   \n1              0.0           0.0          1.0     0.0     0.0     1.0   \n2              1.0           0.0          0.0     0.0     0.0     1.0   \n3              0.0           0.0          0.0     0.0     1.0     1.0   \n4              0.0           0.0          0.0     1.0     0.0     1.0   \n\n   pwd_YES  sex_F  sex_M  \n0      0.0    0.0    1.0  \n1      0.0    1.0    0.0  \n2      0.0    1.0    0.0  \n3      0.0    0.0    1.0  \n4      0.0    1.0    0.0  \n\n[5 rows x 43 columns]",
            "text/html": "<div>\n<style scoped>\n    .dataframe tbody tr th:only-of-type {\n        vertical-align: middle;\n    }\n\n    .dataframe tbody tr th {\n        vertical-align: top;\n    }\n\n    .dataframe thead th {\n        text-align: right;\n    }\n</style>\n<table border=\"1\" class=\"dataframe\">\n  <thead>\n    <tr style=\"text-align: right;\">\n      <th></th>\n      <th>device</th>\n      <th>scaled_hs_marks</th>\n      <th>scaled_inter_marks</th>\n      <th>scaled_income</th>\n      <th>scaled_age</th>\n      <th>coach_NO</th>\n      <th>coach_YES</th>\n      <th>12_app_NO</th>\n      <th>12_app_YES</th>\n      <th>dummy_NO</th>\n      <th>...</th>\n      <th>cat_General</th>\n      <th>cat_General-EWS</th>\n      <th>cat_Minority</th>\n      <th>cat_OBC-NCL</th>\n      <th>cat_SC</th>\n      <th>cat_ST</th>\n      <th>pwd_NO</th>\n      <th>pwd_YES</th>\n      <th>sex_F</th>\n      <th>sex_M</th>\n    </tr>\n  </thead>\n  <tbody>\n    <tr>\n      <th>0</th>\n      <td>NaN</td>\n      <td>-0.023606</td>\n      <td>-0.696830</td>\n      <td>-0.060092</td>\n      <td>-1.461996</td>\n      <td>0.0</td>\n      <td>1.0</td>\n      <td>1.0</td>\n      <td>0.0</td>\n      <td>1.0</td>\n      <td>...</td>\n      <td>0.0</td>\n      <td>1.0</td>\n      <td>0.0</td>\n      <td>0.0</td>\n      <td>0.0</td>\n      <td>0.0</td>\n      <td>1.0</td>\n      <td>0.0</td>\n      <td>0.0</td>\n      <td>1.0</td>\n    </tr>\n    <tr>\n      <th>1</th>\n      <td>Tablet</td>\n      <td>-0.767214</td>\n      <td>0.000000</td>\n      <td>-0.308066</td>\n      <td>1.461551</td>\n      <td>0.0</td>\n      <td>1.0</td>\n      <td>0.0</td>\n      <td>1.0</td>\n      <td>1.0</td>\n      <td>...</td>\n      <td>0.0</td>\n      <td>0.0</td>\n      <td>0.0</td>\n      <td>1.0</td>\n      <td>0.0</td>\n      <td>0.0</td>\n      <td>1.0</td>\n      <td>0.0</td>\n      <td>1.0</td>\n      <td>0.0</td>\n    </tr>\n    <tr>\n      <th>2</th>\n      <td>NaN</td>\n      <td>-1.607216</td>\n      <td>0.000000</td>\n      <td>-0.490366</td>\n      <td>1.461551</td>\n      <td>0.0</td>\n      <td>1.0</td>\n      <td>0.0</td>\n      <td>1.0</td>\n      <td>0.0</td>\n      <td>...</td>\n      <td>0.0</td>\n      <td>1.0</td>\n      <td>0.0</td>\n      <td>0.0</td>\n      <td>0.0</td>\n      <td>0.0</td>\n      <td>1.0</td>\n      <td>0.0</td>\n      <td>1.0</td>\n      <td>0.0</td>\n    </tr>\n    <tr>\n      <th>3</th>\n      <td>Laptop</td>\n      <td>1.422298</td>\n      <td>2.005619</td>\n      <td>-0.366945</td>\n      <td>0.292132</td>\n      <td>1.0</td>\n      <td>0.0</td>\n      <td>1.0</td>\n      <td>0.0</td>\n      <td>1.0</td>\n      <td>...</td>\n      <td>0.0</td>\n      <td>0.0</td>\n      <td>0.0</td>\n      <td>0.0</td>\n      <td>0.0</td>\n      <td>1.0</td>\n      <td>1.0</td>\n      <td>0.0</td>\n      <td>0.0</td>\n      <td>1.0</td>\n    </tr>\n    <tr>\n      <th>4</th>\n      <td>Phone</td>\n      <td>0.348198</td>\n      <td>1.098876</td>\n      <td>-0.364681</td>\n      <td>-1.461996</td>\n      <td>0.0</td>\n      <td>1.0</td>\n      <td>1.0</td>\n      <td>0.0</td>\n      <td>1.0</td>\n      <td>...</td>\n      <td>0.0</td>\n      <td>0.0</td>\n      <td>0.0</td>\n      <td>0.0</td>\n      <td>1.0</td>\n      <td>0.0</td>\n      <td>1.0</td>\n      <td>0.0</td>\n      <td>1.0</td>\n      <td>0.0</td>\n    </tr>\n  </tbody>\n</table>\n<p>5 rows × 43 columns</p>\n</div>"
          },
          "metadata": {}
        }
      ]
    },
    {
      "cell_type": "code",
      "source": [
        "test_dat.drop('device', axis=1, inplace=True)"
      ],
      "metadata": {
        "execution": {
          "iopub.status.busy": "2024-02-10T17:30:02.972071Z",
          "iopub.execute_input": "2024-02-10T17:30:02.972431Z",
          "iopub.status.idle": "2024-02-10T17:30:02.979833Z",
          "shell.execute_reply.started": "2024-02-10T17:30:02.972402Z",
          "shell.execute_reply": "2024-02-10T17:30:02.97881Z"
        },
        "trusted": true,
        "id": "zGUN7jlc9HoH"
      },
      "execution_count": null,
      "outputs": []
    },
    {
      "cell_type": "code",
      "source": [
        "test_dat.head()"
      ],
      "metadata": {
        "execution": {
          "iopub.status.busy": "2024-02-10T17:30:03.425345Z",
          "iopub.execute_input": "2024-02-10T17:30:03.42619Z",
          "iopub.status.idle": "2024-02-10T17:30:03.461808Z",
          "shell.execute_reply.started": "2024-02-10T17:30:03.426154Z",
          "shell.execute_reply": "2024-02-10T17:30:03.460905Z"
        },
        "trusted": true,
        "id": "jE0l9mEF9HoH",
        "outputId": "abad95a7-0a64-4244-e868-c524ff4d61f5"
      },
      "execution_count": null,
      "outputs": [
        {
          "execution_count": 129,
          "output_type": "execute_result",
          "data": {
            "text/plain": "   scaled_hs_marks  scaled_inter_marks  scaled_income  scaled_age  coach_NO  \\\n0        -0.023606           -0.696830      -0.060092   -1.461996       0.0   \n1        -0.767214            0.000000      -0.308066    1.461551       0.0   \n2        -1.607216            0.000000      -0.490366    1.461551       0.0   \n3         1.422298            2.005619      -0.366945    0.292132       1.0   \n4         0.348198            1.098876      -0.364681   -1.461996       0.0   \n\n   coach_YES  12_app_NO  12_app_YES  dummy_NO  dummy_YES  ...  cat_General  \\\n0        1.0        1.0         0.0       1.0        0.0  ...          0.0   \n1        1.0        0.0         1.0       1.0        0.0  ...          0.0   \n2        1.0        0.0         1.0       0.0        1.0  ...          0.0   \n3        0.0        1.0         0.0       1.0        0.0  ...          0.0   \n4        1.0        1.0         0.0       1.0        0.0  ...          0.0   \n\n   cat_General-EWS  cat_Minority  cat_OBC-NCL  cat_SC  cat_ST  pwd_NO  \\\n0              1.0           0.0          0.0     0.0     0.0     1.0   \n1              0.0           0.0          1.0     0.0     0.0     1.0   \n2              1.0           0.0          0.0     0.0     0.0     1.0   \n3              0.0           0.0          0.0     0.0     1.0     1.0   \n4              0.0           0.0          0.0     1.0     0.0     1.0   \n\n   pwd_YES  sex_F  sex_M  \n0      0.0    0.0    1.0  \n1      0.0    1.0    0.0  \n2      0.0    1.0    0.0  \n3      0.0    0.0    1.0  \n4      0.0    1.0    0.0  \n\n[5 rows x 42 columns]",
            "text/html": "<div>\n<style scoped>\n    .dataframe tbody tr th:only-of-type {\n        vertical-align: middle;\n    }\n\n    .dataframe tbody tr th {\n        vertical-align: top;\n    }\n\n    .dataframe thead th {\n        text-align: right;\n    }\n</style>\n<table border=\"1\" class=\"dataframe\">\n  <thead>\n    <tr style=\"text-align: right;\">\n      <th></th>\n      <th>scaled_hs_marks</th>\n      <th>scaled_inter_marks</th>\n      <th>scaled_income</th>\n      <th>scaled_age</th>\n      <th>coach_NO</th>\n      <th>coach_YES</th>\n      <th>12_app_NO</th>\n      <th>12_app_YES</th>\n      <th>dummy_NO</th>\n      <th>dummy_YES</th>\n      <th>...</th>\n      <th>cat_General</th>\n      <th>cat_General-EWS</th>\n      <th>cat_Minority</th>\n      <th>cat_OBC-NCL</th>\n      <th>cat_SC</th>\n      <th>cat_ST</th>\n      <th>pwd_NO</th>\n      <th>pwd_YES</th>\n      <th>sex_F</th>\n      <th>sex_M</th>\n    </tr>\n  </thead>\n  <tbody>\n    <tr>\n      <th>0</th>\n      <td>-0.023606</td>\n      <td>-0.696830</td>\n      <td>-0.060092</td>\n      <td>-1.461996</td>\n      <td>0.0</td>\n      <td>1.0</td>\n      <td>1.0</td>\n      <td>0.0</td>\n      <td>1.0</td>\n      <td>0.0</td>\n      <td>...</td>\n      <td>0.0</td>\n      <td>1.0</td>\n      <td>0.0</td>\n      <td>0.0</td>\n      <td>0.0</td>\n      <td>0.0</td>\n      <td>1.0</td>\n      <td>0.0</td>\n      <td>0.0</td>\n      <td>1.0</td>\n    </tr>\n    <tr>\n      <th>1</th>\n      <td>-0.767214</td>\n      <td>0.000000</td>\n      <td>-0.308066</td>\n      <td>1.461551</td>\n      <td>0.0</td>\n      <td>1.0</td>\n      <td>0.0</td>\n      <td>1.0</td>\n      <td>1.0</td>\n      <td>0.0</td>\n      <td>...</td>\n      <td>0.0</td>\n      <td>0.0</td>\n      <td>0.0</td>\n      <td>1.0</td>\n      <td>0.0</td>\n      <td>0.0</td>\n      <td>1.0</td>\n      <td>0.0</td>\n      <td>1.0</td>\n      <td>0.0</td>\n    </tr>\n    <tr>\n      <th>2</th>\n      <td>-1.607216</td>\n      <td>0.000000</td>\n      <td>-0.490366</td>\n      <td>1.461551</td>\n      <td>0.0</td>\n      <td>1.0</td>\n      <td>0.0</td>\n      <td>1.0</td>\n      <td>0.0</td>\n      <td>1.0</td>\n      <td>...</td>\n      <td>0.0</td>\n      <td>1.0</td>\n      <td>0.0</td>\n      <td>0.0</td>\n      <td>0.0</td>\n      <td>0.0</td>\n      <td>1.0</td>\n      <td>0.0</td>\n      <td>1.0</td>\n      <td>0.0</td>\n    </tr>\n    <tr>\n      <th>3</th>\n      <td>1.422298</td>\n      <td>2.005619</td>\n      <td>-0.366945</td>\n      <td>0.292132</td>\n      <td>1.0</td>\n      <td>0.0</td>\n      <td>1.0</td>\n      <td>0.0</td>\n      <td>1.0</td>\n      <td>0.0</td>\n      <td>...</td>\n      <td>0.0</td>\n      <td>0.0</td>\n      <td>0.0</td>\n      <td>0.0</td>\n      <td>0.0</td>\n      <td>1.0</td>\n      <td>1.0</td>\n      <td>0.0</td>\n      <td>0.0</td>\n      <td>1.0</td>\n    </tr>\n    <tr>\n      <th>4</th>\n      <td>0.348198</td>\n      <td>1.098876</td>\n      <td>-0.364681</td>\n      <td>-1.461996</td>\n      <td>0.0</td>\n      <td>1.0</td>\n      <td>1.0</td>\n      <td>0.0</td>\n      <td>1.0</td>\n      <td>0.0</td>\n      <td>...</td>\n      <td>0.0</td>\n      <td>0.0</td>\n      <td>0.0</td>\n      <td>0.0</td>\n      <td>1.0</td>\n      <td>0.0</td>\n      <td>1.0</td>\n      <td>0.0</td>\n      <td>1.0</td>\n      <td>0.0</td>\n    </tr>\n  </tbody>\n</table>\n<p>5 rows × 42 columns</p>\n</div>"
          },
          "metadata": {}
        }
      ]
    },
    {
      "cell_type": "code",
      "source": [
        "test_pred = model1.predict(test_dat)"
      ],
      "metadata": {
        "execution": {
          "iopub.status.busy": "2024-02-10T17:30:03.816578Z",
          "iopub.execute_input": "2024-02-10T17:30:03.817395Z",
          "iopub.status.idle": "2024-02-10T17:30:04.266104Z",
          "shell.execute_reply.started": "2024-02-10T17:30:03.817364Z",
          "shell.execute_reply": "2024-02-10T17:30:04.265278Z"
        },
        "trusted": true,
        "id": "FSMQAMs59HoI",
        "outputId": "d2d3eb07-03cf-4e75-db46-567917fe2748"
      },
      "execution_count": null,
      "outputs": [
        {
          "name": "stdout",
          "text": "157/157 [==============================] - 0s 2ms/step\n",
          "output_type": "stream"
        }
      ]
    },
    {
      "cell_type": "code",
      "source": [
        "test_pred"
      ],
      "metadata": {
        "execution": {
          "iopub.status.busy": "2024-02-10T17:30:04.26764Z",
          "iopub.execute_input": "2024-02-10T17:30:04.267978Z",
          "iopub.status.idle": "2024-02-10T17:30:04.276105Z",
          "shell.execute_reply.started": "2024-02-10T17:30:04.26795Z",
          "shell.execute_reply": "2024-02-10T17:30:04.27528Z"
        },
        "trusted": true,
        "id": "ryk8tSbZ9HoI",
        "outputId": "ba25f65d-a8e0-4580-b137-82915bd0bc25"
      },
      "execution_count": null,
      "outputs": [
        {
          "execution_count": 131,
          "output_type": "execute_result",
          "data": {
            "text/plain": "array([[0.9999254 ],\n       [0.98998344],\n       [0.99999905],\n       ...,\n       [0.00427288],\n       [0.0062625 ],\n       [0.9998971 ]], dtype=float32)"
          },
          "metadata": {}
        }
      ]
    },
    {
      "cell_type": "code",
      "source": [
        "prob = pd.DataFrame(test_pred, columns=['Pass'])\n",
        "df_final = pd.concat([ids, prob], axis=1)\n",
        "def pass_fail_converter(value):\n",
        "    return \"PASS\" if value >= 0.80 else \"FAIL\"\n",
        "df_final[\"Passed\"] = df_final[\"Pass\"].apply(pass_fail_converter)\n",
        "df_final.drop(\"Pass\", axis=1, inplace=True)\n",
        "df_final.head()\n"
      ],
      "metadata": {
        "execution": {
          "iopub.status.busy": "2024-02-10T17:30:04.541203Z",
          "iopub.execute_input": "2024-02-10T17:30:04.541532Z",
          "iopub.status.idle": "2024-02-10T17:30:04.55676Z",
          "shell.execute_reply.started": "2024-02-10T17:30:04.541508Z",
          "shell.execute_reply": "2024-02-10T17:30:04.555657Z"
        },
        "trusted": true,
        "id": "EbojQzY69HoI",
        "outputId": "2b8a414f-fb07-4624-bed4-28daf682daf2"
      },
      "execution_count": null,
      "outputs": [
        {
          "execution_count": 132,
          "output_type": "execute_result",
          "data": {
            "text/plain": "     Roll No Passed\n0  546722345   PASS\n1  546722346   PASS\n2  546722347   PASS\n3  546722348   FAIL\n4  546722349   PASS",
            "text/html": "<div>\n<style scoped>\n    .dataframe tbody tr th:only-of-type {\n        vertical-align: middle;\n    }\n\n    .dataframe tbody tr th {\n        vertical-align: top;\n    }\n\n    .dataframe thead th {\n        text-align: right;\n    }\n</style>\n<table border=\"1\" class=\"dataframe\">\n  <thead>\n    <tr style=\"text-align: right;\">\n      <th></th>\n      <th>Roll No</th>\n      <th>Passed</th>\n    </tr>\n  </thead>\n  <tbody>\n    <tr>\n      <th>0</th>\n      <td>546722345</td>\n      <td>PASS</td>\n    </tr>\n    <tr>\n      <th>1</th>\n      <td>546722346</td>\n      <td>PASS</td>\n    </tr>\n    <tr>\n      <th>2</th>\n      <td>546722347</td>\n      <td>PASS</td>\n    </tr>\n    <tr>\n      <th>3</th>\n      <td>546722348</td>\n      <td>FAIL</td>\n    </tr>\n    <tr>\n      <th>4</th>\n      <td>546722349</td>\n      <td>PASS</td>\n    </tr>\n  </tbody>\n</table>\n</div>"
          },
          "metadata": {}
        }
      ]
    },
    {
      "cell_type": "code",
      "source": [
        "print(df_final)"
      ],
      "metadata": {
        "execution": {
          "iopub.status.busy": "2024-02-10T17:30:04.838396Z",
          "iopub.execute_input": "2024-02-10T17:30:04.838774Z",
          "iopub.status.idle": "2024-02-10T17:30:04.846235Z",
          "shell.execute_reply.started": "2024-02-10T17:30:04.838744Z",
          "shell.execute_reply": "2024-02-10T17:30:04.845123Z"
        },
        "trusted": true,
        "id": "GDk6YIiW9HoI",
        "outputId": "3e62f12f-2a44-439d-f141-817f323f2586"
      },
      "execution_count": null,
      "outputs": [
        {
          "name": "stdout",
          "text": "        Roll No Passed\n0     546722345   PASS\n1     546722346   PASS\n2     546722347   PASS\n3     546722348   FAIL\n4     546722349   PASS\n...         ...    ...\n4995  546727340   PASS\n4996  546727341   PASS\n4997  546727342   FAIL\n4998  546727343   FAIL\n4999  546727344   PASS\n\n[5000 rows x 2 columns]\n",
          "output_type": "stream"
        }
      ]
    },
    {
      "cell_type": "code",
      "source": [
        "df_final.to_csv('submission.csv', index=False)"
      ],
      "metadata": {
        "execution": {
          "iopub.status.busy": "2024-02-10T17:30:05.261377Z",
          "iopub.execute_input": "2024-02-10T17:30:05.261732Z",
          "iopub.status.idle": "2024-02-10T17:30:05.275113Z",
          "shell.execute_reply.started": "2024-02-10T17:30:05.261705Z",
          "shell.execute_reply": "2024-02-10T17:30:05.274248Z"
        },
        "trusted": true,
        "id": "sgwPPyWX9HoJ"
      },
      "execution_count": null,
      "outputs": []
    },
    {
      "cell_type": "code",
      "source": [],
      "metadata": {
        "id": "FAmg8Kef9HoJ"
      },
      "execution_count": null,
      "outputs": []
    }
  ]
}