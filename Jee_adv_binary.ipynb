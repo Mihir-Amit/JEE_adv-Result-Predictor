{
  "metadata": {
    "kernelspec": {
      "language": "python",
      "display_name": "Python 3",
      "name": "python3"
    },
    "language_info": {
      "name": "python",
      "version": "3.10.13",
      "mimetype": "text/x-python",
      "codemirror_mode": {
        "name": "ipython",
        "version": 3
      },
      "pygments_lexer": "ipython3",
      "nbconvert_exporter": "python",
      "file_extension": ".py"
    },
    "kaggle": {
      "accelerator": "nvidiaTeslaT4",
      "dataSources": [
        {
          "sourceId": 70278,
          "databundleVersionId": 7690613,
          "sourceType": "competition"
        }
      ],
      "dockerImageVersionId": 30648,
      "isInternetEnabled": true,
      "language": "python",
      "sourceType": "notebook",
      "isGpuEnabled": true
    },
    "colab": {
      "name": "Jee_advanced Result Prediction",
      "provenance": [],
      "include_colab_link": true
    }
  },
  "nbformat_minor": 0,
  "nbformat": 4,
  "cells": [
    {
      "cell_type": "markdown",
      "metadata": {
        "id": "view-in-github",
        "colab_type": "text"
      },
      "source": [
        "<a href=\"https://colab.research.google.com/github/Mihir-Amit/JEE_adv-Result-Predictor/blob/main/Jee_adv_binary.ipynb\" target=\"_parent\"><img src=\"https://colab.research.google.com/assets/colab-badge.svg\" alt=\"Open In Colab\"/></a>"
      ]
    },
    {
      "source": [
        "\n",
        "# IMPORTANT: RUN THIS CELL IN ORDER TO IMPORT YOUR KAGGLE DATA SOURCES\n",
        "# TO THE CORRECT LOCATION (/kaggle/input) IN YOUR NOTEBOOK,\n",
        "# THEN FEEL FREE TO DELETE THIS CELL.\n",
        "# NOTE: THIS NOTEBOOK ENVIRONMENT DIFFERS FROM KAGGLE'S PYTHON\n",
        "# ENVIRONMENT SO THERE MAY BE MISSING LIBRARIES USED BY YOUR\n",
        "# NOTEBOOK.\n",
        "\n",
        "import os\n",
        "import sys\n",
        "from tempfile import NamedTemporaryFile\n",
        "from urllib.request import urlopen\n",
        "from urllib.parse import unquote, urlparse\n",
        "from urllib.error import HTTPError\n",
        "from zipfile import ZipFile\n",
        "import tarfile\n",
        "import shutil\n",
        "\n",
        "CHUNK_SIZE = 40960\n",
        "DATA_SOURCE_MAPPING = 'yamunas-odyssey-a-dream-to-conquer-iit-jammu:https%3A%2F%2Fstorage.googleapis.com%2Fkaggle-competitions-data%2Fkaggle-v2%2F70278%2F7690613%2Fbundle%2Farchive.zip%3FX-Goog-Algorithm%3DGOOG4-RSA-SHA256%26X-Goog-Credential%3Dgcp-kaggle-com%2540kaggle-161607.iam.gserviceaccount.com%252F20240212%252Fauto%252Fstorage%252Fgoog4_request%26X-Goog-Date%3D20240212T155707Z%26X-Goog-Expires%3D259200%26X-Goog-SignedHeaders%3Dhost%26X-Goog-Signature%3D74945dc7ee0323f5a144e97994dc0119ae3a5bfd1780d2b4cf207afb1b88cfec3c0343857b74df0ea473d983012e18c9467c3ab0aa8388a3501fb0d8ad539e8b19cf092e39a44a9a4d785dabed2fb3781db750dd1ff263c4cdf6774719a398062172973b83c799af78b3c2c22caad1a88be7e041168fdb8f67dcf07ab06f6e4c8b5548cb0e5c5d865f819198e1fcb3815cfe352eac5981c5022ae25bb0516bd02dd763f3a7364f730c84d1a67b91e3590acf88e1a5b3e6a134c5b61c44baa4f008f290375e61acc520c09ee64ca74aab1082ae5579b23d5d2f8b5efdcf3b0e98ca00bcb5d8d8abd11612404012138736d7f28b2028ee690c11647fed1c82a201'\n",
        "\n",
        "KAGGLE_INPUT_PATH='/kaggle/input'\n",
        "KAGGLE_WORKING_PATH='/kaggle/working'\n",
        "KAGGLE_SYMLINK='kaggle'\n",
        "\n",
        "!umount /kaggle/input/ 2> /dev/null\n",
        "shutil.rmtree('/kaggle/input', ignore_errors=True)\n",
        "os.makedirs(KAGGLE_INPUT_PATH, 0o777, exist_ok=True)\n",
        "os.makedirs(KAGGLE_WORKING_PATH, 0o777, exist_ok=True)\n",
        "\n",
        "try:\n",
        "  os.symlink(KAGGLE_INPUT_PATH, os.path.join(\"..\", 'input'), target_is_directory=True)\n",
        "except FileExistsError:\n",
        "  pass\n",
        "try:\n",
        "  os.symlink(KAGGLE_WORKING_PATH, os.path.join(\"..\", 'working'), target_is_directory=True)\n",
        "except FileExistsError:\n",
        "  pass\n",
        "\n",
        "for data_source_mapping in DATA_SOURCE_MAPPING.split(','):\n",
        "    directory, download_url_encoded = data_source_mapping.split(':')\n",
        "    download_url = unquote(download_url_encoded)\n",
        "    filename = urlparse(download_url).path\n",
        "    destination_path = os.path.join(KAGGLE_INPUT_PATH, directory)\n",
        "    try:\n",
        "        with urlopen(download_url) as fileres, NamedTemporaryFile() as tfile:\n",
        "            total_length = fileres.headers['content-length']\n",
        "            print(f'Downloading {directory}, {total_length} bytes compressed')\n",
        "            dl = 0\n",
        "            data = fileres.read(CHUNK_SIZE)\n",
        "            while len(data) > 0:\n",
        "                dl += len(data)\n",
        "                tfile.write(data)\n",
        "                done = int(50 * dl / int(total_length))\n",
        "                sys.stdout.write(f\"\\r[{'=' * done}{' ' * (50-done)}] {dl} bytes downloaded\")\n",
        "                sys.stdout.flush()\n",
        "                data = fileres.read(CHUNK_SIZE)\n",
        "            if filename.endswith('.zip'):\n",
        "              with ZipFile(tfile) as zfile:\n",
        "                zfile.extractall(destination_path)\n",
        "            else:\n",
        "              with tarfile.open(tfile.name) as tarfile:\n",
        "                tarfile.extractall(destination_path)\n",
        "            print(f'\\nDownloaded and uncompressed: {directory}')\n",
        "    except HTTPError as e:\n",
        "        print(f'Failed to load (likely expired) {download_url} to path {destination_path}')\n",
        "        continue\n",
        "    except OSError as e:\n",
        "        print(f'Failed to load {download_url} to path {destination_path}')\n",
        "        continue\n",
        "\n",
        "print('Data source import complete.')\n"
      ],
      "metadata": {
        "id": "OqOmD0bFCVtb"
      },
      "cell_type": "code",
      "outputs": [],
      "execution_count": null
    },
    {
      "cell_type": "code",
      "source": [
        "# This Python 3 environment comes with many helpful analytics libraries installed\n",
        "# It is defined by the kaggle/python Docker image: https://github.com/kaggle/docker-python\n",
        "# For example, here's several helpful packages to load\n",
        "\n",
        "import numpy as np # linear algebra\n",
        "import pandas as pd # data processing, CSV file I/O (e.g. pd.read_csv)\n",
        "\n",
        "# Input data files are available in the read-only \"../input/\" directory\n",
        "# For example, running this (by clicking run or pressing Shift+Enter) will list all files under the input directory\n",
        "\n",
        "import os\n",
        "for dirname, _, filenames in os.walk('/kaggle/input'):\n",
        "    for filename in filenames:\n",
        "        print(os.path.join(dirname, filename))\n",
        "\n",
        "# You can write up to 20GB to the current directory (/kaggle/working/) that gets preserved as output when you create a version using \"Save & Run All\"\n",
        "# You can also write temporary files to /kaggle/temp/, but they won't be saved outside of the current session"
      ],
      "metadata": {
        "_uuid": "8f2839f25d086af736a60e9eeb907d3b93b6e0e5",
        "_cell_guid": "b1076dfc-b9ad-4769-8c92-a6c4dae69d19",
        "execution": {
          "iopub.status.busy": "2024-02-12T15:48:22.480222Z",
          "iopub.execute_input": "2024-02-12T15:48:22.480513Z",
          "iopub.status.idle": "2024-02-12T15:48:24.237118Z",
          "shell.execute_reply.started": "2024-02-12T15:48:22.480488Z",
          "shell.execute_reply": "2024-02-12T15:48:24.236032Z"
        },
        "trusted": true,
        "id": "6sFuNuZ5CVtd",
        "outputId": "25d6d5b8-ad5b-4a58-e7a3-5a61f90da336"
      },
      "execution_count": null,
      "outputs": [
        {
          "name": "stdout",
          "text": "/kaggle/input/yamunas-odyssey-a-dream-to-conquer-iit-jammu/sample_submission.csv\n/kaggle/input/yamunas-odyssey-a-dream-to-conquer-iit-jammu/train.csv\n/kaggle/input/yamunas-odyssey-a-dream-to-conquer-iit-jammu/test.csv\n",
          "output_type": "stream"
        }
      ]
    },
    {
      "cell_type": "code",
      "source": [
        "import tensorflow as tf\n",
        "from tensorflow import keras\n",
        "from tensorflow.keras import layers\n",
        "from tensorflow.keras import regularizers\n",
        "from tensorflow.keras.callbacks import EarlyStopping\n",
        "\n",
        "\n",
        "from sklearn.preprocessing import StandardScaler\n",
        "from sklearn.preprocessing import LabelEncoder\n",
        "from sklearn.metrics import accuracy_score\n",
        "from sklearn.preprocessing import OneHotEncoder\n",
        "from sklearn.model_selection import train_test_split\n",
        "\n",
        "\n",
        "import matplotlib.pyplot as plt\n",
        "import seaborn as sns"
      ],
      "metadata": {
        "trusted": true,
        "id": "qUodV6UCCVte"
      },
      "execution_count": null,
      "outputs": []
    },
    {
      "cell_type": "code",
      "source": [
        "print(tf.__version__)"
      ],
      "metadata": {
        "execution": {
          "iopub.status.busy": "2024-02-12T15:48:43.906614Z",
          "iopub.execute_input": "2024-02-12T15:48:43.90706Z",
          "iopub.status.idle": "2024-02-12T15:48:43.912082Z",
          "shell.execute_reply.started": "2024-02-12T15:48:43.907035Z",
          "shell.execute_reply": "2024-02-12T15:48:43.911067Z"
        },
        "trusted": true,
        "id": "yho2_Q9SCVtf",
        "outputId": "177c7911-5f6e-4fff-d390-4a2f1cc5e06a"
      },
      "execution_count": null,
      "outputs": [
        {
          "name": "stdout",
          "text": "2.15.0\n",
          "output_type": "stream"
        }
      ]
    },
    {
      "cell_type": "code",
      "source": [
        "#data loading\n",
        "data = pd.read_csv(\"/kaggle/input/yamunas-odyssey-a-dream-to-conquer-iit-jammu/train.csv\")\n",
        "data.head()\n"
      ],
      "metadata": {
        "execution": {
          "iopub.status.busy": "2024-02-12T15:48:43.914883Z",
          "iopub.execute_input": "2024-02-12T15:48:43.915229Z",
          "iopub.status.idle": "2024-02-12T15:48:44.396259Z",
          "shell.execute_reply.started": "2024-02-12T15:48:43.915196Z",
          "shell.execute_reply": "2024-02-12T15:48:44.395432Z"
        },
        "trusted": true,
        "id": "UMSkYmP1CVtf",
        "outputId": "a1882cb2-3df1-4fae-d762-31b06c8c5224"
      },
      "execution_count": null,
      "outputs": [
        {
          "execution_count": 4,
          "output_type": "execute_result",
          "data": {
            "text/plain": "      Roll No         Name Caoching  High School Marks 12th Appearing  \\\n0  5467238558  NOOFT MFFYT       NO               80.5             NO   \n1  5467299091  CXYTK EYIRF       NO               83.3            YES   \n2   546729932  UKIFE PPYNH       NO               76.4            YES   \n3   546729181  TZIRV XMAKN      YES               89.7             NO   \n4   546724317  NVQJK PVMJH      YES               98.9             NO   \n\n   Intermediate Marks   Income Dummy       School Board Device to Study  \\\n0                92.2    59000    NO  Maharashtra Board          Laptop   \n1                 NaN   390000    NO               BSEB           Phone   \n2                 NaN  3140000    NO               CBSE             NaN   \n3                79.4   345000   YES           HP Board             NaN   \n4                95.3    29000    NO               CBSE             NaN   \n\n  Online Course     Category  PwD  Age Sex Passed  \n0           YES  General-EWS   NO   20   M   FAIL  \n1           YES           ST   NO   18   F   FAIL  \n2           NaN      OBC-NCL   NO   18   M   FAIL  \n3           NaN           SC   NO   21   M   PASS  \n4           NaN           SC  YES   17   M   PASS  ",
            "text/html": "<div>\n<style scoped>\n    .dataframe tbody tr th:only-of-type {\n        vertical-align: middle;\n    }\n\n    .dataframe tbody tr th {\n        vertical-align: top;\n    }\n\n    .dataframe thead th {\n        text-align: right;\n    }\n</style>\n<table border=\"1\" class=\"dataframe\">\n  <thead>\n    <tr style=\"text-align: right;\">\n      <th></th>\n      <th>Roll No</th>\n      <th>Name</th>\n      <th>Caoching</th>\n      <th>High School Marks</th>\n      <th>12th Appearing</th>\n      <th>Intermediate Marks</th>\n      <th>Income</th>\n      <th>Dummy</th>\n      <th>School Board</th>\n      <th>Device to Study</th>\n      <th>Online Course</th>\n      <th>Category</th>\n      <th>PwD</th>\n      <th>Age</th>\n      <th>Sex</th>\n      <th>Passed</th>\n    </tr>\n  </thead>\n  <tbody>\n    <tr>\n      <th>0</th>\n      <td>5467238558</td>\n      <td>NOOFT MFFYT</td>\n      <td>NO</td>\n      <td>80.5</td>\n      <td>NO</td>\n      <td>92.2</td>\n      <td>59000</td>\n      <td>NO</td>\n      <td>Maharashtra Board</td>\n      <td>Laptop</td>\n      <td>YES</td>\n      <td>General-EWS</td>\n      <td>NO</td>\n      <td>20</td>\n      <td>M</td>\n      <td>FAIL</td>\n    </tr>\n    <tr>\n      <th>1</th>\n      <td>5467299091</td>\n      <td>CXYTK EYIRF</td>\n      <td>NO</td>\n      <td>83.3</td>\n      <td>YES</td>\n      <td>NaN</td>\n      <td>390000</td>\n      <td>NO</td>\n      <td>BSEB</td>\n      <td>Phone</td>\n      <td>YES</td>\n      <td>ST</td>\n      <td>NO</td>\n      <td>18</td>\n      <td>F</td>\n      <td>FAIL</td>\n    </tr>\n    <tr>\n      <th>2</th>\n      <td>546729932</td>\n      <td>UKIFE PPYNH</td>\n      <td>NO</td>\n      <td>76.4</td>\n      <td>YES</td>\n      <td>NaN</td>\n      <td>3140000</td>\n      <td>NO</td>\n      <td>CBSE</td>\n      <td>NaN</td>\n      <td>NaN</td>\n      <td>OBC-NCL</td>\n      <td>NO</td>\n      <td>18</td>\n      <td>M</td>\n      <td>FAIL</td>\n    </tr>\n    <tr>\n      <th>3</th>\n      <td>546729181</td>\n      <td>TZIRV XMAKN</td>\n      <td>YES</td>\n      <td>89.7</td>\n      <td>NO</td>\n      <td>79.4</td>\n      <td>345000</td>\n      <td>YES</td>\n      <td>HP Board</td>\n      <td>NaN</td>\n      <td>NaN</td>\n      <td>SC</td>\n      <td>NO</td>\n      <td>21</td>\n      <td>M</td>\n      <td>PASS</td>\n    </tr>\n    <tr>\n      <th>4</th>\n      <td>546724317</td>\n      <td>NVQJK PVMJH</td>\n      <td>YES</td>\n      <td>98.9</td>\n      <td>NO</td>\n      <td>95.3</td>\n      <td>29000</td>\n      <td>NO</td>\n      <td>CBSE</td>\n      <td>NaN</td>\n      <td>NaN</td>\n      <td>SC</td>\n      <td>YES</td>\n      <td>17</td>\n      <td>M</td>\n      <td>PASS</td>\n    </tr>\n  </tbody>\n</table>\n</div>"
          },
          "metadata": {}
        }
      ]
    },
    {
      "cell_type": "code",
      "source": [
        "columns = data.columns\n",
        "print(columns)\n",
        "print(data.size)"
      ],
      "metadata": {
        "execution": {
          "iopub.status.busy": "2024-02-12T15:48:44.397172Z",
          "iopub.execute_input": "2024-02-12T15:48:44.397442Z",
          "iopub.status.idle": "2024-02-12T15:48:44.404912Z",
          "shell.execute_reply.started": "2024-02-12T15:48:44.397409Z",
          "shell.execute_reply": "2024-02-12T15:48:44.404003Z"
        },
        "trusted": true,
        "id": "Oj8Hls4gCVtf",
        "outputId": "daa2b820-9803-48e8-e9e5-272e39c9d63b"
      },
      "execution_count": null,
      "outputs": [
        {
          "name": "stdout",
          "text": "Index(['Roll No', 'Name', 'Caoching', 'High School Marks', '12th Appearing',\n       'Intermediate Marks', 'Income', 'Dummy', 'School Board',\n       'Device to Study', 'Online Course', 'Category', 'PwD', 'Age', 'Sex',\n       'Passed'],\n      dtype='object')\n1600000\n",
          "output_type": "stream"
        }
      ]
    },
    {
      "cell_type": "code",
      "source": [
        "data.drop(['Roll No', 'Name'], axis=1, inplace=True)"
      ],
      "metadata": {
        "execution": {
          "iopub.status.busy": "2024-02-12T15:48:44.406012Z",
          "iopub.execute_input": "2024-02-12T15:48:44.406263Z",
          "iopub.status.idle": "2024-02-12T15:48:44.434496Z",
          "shell.execute_reply.started": "2024-02-12T15:48:44.406241Z",
          "shell.execute_reply": "2024-02-12T15:48:44.433785Z"
        },
        "trusted": true,
        "id": "9lhwkjjBCVtg"
      },
      "execution_count": null,
      "outputs": []
    },
    {
      "cell_type": "code",
      "source": [
        "data.rename(columns={'Caoching':'coach', 'High School Marks':'hs_marks', '12th Appearing':'12_app', 'Intermediate Marks':'inter_marks', 'Income':'income', 'Dummy':'dummy', 'School Board':'board', 'Device to Study':'device', 'Online Course':'on_course', 'Category':'cat', 'PwD':'pwd', 'Age':'age', 'Sex':'sex','Passed':'pass'}, inplace=True)"
      ],
      "metadata": {
        "execution": {
          "iopub.status.busy": "2024-02-12T15:48:44.43553Z",
          "iopub.execute_input": "2024-02-12T15:48:44.436153Z",
          "iopub.status.idle": "2024-02-12T15:48:44.44159Z",
          "shell.execute_reply.started": "2024-02-12T15:48:44.436123Z",
          "shell.execute_reply": "2024-02-12T15:48:44.440735Z"
        },
        "trusted": true,
        "id": "q_GV2CWLCVtg"
      },
      "execution_count": null,
      "outputs": []
    },
    {
      "cell_type": "code",
      "source": [
        "data.head()\n",
        "X = data.drop('pass', axis=1)\n",
        "Y = data['pass']"
      ],
      "metadata": {
        "execution": {
          "iopub.status.busy": "2024-02-12T15:48:44.442692Z",
          "iopub.execute_input": "2024-02-12T15:48:44.443016Z",
          "iopub.status.idle": "2024-02-12T15:48:44.461703Z",
          "shell.execute_reply.started": "2024-02-12T15:48:44.442983Z",
          "shell.execute_reply": "2024-02-12T15:48:44.460905Z"
        },
        "trusted": true,
        "id": "RdYp3PrICVtg"
      },
      "execution_count": null,
      "outputs": []
    },
    {
      "cell_type": "code",
      "source": [
        "X"
      ],
      "metadata": {
        "execution": {
          "iopub.status.busy": "2024-02-12T15:48:44.462612Z",
          "iopub.execute_input": "2024-02-12T15:48:44.462899Z",
          "iopub.status.idle": "2024-02-12T15:48:44.487079Z",
          "shell.execute_reply.started": "2024-02-12T15:48:44.462874Z",
          "shell.execute_reply": "2024-02-12T15:48:44.486246Z"
        },
        "trusted": true,
        "id": "G1czYr_GCVth",
        "outputId": "34a127f9-11df-452a-8111-31300266740b"
      },
      "execution_count": null,
      "outputs": [
        {
          "execution_count": 9,
          "output_type": "execute_result",
          "data": {
            "text/plain": "      coach  hs_marks 12_app  inter_marks   income dummy              board  \\\n0        NO      80.5     NO         92.2    59000    NO  Maharashtra Board   \n1        NO      83.3    YES          NaN   390000    NO               BSEB   \n2        NO      76.4    YES          NaN  3140000    NO               CBSE   \n3       YES      89.7     NO         79.4   345000   YES           HP Board   \n4       YES      98.9     NO         95.3    29000    NO               CBSE   \n...     ...       ...    ...          ...      ...   ...                ...   \n99995   YES      78.3     NO         94.2   147000    NO               GSEB   \n99996    NO      93.7    YES          NaN   442000    NO               CBSE   \n99997   YES      76.8    YES          NaN    43000    NO               CBSE   \n99998   YES      87.0     NO         96.8    85000   YES           UP Board   \n99999   YES      96.4    YES          NaN   284000    NO               CBSE   \n\n       device on_course          cat  pwd  age sex  \n0      Laptop       YES  General-EWS   NO   20   M  \n1       Phone       YES           ST   NO   18   F  \n2         NaN       NaN      OBC-NCL   NO   18   M  \n3         NaN       NaN           SC   NO   21   M  \n4         NaN       NaN           SC  YES   17   M  \n...       ...       ...          ...  ...  ...  ..  \n99995   Phone       YES           ST   NO   18   M  \n99996  Tablet       YES     Minority   NO   20   F  \n99997     NaN       NaN      General   NO   19   M  \n99998     NaN       NaN  General-EWS   NO   18   F  \n99999     NaN       NaN  General-EWS   NO   20   F  \n\n[100000 rows x 13 columns]",
            "text/html": "<div>\n<style scoped>\n    .dataframe tbody tr th:only-of-type {\n        vertical-align: middle;\n    }\n\n    .dataframe tbody tr th {\n        vertical-align: top;\n    }\n\n    .dataframe thead th {\n        text-align: right;\n    }\n</style>\n<table border=\"1\" class=\"dataframe\">\n  <thead>\n    <tr style=\"text-align: right;\">\n      <th></th>\n      <th>coach</th>\n      <th>hs_marks</th>\n      <th>12_app</th>\n      <th>inter_marks</th>\n      <th>income</th>\n      <th>dummy</th>\n      <th>board</th>\n      <th>device</th>\n      <th>on_course</th>\n      <th>cat</th>\n      <th>pwd</th>\n      <th>age</th>\n      <th>sex</th>\n    </tr>\n  </thead>\n  <tbody>\n    <tr>\n      <th>0</th>\n      <td>NO</td>\n      <td>80.5</td>\n      <td>NO</td>\n      <td>92.2</td>\n      <td>59000</td>\n      <td>NO</td>\n      <td>Maharashtra Board</td>\n      <td>Laptop</td>\n      <td>YES</td>\n      <td>General-EWS</td>\n      <td>NO</td>\n      <td>20</td>\n      <td>M</td>\n    </tr>\n    <tr>\n      <th>1</th>\n      <td>NO</td>\n      <td>83.3</td>\n      <td>YES</td>\n      <td>NaN</td>\n      <td>390000</td>\n      <td>NO</td>\n      <td>BSEB</td>\n      <td>Phone</td>\n      <td>YES</td>\n      <td>ST</td>\n      <td>NO</td>\n      <td>18</td>\n      <td>F</td>\n    </tr>\n    <tr>\n      <th>2</th>\n      <td>NO</td>\n      <td>76.4</td>\n      <td>YES</td>\n      <td>NaN</td>\n      <td>3140000</td>\n      <td>NO</td>\n      <td>CBSE</td>\n      <td>NaN</td>\n      <td>NaN</td>\n      <td>OBC-NCL</td>\n      <td>NO</td>\n      <td>18</td>\n      <td>M</td>\n    </tr>\n    <tr>\n      <th>3</th>\n      <td>YES</td>\n      <td>89.7</td>\n      <td>NO</td>\n      <td>79.4</td>\n      <td>345000</td>\n      <td>YES</td>\n      <td>HP Board</td>\n      <td>NaN</td>\n      <td>NaN</td>\n      <td>SC</td>\n      <td>NO</td>\n      <td>21</td>\n      <td>M</td>\n    </tr>\n    <tr>\n      <th>4</th>\n      <td>YES</td>\n      <td>98.9</td>\n      <td>NO</td>\n      <td>95.3</td>\n      <td>29000</td>\n      <td>NO</td>\n      <td>CBSE</td>\n      <td>NaN</td>\n      <td>NaN</td>\n      <td>SC</td>\n      <td>YES</td>\n      <td>17</td>\n      <td>M</td>\n    </tr>\n    <tr>\n      <th>...</th>\n      <td>...</td>\n      <td>...</td>\n      <td>...</td>\n      <td>...</td>\n      <td>...</td>\n      <td>...</td>\n      <td>...</td>\n      <td>...</td>\n      <td>...</td>\n      <td>...</td>\n      <td>...</td>\n      <td>...</td>\n      <td>...</td>\n    </tr>\n    <tr>\n      <th>99995</th>\n      <td>YES</td>\n      <td>78.3</td>\n      <td>NO</td>\n      <td>94.2</td>\n      <td>147000</td>\n      <td>NO</td>\n      <td>GSEB</td>\n      <td>Phone</td>\n      <td>YES</td>\n      <td>ST</td>\n      <td>NO</td>\n      <td>18</td>\n      <td>M</td>\n    </tr>\n    <tr>\n      <th>99996</th>\n      <td>NO</td>\n      <td>93.7</td>\n      <td>YES</td>\n      <td>NaN</td>\n      <td>442000</td>\n      <td>NO</td>\n      <td>CBSE</td>\n      <td>Tablet</td>\n      <td>YES</td>\n      <td>Minority</td>\n      <td>NO</td>\n      <td>20</td>\n      <td>F</td>\n    </tr>\n    <tr>\n      <th>99997</th>\n      <td>YES</td>\n      <td>76.8</td>\n      <td>YES</td>\n      <td>NaN</td>\n      <td>43000</td>\n      <td>NO</td>\n      <td>CBSE</td>\n      <td>NaN</td>\n      <td>NaN</td>\n      <td>General</td>\n      <td>NO</td>\n      <td>19</td>\n      <td>M</td>\n    </tr>\n    <tr>\n      <th>99998</th>\n      <td>YES</td>\n      <td>87.0</td>\n      <td>NO</td>\n      <td>96.8</td>\n      <td>85000</td>\n      <td>YES</td>\n      <td>UP Board</td>\n      <td>NaN</td>\n      <td>NaN</td>\n      <td>General-EWS</td>\n      <td>NO</td>\n      <td>18</td>\n      <td>F</td>\n    </tr>\n    <tr>\n      <th>99999</th>\n      <td>YES</td>\n      <td>96.4</td>\n      <td>YES</td>\n      <td>NaN</td>\n      <td>284000</td>\n      <td>NO</td>\n      <td>CBSE</td>\n      <td>NaN</td>\n      <td>NaN</td>\n      <td>General-EWS</td>\n      <td>NO</td>\n      <td>20</td>\n      <td>F</td>\n    </tr>\n  </tbody>\n</table>\n<p>100000 rows × 13 columns</p>\n</div>"
          },
          "metadata": {}
        }
      ]
    },
    {
      "cell_type": "code",
      "source": [
        "Y"
      ],
      "metadata": {
        "execution": {
          "iopub.status.busy": "2024-02-12T15:48:44.491229Z",
          "iopub.execute_input": "2024-02-12T15:48:44.491498Z",
          "iopub.status.idle": "2024-02-12T15:48:44.498163Z",
          "shell.execute_reply.started": "2024-02-12T15:48:44.491475Z",
          "shell.execute_reply": "2024-02-12T15:48:44.497288Z"
        },
        "trusted": true,
        "id": "5vA2ltbsCVti",
        "outputId": "3d802b13-bec8-49ae-d098-598de9bd7692"
      },
      "execution_count": null,
      "outputs": [
        {
          "execution_count": 10,
          "output_type": "execute_result",
          "data": {
            "text/plain": "0        FAIL\n1        FAIL\n2        FAIL\n3        PASS\n4        PASS\n         ... \n99995    PASS\n99996    FAIL\n99997    PASS\n99998    PASS\n99999    PASS\nName: pass, Length: 100000, dtype: object"
          },
          "metadata": {}
        }
      ]
    },
    {
      "cell_type": "code",
      "source": [
        "mapping = {\"PASS\": 1, \"FAIL\": 0}\n",
        "converted_array = [mapping[value] for value in Y]\n",
        "Y=converted_array"
      ],
      "metadata": {
        "execution": {
          "iopub.status.busy": "2024-02-12T15:48:44.499268Z",
          "iopub.execute_input": "2024-02-12T15:48:44.499573Z",
          "iopub.status.idle": "2024-02-12T15:48:44.529896Z",
          "shell.execute_reply.started": "2024-02-12T15:48:44.499546Z",
          "shell.execute_reply": "2024-02-12T15:48:44.528952Z"
        },
        "trusted": true,
        "id": "qE7sF1ERCVti"
      },
      "execution_count": null,
      "outputs": []
    },
    {
      "cell_type": "code",
      "source": [
        "Y=np.array(Y)\n",
        "Y"
      ],
      "metadata": {
        "execution": {
          "iopub.status.busy": "2024-02-12T15:48:44.531072Z",
          "iopub.execute_input": "2024-02-12T15:48:44.531313Z",
          "iopub.status.idle": "2024-02-12T15:48:44.547265Z",
          "shell.execute_reply.started": "2024-02-12T15:48:44.531292Z",
          "shell.execute_reply": "2024-02-12T15:48:44.546454Z"
        },
        "trusted": true,
        "id": "-sq_urNsCVti",
        "outputId": "0d1a491c-ae59-4878-fe01-bbb02358eec9"
      },
      "execution_count": null,
      "outputs": [
        {
          "execution_count": 12,
          "output_type": "execute_result",
          "data": {
            "text/plain": "array([0, 0, 0, ..., 1, 1, 1])"
          },
          "metadata": {}
        }
      ]
    },
    {
      "cell_type": "code",
      "source": [
        "print(X.isna().sum())"
      ],
      "metadata": {
        "execution": {
          "iopub.status.busy": "2024-02-12T15:48:44.548223Z",
          "iopub.execute_input": "2024-02-12T15:48:44.548501Z",
          "iopub.status.idle": "2024-02-12T15:48:44.640962Z",
          "shell.execute_reply.started": "2024-02-12T15:48:44.548479Z",
          "shell.execute_reply": "2024-02-12T15:48:44.639699Z"
        },
        "trusted": true,
        "id": "DI2ApSLvCVti",
        "outputId": "8a8d6410-c7d4-4035-f7a0-eec365de180c"
      },
      "execution_count": null,
      "outputs": [
        {
          "name": "stdout",
          "text": "coach              0\nhs_marks           0\n12_app             0\ninter_marks    39931\nincome             0\ndummy              0\nboard              0\ndevice         50066\non_course      65062\ncat                0\npwd                0\nage                0\nsex                0\ndtype: int64\n",
          "output_type": "stream"
        }
      ]
    },
    {
      "cell_type": "code",
      "source": [
        "inter_mean = X['inter_marks'].mean();\n",
        "X['inter_marks'] = X['inter_marks'].fillna(X['inter_marks'].mean())"
      ],
      "metadata": {
        "execution": {
          "iopub.status.busy": "2024-02-12T15:48:44.641921Z",
          "iopub.execute_input": "2024-02-12T15:48:44.642639Z",
          "iopub.status.idle": "2024-02-12T15:48:44.651892Z",
          "shell.execute_reply.started": "2024-02-12T15:48:44.642613Z",
          "shell.execute_reply": "2024-02-12T15:48:44.65114Z"
        },
        "trusted": true,
        "id": "qWJcc1isCVtj"
      },
      "execution_count": null,
      "outputs": []
    },
    {
      "cell_type": "code",
      "source": [
        "print(X.isna().sum())"
      ],
      "metadata": {
        "execution": {
          "iopub.status.busy": "2024-02-12T15:48:44.652884Z",
          "iopub.execute_input": "2024-02-12T15:48:44.653195Z",
          "iopub.status.idle": "2024-02-12T15:48:44.740536Z",
          "shell.execute_reply.started": "2024-02-12T15:48:44.65317Z",
          "shell.execute_reply": "2024-02-12T15:48:44.739669Z"
        },
        "trusted": true,
        "id": "lHv7lGU2CVtj",
        "outputId": "d20a7e58-d9f1-410c-c078-58d40624973b"
      },
      "execution_count": null,
      "outputs": [
        {
          "name": "stdout",
          "text": "coach              0\nhs_marks           0\n12_app             0\ninter_marks        0\nincome             0\ndummy              0\nboard              0\ndevice         50066\non_course      65062\ncat                0\npwd                0\nage                0\nsex                0\ndtype: int64\n",
          "output_type": "stream"
        }
      ]
    },
    {
      "cell_type": "code",
      "source": [
        "value_counts = data['device'].value_counts()\n",
        "plt.bar(value_counts.index, value_counts.values)"
      ],
      "metadata": {
        "execution": {
          "iopub.status.busy": "2024-02-12T15:48:44.741608Z",
          "iopub.execute_input": "2024-02-12T15:48:44.742154Z",
          "iopub.status.idle": "2024-02-12T15:48:44.954402Z",
          "shell.execute_reply.started": "2024-02-12T15:48:44.742129Z",
          "shell.execute_reply": "2024-02-12T15:48:44.953592Z"
        },
        "trusted": true,
        "id": "eYNk6lB6CVtj",
        "outputId": "3a144997-5823-4ece-bb38-fccb9b4d1d7c"
      },
      "execution_count": null,
      "outputs": [
        {
          "execution_count": 16,
          "output_type": "execute_result",
          "data": {
            "text/plain": "<BarContainer object of 3 artists>"
          },
          "metadata": {}
        },
        {
          "output_type": "display_data",
          "data": {
            "text/plain": "<Figure size 640x480 with 1 Axes>",
            "image/png": "[encoded data removed]"
          },
          "metadata": {}
        }
      ]
    },
    {
      "cell_type": "code",
      "source": [
        "value_counts = data['on_course'].value_counts()\n",
        "plt.bar(value_counts.index, value_counts.values)"
      ],
      "metadata": {
        "execution": {
          "iopub.status.busy": "2024-02-12T15:48:44.955576Z",
          "iopub.execute_input": "2024-02-12T15:48:44.955899Z",
          "iopub.status.idle": "2024-02-12T15:48:45.095185Z",
          "shell.execute_reply.started": "2024-02-12T15:48:44.95587Z",
          "shell.execute_reply": "2024-02-12T15:48:45.094405Z"
        },
        "trusted": true,
        "id": "8f6I5dJ_CVtj",
        "outputId": "a9701aa3-fead-4c5f-ac9b-fa4a7892dd75"
      },
      "execution_count": null,
      "outputs": [
        {
          "execution_count": 17,
          "output_type": "execute_result",
          "data": {
            "text/plain": "<BarContainer object of 1 artists>"
          },
          "metadata": {}
        },
        {
          "output_type": "display_data",
          "data": {
            "text/plain": "<Figure size 640x480 with 1 Axes>",
            "image/png": "[encoded data removed]"
          },
          "metadata": {}
        }
      ]
    },
    {
      "cell_type": "code",
      "source": [
        "X.drop('device', axis=1, inplace=True)"
      ],
      "metadata": {
        "execution": {
          "iopub.status.busy": "2024-02-12T15:48:45.096286Z",
          "iopub.execute_input": "2024-02-12T15:48:45.096633Z",
          "iopub.status.idle": "2024-02-12T15:48:45.113593Z",
          "shell.execute_reply.started": "2024-02-12T15:48:45.096609Z",
          "shell.execute_reply": "2024-02-12T15:48:45.112917Z"
        },
        "trusted": true,
        "id": "7yI1nDapCVtj"
      },
      "execution_count": null,
      "outputs": []
    },
    {
      "cell_type": "code",
      "source": [
        "X"
      ],
      "metadata": {
        "execution": {
          "iopub.status.busy": "2024-02-12T15:48:45.114561Z",
          "iopub.execute_input": "2024-02-12T15:48:45.114849Z",
          "iopub.status.idle": "2024-02-12T15:48:45.13412Z",
          "shell.execute_reply.started": "2024-02-12T15:48:45.114825Z",
          "shell.execute_reply": "2024-02-12T15:48:45.133284Z"
        },
        "trusted": true,
        "id": "yVYChwzyCVtk",
        "outputId": "08fcf8b0-5323-41e6-f0fd-9f53c178638b"
      },
      "execution_count": null,
      "outputs": [
        {
          "execution_count": 19,
          "output_type": "execute_result",
          "data": {
            "text/plain": "      coach  hs_marks 12_app  inter_marks   income dummy              board  \\\n0        NO      80.5     NO    92.200000    59000    NO  Maharashtra Board   \n1        NO      83.3    YES    87.419339   390000    NO               BSEB   \n2        NO      76.4    YES    87.419339  3140000    NO               CBSE   \n3       YES      89.7     NO    79.400000   345000   YES           HP Board   \n4       YES      98.9     NO    95.300000    29000    NO               CBSE   \n...     ...       ...    ...          ...      ...   ...                ...   \n99995   YES      78.3     NO    94.200000   147000    NO               GSEB   \n99996    NO      93.7    YES    87.419339   442000    NO               CBSE   \n99997   YES      76.8    YES    87.419339    43000    NO               CBSE   \n99998   YES      87.0     NO    96.800000    85000   YES           UP Board   \n99999   YES      96.4    YES    87.419339   284000    NO               CBSE   \n\n      on_course          cat  pwd  age sex  \n0           YES  General-EWS   NO   20   M  \n1           YES           ST   NO   18   F  \n2           NaN      OBC-NCL   NO   18   M  \n3           NaN           SC   NO   21   M  \n4           NaN           SC  YES   17   M  \n...         ...          ...  ...  ...  ..  \n99995       YES           ST   NO   18   M  \n99996       YES     Minority   NO   20   F  \n99997       NaN      General   NO   19   M  \n99998       NaN  General-EWS   NO   18   F  \n99999       NaN  General-EWS   NO   20   F  \n\n[100000 rows x 12 columns]",
            "text/html": "<div>\n<style scoped>\n    .dataframe tbody tr th:only-of-type {\n        vertical-align: middle;\n    }\n\n    .dataframe tbody tr th {\n        vertical-align: top;\n    }\n\n    .dataframe thead th {\n        text-align: right;\n    }\n</style>\n<table border=\"1\" class=\"dataframe\">\n  <thead>\n    <tr style=\"text-align: right;\">\n      <th></th>\n      <th>coach</th>\n      <th>hs_marks</th>\n      <th>12_app</th>\n      <th>inter_marks</th>\n      <th>income</th>\n      <th>dummy</th>\n      <th>board</th>\n      <th>on_course</th>\n      <th>cat</th>\n      <th>pwd</th>\n      <th>age</th>\n      <th>sex</th>\n    </tr>\n  </thead>\n  <tbody>\n    <tr>\n      <th>0</th>\n      <td>NO</td>\n      <td>80.5</td>\n      <td>NO</td>\n      <td>92.200000</td>\n      <td>59000</td>\n      <td>NO</td>\n      <td>Maharashtra Board</td>\n      <td>YES</td>\n      <td>General-EWS</td>\n      <td>NO</td>\n      <td>20</td>\n      <td>M</td>\n    </tr>\n    <tr>\n      <th>1</th>\n      <td>NO</td>\n      <td>83.3</td>\n      <td>YES</td>\n      <td>87.419339</td>\n      <td>390000</td>\n      <td>NO</td>\n      <td>BSEB</td>\n      <td>YES</td>\n      <td>ST</td>\n      <td>NO</td>\n      <td>18</td>\n      <td>F</td>\n    </tr>\n    <tr>\n      <th>2</th>\n      <td>NO</td>\n      <td>76.4</td>\n      <td>YES</td>\n      <td>87.419339</td>\n      <td>3140000</td>\n      <td>NO</td>\n      <td>CBSE</td>\n      <td>NaN</td>\n      <td>OBC-NCL</td>\n      <td>NO</td>\n      <td>18</td>\n      <td>M</td>\n    </tr>\n    <tr>\n      <th>3</th>\n      <td>YES</td>\n      <td>89.7</td>\n      <td>NO</td>\n      <td>79.400000</td>\n      <td>345000</td>\n      <td>YES</td>\n      <td>HP Board</td>\n      <td>NaN</td>\n      <td>SC</td>\n      <td>NO</td>\n      <td>21</td>\n      <td>M</td>\n    </tr>\n    <tr>\n      <th>4</th>\n      <td>YES</td>\n      <td>98.9</td>\n      <td>NO</td>\n      <td>95.300000</td>\n      <td>29000</td>\n      <td>NO</td>\n      <td>CBSE</td>\n      <td>NaN</td>\n      <td>SC</td>\n      <td>YES</td>\n      <td>17</td>\n      <td>M</td>\n    </tr>\n    <tr>\n      <th>...</th>\n      <td>...</td>\n      <td>...</td>\n      <td>...</td>\n      <td>...</td>\n      <td>...</td>\n      <td>...</td>\n      <td>...</td>\n      <td>...</td>\n      <td>...</td>\n      <td>...</td>\n      <td>...</td>\n      <td>...</td>\n    </tr>\n    <tr>\n      <th>99995</th>\n      <td>YES</td>\n      <td>78.3</td>\n      <td>NO</td>\n      <td>94.200000</td>\n      <td>147000</td>\n      <td>NO</td>\n      <td>GSEB</td>\n      <td>YES</td>\n      <td>ST</td>\n      <td>NO</td>\n      <td>18</td>\n      <td>M</td>\n    </tr>\n    <tr>\n      <th>99996</th>\n      <td>NO</td>\n      <td>93.7</td>\n      <td>YES</td>\n      <td>87.419339</td>\n      <td>442000</td>\n      <td>NO</td>\n      <td>CBSE</td>\n      <td>YES</td>\n      <td>Minority</td>\n      <td>NO</td>\n      <td>20</td>\n      <td>F</td>\n    </tr>\n    <tr>\n      <th>99997</th>\n      <td>YES</td>\n      <td>76.8</td>\n      <td>YES</td>\n      <td>87.419339</td>\n      <td>43000</td>\n      <td>NO</td>\n      <td>CBSE</td>\n      <td>NaN</td>\n      <td>General</td>\n      <td>NO</td>\n      <td>19</td>\n      <td>M</td>\n    </tr>\n    <tr>\n      <th>99998</th>\n      <td>YES</td>\n      <td>87.0</td>\n      <td>NO</td>\n      <td>96.800000</td>\n      <td>85000</td>\n      <td>YES</td>\n      <td>UP Board</td>\n      <td>NaN</td>\n      <td>General-EWS</td>\n      <td>NO</td>\n      <td>18</td>\n      <td>F</td>\n    </tr>\n    <tr>\n      <th>99999</th>\n      <td>YES</td>\n      <td>96.4</td>\n      <td>YES</td>\n      <td>87.419339</td>\n      <td>284000</td>\n      <td>NO</td>\n      <td>CBSE</td>\n      <td>NaN</td>\n      <td>General-EWS</td>\n      <td>NO</td>\n      <td>20</td>\n      <td>F</td>\n    </tr>\n  </tbody>\n</table>\n<p>100000 rows × 12 columns</p>\n</div>"
          },
          "metadata": {}
        }
      ]
    },
    {
      "cell_type": "code",
      "source": [
        "X['on_course'] = X['on_course'].fillna('NO')"
      ],
      "metadata": {
        "execution": {
          "iopub.status.busy": "2024-02-12T15:48:45.135095Z",
          "iopub.execute_input": "2024-02-12T15:48:45.135385Z",
          "iopub.status.idle": "2024-02-12T15:48:45.153626Z",
          "shell.execute_reply.started": "2024-02-12T15:48:45.135361Z",
          "shell.execute_reply": "2024-02-12T15:48:45.152765Z"
        },
        "trusted": true,
        "id": "RlkSd_AFCVtk"
      },
      "execution_count": null,
      "outputs": []
    },
    {
      "cell_type": "code",
      "source": [
        "X"
      ],
      "metadata": {
        "execution": {
          "iopub.status.busy": "2024-02-12T15:48:45.154698Z",
          "iopub.execute_input": "2024-02-12T15:48:45.155027Z",
          "iopub.status.idle": "2024-02-12T15:48:45.175535Z",
          "shell.execute_reply.started": "2024-02-12T15:48:45.154997Z",
          "shell.execute_reply": "2024-02-12T15:48:45.174658Z"
        },
        "trusted": true,
        "id": "tV6lrXNICVtk",
        "outputId": "257aa7b9-d15b-4747-ba49-752d3b476340"
      },
      "execution_count": null,
      "outputs": [
        {
          "execution_count": 21,
          "output_type": "execute_result",
          "data": {
            "text/plain": "      coach  hs_marks 12_app  inter_marks   income dummy              board  \\\n0        NO      80.5     NO    92.200000    59000    NO  Maharashtra Board   \n1        NO      83.3    YES    87.419339   390000    NO               BSEB   \n2        NO      76.4    YES    87.419339  3140000    NO               CBSE   \n3       YES      89.7     NO    79.400000   345000   YES           HP Board   \n4       YES      98.9     NO    95.300000    29000    NO               CBSE   \n...     ...       ...    ...          ...      ...   ...                ...   \n99995   YES      78.3     NO    94.200000   147000    NO               GSEB   \n99996    NO      93.7    YES    87.419339   442000    NO               CBSE   \n99997   YES      76.8    YES    87.419339    43000    NO               CBSE   \n99998   YES      87.0     NO    96.800000    85000   YES           UP Board   \n99999   YES      96.4    YES    87.419339   284000    NO               CBSE   \n\n      on_course          cat  pwd  age sex  \n0           YES  General-EWS   NO   20   M  \n1           YES           ST   NO   18   F  \n2            NO      OBC-NCL   NO   18   M  \n3            NO           SC   NO   21   M  \n4            NO           SC  YES   17   M  \n...         ...          ...  ...  ...  ..  \n99995       YES           ST   NO   18   M  \n99996       YES     Minority   NO   20   F  \n99997        NO      General   NO   19   M  \n99998        NO  General-EWS   NO   18   F  \n99999        NO  General-EWS   NO   20   F  \n\n[100000 rows x 12 columns]",
            "text/html": "<div>\n<style scoped>\n    .dataframe tbody tr th:only-of-type {\n        vertical-align: middle;\n    }\n\n    .dataframe tbody tr th {\n        vertical-align: top;\n    }\n\n    .dataframe thead th {\n        text-align: right;\n    }\n</style>\n<table border=\"1\" class=\"dataframe\">\n  <thead>\n    <tr style=\"text-align: right;\">\n      <th></th>\n      <th>coach</th>\n      <th>hs_marks</th>\n      <th>12_app</th>\n      <th>inter_marks</th>\n      <th>income</th>\n      <th>dummy</th>\n      <th>board</th>\n      <th>on_course</th>\n      <th>cat</th>\n      <th>pwd</th>\n      <th>age</th>\n      <th>sex</th>\n    </tr>\n  </thead>\n  <tbody>\n    <tr>\n      <th>0</th>\n      <td>NO</td>\n      <td>80.5</td>\n      <td>NO</td>\n      <td>92.200000</td>\n      <td>59000</td>\n      <td>NO</td>\n      <td>Maharashtra Board</td>\n      <td>YES</td>\n      <td>General-EWS</td>\n      <td>NO</td>\n      <td>20</td>\n      <td>M</td>\n    </tr>\n    <tr>\n      <th>1</th>\n      <td>NO</td>\n      <td>83.3</td>\n      <td>YES</td>\n      <td>87.419339</td>\n      <td>390000</td>\n      <td>NO</td>\n      <td>BSEB</td>\n      <td>YES</td>\n      <td>ST</td>\n      <td>NO</td>\n      <td>18</td>\n      <td>F</td>\n    </tr>\n    <tr>\n      <th>2</th>\n      <td>NO</td>\n      <td>76.4</td>\n      <td>YES</td>\n      <td>87.419339</td>\n      <td>3140000</td>\n      <td>NO</td>\n      <td>CBSE</td>\n      <td>NO</td>\n      <td>OBC-NCL</td>\n      <td>NO</td>\n      <td>18</td>\n      <td>M</td>\n    </tr>\n    <tr>\n      <th>3</th>\n      <td>YES</td>\n      <td>89.7</td>\n      <td>NO</td>\n      <td>79.400000</td>\n      <td>345000</td>\n      <td>YES</td>\n      <td>HP Board</td>\n      <td>NO</td>\n      <td>SC</td>\n      <td>NO</td>\n      <td>21</td>\n      <td>M</td>\n    </tr>\n    <tr>\n      <th>4</th>\n      <td>YES</td>\n      <td>98.9</td>\n      <td>NO</td>\n      <td>95.300000</td>\n      <td>29000</td>\n      <td>NO</td>\n      <td>CBSE</td>\n      <td>NO</td>\n      <td>SC</td>\n      <td>YES</td>\n      <td>17</td>\n      <td>M</td>\n    </tr>\n    <tr>\n      <th>...</th>\n      <td>...</td>\n      <td>...</td>\n      <td>...</td>\n      <td>...</td>\n      <td>...</td>\n      <td>...</td>\n      <td>...</td>\n      <td>...</td>\n      <td>...</td>\n      <td>...</td>\n      <td>...</td>\n      <td>...</td>\n    </tr>\n    <tr>\n      <th>99995</th>\n      <td>YES</td>\n      <td>78.3</td>\n      <td>NO</td>\n      <td>94.200000</td>\n      <td>147000</td>\n      <td>NO</td>\n      <td>GSEB</td>\n      <td>YES</td>\n      <td>ST</td>\n      <td>NO</td>\n      <td>18</td>\n      <td>M</td>\n    </tr>\n    <tr>\n      <th>99996</th>\n      <td>NO</td>\n      <td>93.7</td>\n      <td>YES</td>\n      <td>87.419339</td>\n      <td>442000</td>\n      <td>NO</td>\n      <td>CBSE</td>\n      <td>YES</td>\n      <td>Minority</td>\n      <td>NO</td>\n      <td>20</td>\n      <td>F</td>\n    </tr>\n    <tr>\n      <th>99997</th>\n      <td>YES</td>\n      <td>76.8</td>\n      <td>YES</td>\n      <td>87.419339</td>\n      <td>43000</td>\n      <td>NO</td>\n      <td>CBSE</td>\n      <td>NO</td>\n      <td>General</td>\n      <td>NO</td>\n      <td>19</td>\n      <td>M</td>\n    </tr>\n    <tr>\n      <th>99998</th>\n      <td>YES</td>\n      <td>87.0</td>\n      <td>NO</td>\n      <td>96.800000</td>\n      <td>85000</td>\n      <td>YES</td>\n      <td>UP Board</td>\n      <td>NO</td>\n      <td>General-EWS</td>\n      <td>NO</td>\n      <td>18</td>\n      <td>F</td>\n    </tr>\n    <tr>\n      <th>99999</th>\n      <td>YES</td>\n      <td>96.4</td>\n      <td>YES</td>\n      <td>87.419339</td>\n      <td>284000</td>\n      <td>NO</td>\n      <td>CBSE</td>\n      <td>NO</td>\n      <td>General-EWS</td>\n      <td>NO</td>\n      <td>20</td>\n      <td>F</td>\n    </tr>\n  </tbody>\n</table>\n<p>100000 rows × 12 columns</p>\n</div>"
          },
          "metadata": {}
        }
      ]
    },
    {
      "cell_type": "code",
      "source": [
        "print(X.isna().sum())"
      ],
      "metadata": {
        "execution": {
          "iopub.status.busy": "2024-02-12T15:48:45.176758Z",
          "iopub.execute_input": "2024-02-12T15:48:45.177085Z",
          "iopub.status.idle": "2024-02-12T15:48:45.260105Z",
          "shell.execute_reply.started": "2024-02-12T15:48:45.177052Z",
          "shell.execute_reply": "2024-02-12T15:48:45.25922Z"
        },
        "trusted": true,
        "id": "nC8uSS20CVtk",
        "outputId": "c57a5402-7cb4-4d5d-de16-3e6fcda27989"
      },
      "execution_count": null,
      "outputs": [
        {
          "name": "stdout",
          "text": "coach          0\nhs_marks       0\n12_app         0\ninter_marks    0\nincome         0\ndummy          0\nboard          0\non_course      0\ncat            0\npwd            0\nage            0\nsex            0\ndtype: int64\n",
          "output_type": "stream"
        }
      ]
    },
    {
      "cell_type": "code",
      "source": [
        "scaler = StandardScaler()\n",
        "\n",
        "numerical_columns = ['hs_marks', 'inter_marks','income','age']\n",
        "scaler.fit(X[numerical_columns])\n",
        "scaled_data = scaler.transform(X[numerical_columns])\n",
        "for i, col in enumerate(numerical_columns):\n",
        "    X['scaled_' + col] = scaled_data[:, i]"
      ],
      "metadata": {
        "execution": {
          "iopub.status.busy": "2024-02-12T15:48:45.26114Z",
          "iopub.execute_input": "2024-02-12T15:48:45.261425Z",
          "iopub.status.idle": "2024-02-12T15:48:45.278107Z",
          "shell.execute_reply.started": "2024-02-12T15:48:45.261379Z",
          "shell.execute_reply": "2024-02-12T15:48:45.27719Z"
        },
        "trusted": true,
        "id": "eXu3XNUXCVtk"
      },
      "execution_count": null,
      "outputs": []
    },
    {
      "cell_type": "code",
      "source": [
        "X.drop(numerical_columns, axis=1, inplace=True)"
      ],
      "metadata": {
        "execution": {
          "iopub.status.busy": "2024-02-12T15:48:45.279431Z",
          "iopub.execute_input": "2024-02-12T15:48:45.279845Z",
          "iopub.status.idle": "2024-02-12T15:48:45.2995Z",
          "shell.execute_reply.started": "2024-02-12T15:48:45.279813Z",
          "shell.execute_reply": "2024-02-12T15:48:45.298522Z"
        },
        "trusted": true,
        "id": "o4D28YgFCVtk"
      },
      "execution_count": null,
      "outputs": []
    },
    {
      "cell_type": "code",
      "source": [
        "X"
      ],
      "metadata": {
        "execution": {
          "iopub.status.busy": "2024-02-12T15:48:45.300624Z",
          "iopub.execute_input": "2024-02-12T15:48:45.300887Z",
          "iopub.status.idle": "2024-02-12T15:48:45.318562Z",
          "shell.execute_reply.started": "2024-02-12T15:48:45.300864Z",
          "shell.execute_reply": "2024-02-12T15:48:45.317678Z"
        },
        "trusted": true,
        "id": "O1XazNMWCVtl",
        "outputId": "bca25ac2-d231-44e0-ffb6-e4544e4eca2a"
      },
      "execution_count": null,
      "outputs": [
        {
          "execution_count": 25,
          "output_type": "execute_result",
          "data": {
            "text/plain": "      coach 12_app dummy              board on_course          cat  pwd sex  \\\n0        NO     NO    NO  Maharashtra Board       YES  General-EWS   NO   M   \n1        NO    YES    NO               BSEB       YES           ST   NO   F   \n2        NO    YES    NO               CBSE        NO      OBC-NCL   NO   M   \n3       YES     NO   YES           HP Board        NO           SC   NO   M   \n4       YES     NO    NO               CBSE        NO           SC  YES   M   \n...     ...    ...   ...                ...       ...          ...  ...  ..   \n99995   YES     NO    NO               GSEB       YES           ST   NO   M   \n99996    NO    YES    NO               CBSE       YES     Minority   NO   F   \n99997   YES    YES    NO               CBSE        NO      General   NO   M   \n99998   YES     NO   YES           UP Board        NO  General-EWS   NO   F   \n99999   YES    YES    NO               CBSE        NO  General-EWS   NO   F   \n\n       scaled_hs_marks  scaled_inter_marks  scaled_income  scaled_age  \n0            -0.960002            0.849966      -0.438280    0.876842  \n1            -0.574427            0.000000      -0.063489   -0.292577  \n2            -1.524593            0.000000       3.050335   -0.292577  \n3             0.306886           -1.425780      -0.114443    1.461551  \n4             1.573774            1.401124      -0.472249   -0.877286  \n...                ...                 ...            ...         ...  \n99995        -1.262953            1.205552      -0.338638   -0.292577  \n99996         0.857707            0.000000      -0.004610    0.876842  \n99997        -1.469511            0.000000      -0.456397    0.292132  \n99998        -0.064918            1.667813      -0.408841   -0.292577  \n99999         1.229511            0.000000      -0.183513    0.876842  \n\n[100000 rows x 12 columns]",
            "text/html": "<div>\n<style scoped>\n    .dataframe tbody tr th:only-of-type {\n        vertical-align: middle;\n    }\n\n    .dataframe tbody tr th {\n        vertical-align: top;\n    }\n\n    .dataframe thead th {\n        text-align: right;\n    }\n</style>\n<table border=\"1\" class=\"dataframe\">\n  <thead>\n    <tr style=\"text-align: right;\">\n      <th></th>\n      <th>coach</th>\n      <th>12_app</th>\n      <th>dummy</th>\n      <th>board</th>\n      <th>on_course</th>\n      <th>cat</th>\n      <th>pwd</th>\n      <th>sex</th>\n      <th>scaled_hs_marks</th>\n      <th>scaled_inter_marks</th>\n      <th>scaled_income</th>\n      <th>scaled_age</th>\n    </tr>\n  </thead>\n  <tbody>\n    <tr>\n      <th>0</th>\n      <td>NO</td>\n      <td>NO</td>\n      <td>NO</td>\n      <td>Maharashtra Board</td>\n      <td>YES</td>\n      <td>General-EWS</td>\n      <td>NO</td>\n      <td>M</td>\n      <td>-0.960002</td>\n      <td>0.849966</td>\n      <td>-0.438280</td>\n      <td>0.876842</td>\n    </tr>\n    <tr>\n      <th>1</th>\n      <td>NO</td>\n      <td>YES</td>\n      <td>NO</td>\n      <td>BSEB</td>\n      <td>YES</td>\n      <td>ST</td>\n      <td>NO</td>\n      <td>F</td>\n      <td>-0.574427</td>\n      <td>0.000000</td>\n      <td>-0.063489</td>\n      <td>-0.292577</td>\n    </tr>\n    <tr>\n      <th>2</th>\n      <td>NO</td>\n      <td>YES</td>\n      <td>NO</td>\n      <td>CBSE</td>\n      <td>NO</td>\n      <td>OBC-NCL</td>\n      <td>NO</td>\n      <td>M</td>\n      <td>-1.524593</td>\n      <td>0.000000</td>\n      <td>3.050335</td>\n      <td>-0.292577</td>\n    </tr>\n    <tr>\n      <th>3</th>\n      <td>YES</td>\n      <td>NO</td>\n      <td>YES</td>\n      <td>HP Board</td>\n      <td>NO</td>\n      <td>SC</td>\n      <td>NO</td>\n      <td>M</td>\n      <td>0.306886</td>\n      <td>-1.425780</td>\n      <td>-0.114443</td>\n      <td>1.461551</td>\n    </tr>\n    <tr>\n      <th>4</th>\n      <td>YES</td>\n      <td>NO</td>\n      <td>NO</td>\n      <td>CBSE</td>\n      <td>NO</td>\n      <td>SC</td>\n      <td>YES</td>\n      <td>M</td>\n      <td>1.573774</td>\n      <td>1.401124</td>\n      <td>-0.472249</td>\n      <td>-0.877286</td>\n    </tr>\n    <tr>\n      <th>...</th>\n      <td>...</td>\n      <td>...</td>\n      <td>...</td>\n      <td>...</td>\n      <td>...</td>\n      <td>...</td>\n      <td>...</td>\n      <td>...</td>\n      <td>...</td>\n      <td>...</td>\n      <td>...</td>\n      <td>...</td>\n    </tr>\n    <tr>\n      <th>99995</th>\n      <td>YES</td>\n      <td>NO</td>\n      <td>NO</td>\n      <td>GSEB</td>\n      <td>YES</td>\n      <td>ST</td>\n      <td>NO</td>\n      <td>M</td>\n      <td>-1.262953</td>\n      <td>1.205552</td>\n      <td>-0.338638</td>\n      <td>-0.292577</td>\n    </tr>\n    <tr>\n      <th>99996</th>\n      <td>NO</td>\n      <td>YES</td>\n      <td>NO</td>\n      <td>CBSE</td>\n      <td>YES</td>\n      <td>Minority</td>\n      <td>NO</td>\n      <td>F</td>\n      <td>0.857707</td>\n      <td>0.000000</td>\n      <td>-0.004610</td>\n      <td>0.876842</td>\n    </tr>\n    <tr>\n      <th>99997</th>\n      <td>YES</td>\n      <td>YES</td>\n      <td>NO</td>\n      <td>CBSE</td>\n      <td>NO</td>\n      <td>General</td>\n      <td>NO</td>\n      <td>M</td>\n      <td>-1.469511</td>\n      <td>0.000000</td>\n      <td>-0.456397</td>\n      <td>0.292132</td>\n    </tr>\n    <tr>\n      <th>99998</th>\n      <td>YES</td>\n      <td>NO</td>\n      <td>YES</td>\n      <td>UP Board</td>\n      <td>NO</td>\n      <td>General-EWS</td>\n      <td>NO</td>\n      <td>F</td>\n      <td>-0.064918</td>\n      <td>1.667813</td>\n      <td>-0.408841</td>\n      <td>-0.292577</td>\n    </tr>\n    <tr>\n      <th>99999</th>\n      <td>YES</td>\n      <td>YES</td>\n      <td>NO</td>\n      <td>CBSE</td>\n      <td>NO</td>\n      <td>General-EWS</td>\n      <td>NO</td>\n      <td>F</td>\n      <td>1.229511</td>\n      <td>0.000000</td>\n      <td>-0.183513</td>\n      <td>0.876842</td>\n    </tr>\n  </tbody>\n</table>\n<p>100000 rows × 12 columns</p>\n</div>"
          },
          "metadata": {}
        }
      ]
    },
    {
      "cell_type": "code",
      "source": [
        "#one-hot-encoding\n",
        "categorical_columns = ['coach', '12_app', 'dummy', 'board', 'on_course', 'cat', 'pwd', 'sex']\n",
        "encoder = OneHotEncoder(sparse_output=False, handle_unknown='ignore')\n",
        "encoder.fit(X[['coach', '12_app', 'dummy', 'board', 'on_course', 'cat', 'pwd', 'sex']])\n",
        "encoded_data = encoder.transform(X[['coach', '12_app', 'dummy', 'board', 'on_course', 'cat', 'pwd', 'sex']])\n",
        "new_columns = encoder.get_feature_names_out(categorical_columns)\n",
        "X[new_columns] = encoded_data\n",
        "\n"
      ],
      "metadata": {
        "execution": {
          "iopub.status.busy": "2024-02-12T15:48:45.31974Z",
          "iopub.execute_input": "2024-02-12T15:48:45.320003Z",
          "iopub.status.idle": "2024-02-12T15:48:45.699403Z",
          "shell.execute_reply.started": "2024-02-12T15:48:45.319981Z",
          "shell.execute_reply": "2024-02-12T15:48:45.698442Z"
        },
        "trusted": true,
        "id": "Ku1LvuZaCVtl"
      },
      "execution_count": null,
      "outputs": []
    },
    {
      "cell_type": "code",
      "source": [],
      "metadata": {
        "trusted": true,
        "id": "RvWv_1yLCVtl"
      },
      "execution_count": null,
      "outputs": []
    },
    {
      "cell_type": "code",
      "source": [
        "X.drop(categorical_columns, axis=1, inplace=True)"
      ],
      "metadata": {
        "execution": {
          "iopub.status.busy": "2024-02-12T15:48:45.70061Z",
          "iopub.execute_input": "2024-02-12T15:48:45.700953Z",
          "iopub.status.idle": "2024-02-12T15:48:45.744278Z",
          "shell.execute_reply.started": "2024-02-12T15:48:45.700921Z",
          "shell.execute_reply": "2024-02-12T15:48:45.743412Z"
        },
        "trusted": true,
        "id": "MX2omP0lCVtm"
      },
      "execution_count": null,
      "outputs": []
    },
    {
      "cell_type": "code",
      "source": [
        "X"
      ],
      "metadata": {
        "execution": {
          "iopub.status.busy": "2024-02-12T15:48:45.750405Z",
          "iopub.execute_input": "2024-02-12T15:48:45.750663Z",
          "iopub.status.idle": "2024-02-12T15:48:45.816713Z",
          "shell.execute_reply.started": "2024-02-12T15:48:45.75064Z",
          "shell.execute_reply": "2024-02-12T15:48:45.815851Z"
        },
        "trusted": true,
        "id": "SzLbhnBrCVtm",
        "outputId": "aaf4014b-4a51-4ee5-e0fe-fe8e08778964"
      },
      "execution_count": null,
      "outputs": [
        {
          "execution_count": 28,
          "output_type": "execute_result",
          "data": {
            "text/plain": "       scaled_hs_marks  scaled_inter_marks  scaled_income  scaled_age  \\\n0            -0.960002            0.849966      -0.438280    0.876842   \n1            -0.574427            0.000000      -0.063489   -0.292577   \n2            -1.524593            0.000000       3.050335   -0.292577   \n3             0.306886           -1.425780      -0.114443    1.461551   \n4             1.573774            1.401124      -0.472249   -0.877286   \n...                ...                 ...            ...         ...   \n99995        -1.262953            1.205552      -0.338638   -0.292577   \n99996         0.857707            0.000000      -0.004610    0.876842   \n99997        -1.469511            0.000000      -0.456397    0.292132   \n99998        -0.064918            1.667813      -0.408841   -0.292577   \n99999         1.229511            0.000000      -0.183513    0.876842   \n\n       coach_NO  coach_YES  12_app_NO  12_app_YES  dummy_NO  dummy_YES  ...  \\\n0           1.0        0.0        1.0         0.0       1.0        0.0  ...   \n1           1.0        0.0        0.0         1.0       1.0        0.0  ...   \n2           1.0        0.0        0.0         1.0       1.0        0.0  ...   \n3           0.0        1.0        1.0         0.0       0.0        1.0  ...   \n4           0.0        1.0        1.0         0.0       1.0        0.0  ...   \n...         ...        ...        ...         ...       ...        ...  ...   \n99995       0.0        1.0        1.0         0.0       1.0        0.0  ...   \n99996       1.0        0.0        0.0         1.0       1.0        0.0  ...   \n99997       0.0        1.0        0.0         1.0       1.0        0.0  ...   \n99998       0.0        1.0        1.0         0.0       0.0        1.0  ...   \n99999       0.0        1.0        0.0         1.0       1.0        0.0  ...   \n\n       cat_General  cat_General-EWS  cat_Minority  cat_OBC-NCL  cat_SC  \\\n0              0.0              1.0           0.0          0.0     0.0   \n1              0.0              0.0           0.0          0.0     0.0   \n2              0.0              0.0           0.0          1.0     0.0   \n3              0.0              0.0           0.0          0.0     1.0   \n4              0.0              0.0           0.0          0.0     1.0   \n...            ...              ...           ...          ...     ...   \n99995          0.0              0.0           0.0          0.0     0.0   \n99996          0.0              0.0           1.0          0.0     0.0   \n99997          1.0              0.0           0.0          0.0     0.0   \n99998          0.0              1.0           0.0          0.0     0.0   \n99999          0.0              1.0           0.0          0.0     0.0   \n\n       cat_ST  pwd_NO  pwd_YES  sex_F  sex_M  \n0         0.0     1.0      0.0    0.0    1.0  \n1         1.0     1.0      0.0    1.0    0.0  \n2         0.0     1.0      0.0    0.0    1.0  \n3         0.0     1.0      0.0    0.0    1.0  \n4         0.0     0.0      1.0    0.0    1.0  \n...       ...     ...      ...    ...    ...  \n99995     1.0     1.0      0.0    0.0    1.0  \n99996     0.0     1.0      0.0    1.0    0.0  \n99997     0.0     1.0      0.0    0.0    1.0  \n99998     0.0     1.0      0.0    1.0    0.0  \n99999     0.0     1.0      0.0    1.0    0.0  \n\n[100000 rows x 42 columns]",
            "text/html": "<div>\n<style scoped>\n    .dataframe tbody tr th:only-of-type {\n        vertical-align: middle;\n    }\n\n    .dataframe tbody tr th {\n        vertical-align: top;\n    }\n\n    .dataframe thead th {\n        text-align: right;\n    }\n</style>\n<table border=\"1\" class=\"dataframe\">\n  <thead>\n    <tr style=\"text-align: right;\">\n      <th></th>\n      <th>scaled_hs_marks</th>\n      <th>scaled_inter_marks</th>\n      <th>scaled_income</th>\n      <th>scaled_age</th>\n      <th>coach_NO</th>\n      <th>coach_YES</th>\n      <th>12_app_NO</th>\n      <th>12_app_YES</th>\n      <th>dummy_NO</th>\n      <th>dummy_YES</th>\n      <th>...</th>\n      <th>cat_General</th>\n      <th>cat_General-EWS</th>\n      <th>cat_Minority</th>\n      <th>cat_OBC-NCL</th>\n      <th>cat_SC</th>\n      <th>cat_ST</th>\n      <th>pwd_NO</th>\n      <th>pwd_YES</th>\n      <th>sex_F</th>\n      <th>sex_M</th>\n    </tr>\n  </thead>\n  <tbody>\n    <tr>\n      <th>0</th>\n      <td>-0.960002</td>\n      <td>0.849966</td>\n      <td>-0.438280</td>\n      <td>0.876842</td>\n      <td>1.0</td>\n      <td>0.0</td>\n      <td>1.0</td>\n      <td>0.0</td>\n      <td>1.0</td>\n      <td>0.0</td>\n      <td>...</td>\n      <td>0.0</td>\n      <td>1.0</td>\n      <td>0.0</td>\n      <td>0.0</td>\n      <td>0.0</td>\n      <td>0.0</td>\n      <td>1.0</td>\n      <td>0.0</td>\n      <td>0.0</td>\n      <td>1.0</td>\n    </tr>\n    <tr>\n      <th>1</th>\n      <td>-0.574427</td>\n      <td>0.000000</td>\n      <td>-0.063489</td>\n      <td>-0.292577</td>\n      <td>1.0</td>\n      <td>0.0</td>\n      <td>0.0</td>\n      <td>1.0</td>\n      <td>1.0</td>\n      <td>0.0</td>\n      <td>...</td>\n      <td>0.0</td>\n      <td>0.0</td>\n      <td>0.0</td>\n      <td>0.0</td>\n      <td>0.0</td>\n      <td>1.0</td>\n      <td>1.0</td>\n      <td>0.0</td>\n      <td>1.0</td>\n      <td>0.0</td>\n    </tr>\n    <tr>\n      <th>2</th>\n      <td>-1.524593</td>\n      <td>0.000000</td>\n      <td>3.050335</td>\n      <td>-0.292577</td>\n      <td>1.0</td>\n      <td>0.0</td>\n      <td>0.0</td>\n      <td>1.0</td>\n      <td>1.0</td>\n      <td>0.0</td>\n      <td>...</td>\n      <td>0.0</td>\n      <td>0.0</td>\n      <td>0.0</td>\n      <td>1.0</td>\n      <td>0.0</td>\n      <td>0.0</td>\n      <td>1.0</td>\n      <td>0.0</td>\n      <td>0.0</td>\n      <td>1.0</td>\n    </tr>\n    <tr>\n      <th>3</th>\n      <td>0.306886</td>\n      <td>-1.425780</td>\n      <td>-0.114443</td>\n      <td>1.461551</td>\n      <td>0.0</td>\n      <td>1.0</td>\n      <td>1.0</td>\n      <td>0.0</td>\n      <td>0.0</td>\n      <td>1.0</td>\n      <td>...</td>\n      <td>0.0</td>\n      <td>0.0</td>\n      <td>0.0</td>\n      <td>0.0</td>\n      <td>1.0</td>\n      <td>0.0</td>\n      <td>1.0</td>\n      <td>0.0</td>\n      <td>0.0</td>\n      <td>1.0</td>\n    </tr>\n    <tr>\n      <th>4</th>\n      <td>1.573774</td>\n      <td>1.401124</td>\n      <td>-0.472249</td>\n      <td>-0.877286</td>\n      <td>0.0</td>\n      <td>1.0</td>\n      <td>1.0</td>\n      <td>0.0</td>\n      <td>1.0</td>\n      <td>0.0</td>\n      <td>...</td>\n      <td>0.0</td>\n      <td>0.0</td>\n      <td>0.0</td>\n      <td>0.0</td>\n      <td>1.0</td>\n      <td>0.0</td>\n      <td>0.0</td>\n      <td>1.0</td>\n      <td>0.0</td>\n      <td>1.0</td>\n    </tr>\n    <tr>\n      <th>...</th>\n      <td>...</td>\n      <td>...</td>\n      <td>...</td>\n      <td>...</td>\n      <td>...</td>\n      <td>...</td>\n      <td>...</td>\n      <td>...</td>\n      <td>...</td>\n      <td>...</td>\n      <td>...</td>\n      <td>...</td>\n      <td>...</td>\n      <td>...</td>\n      <td>...</td>\n      <td>...</td>\n      <td>...</td>\n      <td>...</td>\n      <td>...</td>\n      <td>...</td>\n      <td>...</td>\n    </tr>\n    <tr>\n      <th>99995</th>\n      <td>-1.262953</td>\n      <td>1.205552</td>\n      <td>-0.338638</td>\n      <td>-0.292577</td>\n      <td>0.0</td>\n      <td>1.0</td>\n      <td>1.0</td>\n      <td>0.0</td>\n      <td>1.0</td>\n      <td>0.0</td>\n      <td>...</td>\n      <td>0.0</td>\n      <td>0.0</td>\n      <td>0.0</td>\n      <td>0.0</td>\n      <td>0.0</td>\n      <td>1.0</td>\n      <td>1.0</td>\n      <td>0.0</td>\n      <td>0.0</td>\n      <td>1.0</td>\n    </tr>\n    <tr>\n      <th>99996</th>\n      <td>0.857707</td>\n      <td>0.000000</td>\n      <td>-0.004610</td>\n      <td>0.876842</td>\n      <td>1.0</td>\n      <td>0.0</td>\n      <td>0.0</td>\n      <td>1.0</td>\n      <td>1.0</td>\n      <td>0.0</td>\n      <td>...</td>\n      <td>0.0</td>\n      <td>0.0</td>\n      <td>1.0</td>\n      <td>0.0</td>\n      <td>0.0</td>\n      <td>0.0</td>\n      <td>1.0</td>\n      <td>0.0</td>\n      <td>1.0</td>\n      <td>0.0</td>\n    </tr>\n    <tr>\n      <th>99997</th>\n      <td>-1.469511</td>\n      <td>0.000000</td>\n      <td>-0.456397</td>\n      <td>0.292132</td>\n      <td>0.0</td>\n      <td>1.0</td>\n      <td>0.0</td>\n      <td>1.0</td>\n      <td>1.0</td>\n      <td>0.0</td>\n      <td>...</td>\n      <td>1.0</td>\n      <td>0.0</td>\n      <td>0.0</td>\n      <td>0.0</td>\n      <td>0.0</td>\n      <td>0.0</td>\n      <td>1.0</td>\n      <td>0.0</td>\n      <td>0.0</td>\n      <td>1.0</td>\n    </tr>\n    <tr>\n      <th>99998</th>\n      <td>-0.064918</td>\n      <td>1.667813</td>\n      <td>-0.408841</td>\n      <td>-0.292577</td>\n      <td>0.0</td>\n      <td>1.0</td>\n      <td>1.0</td>\n      <td>0.0</td>\n      <td>0.0</td>\n      <td>1.0</td>\n      <td>...</td>\n      <td>0.0</td>\n      <td>1.0</td>\n      <td>0.0</td>\n      <td>0.0</td>\n      <td>0.0</td>\n      <td>0.0</td>\n      <td>1.0</td>\n      <td>0.0</td>\n      <td>1.0</td>\n      <td>0.0</td>\n    </tr>\n    <tr>\n      <th>99999</th>\n      <td>1.229511</td>\n      <td>0.000000</td>\n      <td>-0.183513</td>\n      <td>0.876842</td>\n      <td>0.0</td>\n      <td>1.0</td>\n      <td>0.0</td>\n      <td>1.0</td>\n      <td>1.0</td>\n      <td>0.0</td>\n      <td>...</td>\n      <td>0.0</td>\n      <td>1.0</td>\n      <td>0.0</td>\n      <td>0.0</td>\n      <td>0.0</td>\n      <td>0.0</td>\n      <td>1.0</td>\n      <td>0.0</td>\n      <td>1.0</td>\n      <td>0.0</td>\n    </tr>\n  </tbody>\n</table>\n<p>100000 rows × 42 columns</p>\n</div>"
          },
          "metadata": {}
        }
      ]
    },
    {
      "cell_type": "code",
      "source": [
        "X_train, X_test, y_train, y_test = train_test_split(X, Y, test_size=0.05, random_state=42)"
      ],
      "metadata": {
        "execution": {
          "iopub.status.busy": "2024-02-12T15:48:45.817907Z",
          "iopub.execute_input": "2024-02-12T15:48:45.818209Z",
          "iopub.status.idle": "2024-02-12T15:48:45.864499Z",
          "shell.execute_reply.started": "2024-02-12T15:48:45.818183Z",
          "shell.execute_reply": "2024-02-12T15:48:45.863735Z"
        },
        "trusted": true,
        "id": "QEJjGmpVCVtm"
      },
      "execution_count": null,
      "outputs": []
    },
    {
      "cell_type": "code",
      "source": [
        "print(X_train.shape)\n",
        "print(y_train.shape)"
      ],
      "metadata": {
        "execution": {
          "iopub.status.busy": "2024-02-12T15:48:45.865482Z",
          "iopub.execute_input": "2024-02-12T15:48:45.865748Z",
          "iopub.status.idle": "2024-02-12T15:48:45.870504Z",
          "shell.execute_reply.started": "2024-02-12T15:48:45.865724Z",
          "shell.execute_reply": "2024-02-12T15:48:45.869594Z"
        },
        "trusted": true,
        "id": "IUpUnQ5ACVtm",
        "outputId": "49679d7c-9614-4544-fde3-234e73c064d9"
      },
      "execution_count": null,
      "outputs": [
        {
          "name": "stdout",
          "text": "(95000, 42)\n(95000,)\n",
          "output_type": "stream"
        }
      ]
    },
    {
      "cell_type": "code",
      "source": [
        "len(X_train.keys())"
      ],
      "metadata": {
        "execution": {
          "iopub.status.busy": "2024-02-12T15:48:45.871573Z",
          "iopub.execute_input": "2024-02-12T15:48:45.871862Z",
          "iopub.status.idle": "2024-02-12T15:48:45.883555Z",
          "shell.execute_reply.started": "2024-02-12T15:48:45.871837Z",
          "shell.execute_reply": "2024-02-12T15:48:45.882748Z"
        },
        "trusted": true,
        "id": "EhiBQOVRCVtm",
        "outputId": "4457dd7c-c2a1-448a-d5e9-a1c3db59514d"
      },
      "execution_count": null,
      "outputs": [
        {
          "execution_count": 31,
          "output_type": "execute_result",
          "data": {
            "text/plain": "42"
          },
          "metadata": {}
        }
      ]
    },
    {
      "cell_type": "code",
      "source": [
        "def build_model(alpha):\n",
        "    model = tf.keras.Sequential([\n",
        "        tf.keras.layers.Dense(216, activation='relu',\n",
        "                              kernel_regularizer=regularizers.l2(0.001),\n",
        "                              input_shape=[len(X_train.keys())]),\n",
        "        tf.keras.layers.Dense(128, activation='relu',\n",
        "                             kernel_regularizer=regularizers.l2(0.001)),\n",
        "        tf.keras.layers.Dense(64, activation='relu',\n",
        "                             kernel_regularizer=regularizers.l2(0.001)),\n",
        "        tf.keras.layers.Dense(1, activation='sigmoid')\n",
        "  ])\n",
        "\n",
        "  # Compile the model with specified optimizer and loss function for binary classification\n",
        "    model.compile(optimizer=tf.keras.optimizers.Adam(learning_rate=alpha),\n",
        "                loss='binary_crossentropy',\n",
        "                metrics=['accuracy'])\n",
        "\n",
        "    return model\n",
        "\n",
        ""
      ],
      "metadata": {
        "execution": {
          "iopub.status.busy": "2024-02-12T15:48:45.884571Z",
          "iopub.execute_input": "2024-02-12T15:48:45.884847Z",
          "iopub.status.idle": "2024-02-12T15:48:45.894195Z",
          "shell.execute_reply.started": "2024-02-12T15:48:45.884825Z",
          "shell.execute_reply": "2024-02-12T15:48:45.893515Z"
        },
        "trusted": true,
        "id": "8tH6eVJTCVtn"
      },
      "execution_count": null,
      "outputs": []
    },
    {
      "cell_type": "code",
      "source": [
        "model1 = build_model(0.001)\n",
        "model2 = build_model(0.01)\n",
        "model3 = build_model(0.001)"
      ],
      "metadata": {
        "execution": {
          "iopub.status.busy": "2024-02-12T15:48:45.895202Z",
          "iopub.execute_input": "2024-02-12T15:48:45.895483Z",
          "iopub.status.idle": "2024-02-12T15:48:47.085683Z",
          "shell.execute_reply.started": "2024-02-12T15:48:45.89546Z",
          "shell.execute_reply": "2024-02-12T15:48:47.084898Z"
        },
        "trusted": true,
        "id": "6zLjWvDhCVtn"
      },
      "execution_count": null,
      "outputs": []
    },
    {
      "cell_type": "code",
      "source": [
        "model1.summary()"
      ],
      "metadata": {
        "execution": {
          "iopub.status.busy": "2024-02-12T15:48:47.08665Z",
          "iopub.execute_input": "2024-02-12T15:48:47.086914Z",
          "iopub.status.idle": "2024-02-12T15:48:47.106699Z",
          "shell.execute_reply.started": "2024-02-12T15:48:47.086891Z",
          "shell.execute_reply": "2024-02-12T15:48:47.105901Z"
        },
        "trusted": true,
        "id": "aJIDMmpmCVtn",
        "outputId": "f7a5563e-dd65-4564-b2f1-172b0585d6d6"
      },
      "execution_count": null,
      "outputs": [
        {
          "name": "stdout",
          "text": "Model: \"sequential\"\n_________________________________________________________________\n Layer (type)                Output Shape              Param #   \n=================================================================\n dense (Dense)               (None, 216)               9288      \n                                                                 \n dense_1 (Dense)             (None, 128)               27776     \n                                                                 \n dense_2 (Dense)             (None, 64)                8256      \n                                                                 \n dense_3 (Dense)             (None, 1)                 65        \n                                                                 \n=================================================================\nTotal params: 45385 (177.29 KB)\nTrainable params: 45385 (177.29 KB)\nNon-trainable params: 0 (0.00 Byte)\n_________________________________________________________________\n",
          "output_type": "stream"
        }
      ]
    },
    {
      "cell_type": "code",
      "source": [
        "# #mini-batch implementation\n",
        "X_train_tensor = tf.convert_to_tensor(X_train)\n",
        "Y_train_tensor = tf.convert_to_tensor(y_train)\n"
      ],
      "metadata": {
        "execution": {
          "iopub.status.busy": "2024-02-12T15:48:47.107611Z",
          "iopub.execute_input": "2024-02-12T15:48:47.107843Z",
          "iopub.status.idle": "2024-02-12T15:48:47.17433Z",
          "shell.execute_reply.started": "2024-02-12T15:48:47.107822Z",
          "shell.execute_reply": "2024-02-12T15:48:47.173534Z"
        },
        "trusted": true,
        "id": "TpkQVEjhCVtn"
      },
      "execution_count": null,
      "outputs": []
    },
    {
      "cell_type": "code",
      "source": [
        "mini_batch_size=512\n",
        "train_dataset = tf.data.Dataset.from_tensor_slices((X_train_tensor, Y_train_tensor))\n",
        "train_dataset = train_dataset.repeat().shuffle(buffer_size=1000).batch(mini_batch_size)\n"
      ],
      "metadata": {
        "execution": {
          "iopub.status.busy": "2024-02-12T15:48:47.175312Z",
          "iopub.execute_input": "2024-02-12T15:48:47.175593Z",
          "iopub.status.idle": "2024-02-12T15:48:47.216035Z",
          "shell.execute_reply.started": "2024-02-12T15:48:47.175569Z",
          "shell.execute_reply": "2024-02-12T15:48:47.21512Z"
        },
        "trusted": true,
        "id": "uQb96yjmCVtn"
      },
      "execution_count": null,
      "outputs": []
    },
    {
      "cell_type": "code",
      "source": [
        "X_train.info()"
      ],
      "metadata": {
        "execution": {
          "iopub.status.busy": "2024-02-12T15:48:47.217094Z",
          "iopub.execute_input": "2024-02-12T15:48:47.217375Z",
          "iopub.status.idle": "2024-02-12T15:48:47.250721Z",
          "shell.execute_reply.started": "2024-02-12T15:48:47.21735Z",
          "shell.execute_reply": "2024-02-12T15:48:47.249813Z"
        },
        "trusted": true,
        "id": "UgPI8N8FCVto",
        "outputId": "717e3651-2b83-4d8d-c7a8-3741bddbe05b"
      },
      "execution_count": null,
      "outputs": [
        {
          "name": "stdout",
          "text": "<class 'pandas.core.frame.DataFrame'>\nIndex: 95000 entries, 62989 to 15795\nData columns (total 42 columns):\n #   Column                   Non-Null Count  Dtype  \n---  ------                   --------------  -----  \n 0   scaled_hs_marks          95000 non-null  float64\n 1   scaled_inter_marks       95000 non-null  float64\n 2   scaled_income            95000 non-null  float64\n 3   scaled_age               95000 non-null  float64\n 4   coach_NO                 95000 non-null  float64\n 5   coach_YES                95000 non-null  float64\n 6   12_app_NO                95000 non-null  float64\n 7   12_app_YES               95000 non-null  float64\n 8   dummy_NO                 95000 non-null  float64\n 9   dummy_YES                95000 non-null  float64\n 10  board_AP Board           95000 non-null  float64\n 11  board_BSEB               95000 non-null  float64\n 12  board_CBSE               95000 non-null  float64\n 13  board_CGBSE              95000 non-null  float64\n 14  board_GSEB               95000 non-null  float64\n 15  board_Goa Board          95000 non-null  float64\n 16  board_HP Board           95000 non-null  float64\n 17  board_ISC                95000 non-null  float64\n 18  board_JKBOSE             95000 non-null  float64\n 19  board_Karnatak PUC       95000 non-null  float64\n 20  board_Kerala DHSE        95000 non-null  float64\n 21  board_MBOSE HSSLC        95000 non-null  float64\n 22  board_MP Board           95000 non-null  float64\n 23  board_Maharashtra Board  95000 non-null  float64\n 24  board_Nagaland Board     95000 non-null  float64\n 25  board_PSEB               95000 non-null  float64\n 26  board_Tamil Nadu Boards  95000 non-null  float64\n 27  board_Telangana Board    95000 non-null  float64\n 28  board_UK Board           95000 non-null  float64\n 29  board_UP Board           95000 non-null  float64\n 30  on_course_NO             95000 non-null  float64\n 31  on_course_YES            95000 non-null  float64\n 32  cat_General              95000 non-null  float64\n 33  cat_General-EWS          95000 non-null  float64\n 34  cat_Minority             95000 non-null  float64\n 35  cat_OBC-NCL              95000 non-null  float64\n 36  cat_SC                   95000 non-null  float64\n 37  cat_ST                   95000 non-null  float64\n 38  pwd_NO                   95000 non-null  float64\n 39  pwd_YES                  95000 non-null  float64\n 40  sex_F                    95000 non-null  float64\n 41  sex_M                    95000 non-null  float64\ndtypes: float64(42)\nmemory usage: 31.2 MB\n",
          "output_type": "stream"
        }
      ]
    },
    {
      "cell_type": "code",
      "source": [
        "Y_train_tensor"
      ],
      "metadata": {
        "execution": {
          "iopub.status.busy": "2024-02-12T15:48:47.251756Z",
          "iopub.execute_input": "2024-02-12T15:48:47.25209Z",
          "iopub.status.idle": "2024-02-12T15:48:47.25793Z",
          "shell.execute_reply.started": "2024-02-12T15:48:47.252057Z",
          "shell.execute_reply": "2024-02-12T15:48:47.257044Z"
        },
        "trusted": true,
        "id": "zRDKRqxOCVto",
        "outputId": "156a0e3b-20f1-4d8f-8559-58eb5b5b601b"
      },
      "execution_count": null,
      "outputs": [
        {
          "execution_count": 38,
          "output_type": "execute_result",
          "data": {
            "text/plain": "<tf.Tensor: shape=(95000,), dtype=int64, numpy=array([0, 1, 0, ..., 0, 0, 1])>"
          },
          "metadata": {}
        }
      ]
    },
    {
      "cell_type": "code",
      "source": [
        "early_stopping = EarlyStopping(\n",
        "    monitor='val_accuracy',  # Monitor validation accuracy (adjust if needed)\n",
        "    min_delta=0.001,  # Minimum change in accuracy to consider improvement\n",
        "    patience=5,  # Number of epochs to wait without improvement before stopping\n",
        "    restore_best_weights=True  # Restore the weights with the best validation accuracy\n",
        ")"
      ],
      "metadata": {
        "execution": {
          "iopub.status.busy": "2024-02-12T15:48:47.259003Z",
          "iopub.execute_input": "2024-02-12T15:48:47.259283Z",
          "iopub.status.idle": "2024-02-12T15:48:47.267253Z",
          "shell.execute_reply.started": "2024-02-12T15:48:47.259259Z",
          "shell.execute_reply": "2024-02-12T15:48:47.266581Z"
        },
        "trusted": true,
        "id": "JcVGcnX4CVto"
      },
      "execution_count": null,
      "outputs": []
    },
    {
      "cell_type": "code",
      "source": [
        "model1.fit(X_train_tensor, Y_train_tensor,\n",
        "          epochs=100,  # Adjust the number of epochs based on your data\n",
        "          validation_data=(X_test, y_test),  # Include validation data\n",
        "          callbacks=[early_stopping]\n",
        ")"
      ],
      "metadata": {
        "execution": {
          "iopub.status.busy": "2024-02-12T15:48:47.268117Z",
          "iopub.execute_input": "2024-02-12T15:48:47.268364Z",
          "iopub.status.idle": "2024-02-12T15:50:18.776308Z",
          "shell.execute_reply.started": "2024-02-12T15:48:47.268341Z",
          "shell.execute_reply": "2024-02-12T15:50:18.775457Z"
        },
        "trusted": true,
        "id": "u6lE5J71CVto",
        "outputId": "f4bd70b2-8340-4d5a-e12d-7b77883d3b13"
      },
      "execution_count": null,
      "outputs": [
        {
          "name": "stdout",
          "text": "Epoch 1/100\n",
          "output_type": "stream"
        },
        {
          "name": "stderr",
          "text": "WARNING: All log messages before absl::InitializeLog() is called are written to STDERR\nI0000 00:00:1707752930.217649     102 device_compiler.h:186] Compiled cluster using XLA!  This line is logged at most once for the lifetime of the process.\n",
          "output_type": "stream"
        },
        {
          "name": "stdout",
          "text": "2969/2969 [==============================] - 13s 3ms/step - loss: 0.1974 - accuracy: 0.9258 - val_loss: 0.1476 - val_accuracy: 0.9314\nEpoch 2/100\n2969/2969 [==============================] - 10s 3ms/step - loss: 0.1444 - accuracy: 0.9299 - val_loss: 0.1456 - val_accuracy: 0.9262\nEpoch 3/100\n2969/2969 [==============================] - 10s 3ms/step - loss: 0.1379 - accuracy: 0.9314 - val_loss: 0.1302 - val_accuracy: 0.9338\nEpoch 4/100\n2969/2969 [==============================] - 10s 3ms/step - loss: 0.1337 - accuracy: 0.9316 - val_loss: 0.1269 - val_accuracy: 0.9370\nEpoch 5/100\n2969/2969 [==============================] - 10s 3ms/step - loss: 0.1320 - accuracy: 0.9320 - val_loss: 0.1286 - val_accuracy: 0.9352\nEpoch 6/100\n2969/2969 [==============================] - 10s 3ms/step - loss: 0.1305 - accuracy: 0.9324 - val_loss: 0.1253 - val_accuracy: 0.9344\nEpoch 7/100\n2969/2969 [==============================] - 10s 3ms/step - loss: 0.1288 - accuracy: 0.9320 - val_loss: 0.1226 - val_accuracy: 0.9362\nEpoch 8/100\n2969/2969 [==============================] - 10s 3ms/step - loss: 0.1274 - accuracy: 0.9325 - val_loss: 0.1235 - val_accuracy: 0.9352\nEpoch 9/100\n2969/2969 [==============================] - 10s 3ms/step - loss: 0.1269 - accuracy: 0.9321 - val_loss: 0.1207 - val_accuracy: 0.9378\n",
          "output_type": "stream"
        },
        {
          "execution_count": 40,
          "output_type": "execute_result",
          "data": {
            "text/plain": "<keras.src.callbacks.History at 0x7d80594367d0>"
          },
          "metadata": {}
        }
      ]
    },
    {
      "cell_type": "code",
      "source": [
        "X_dev,y_dev = X_test, y_test"
      ],
      "metadata": {
        "execution": {
          "iopub.status.busy": "2024-02-12T15:50:18.777342Z",
          "iopub.execute_input": "2024-02-12T15:50:18.777631Z",
          "iopub.status.idle": "2024-02-12T15:50:18.781507Z",
          "shell.execute_reply.started": "2024-02-12T15:50:18.777605Z",
          "shell.execute_reply": "2024-02-12T15:50:18.780693Z"
        },
        "trusted": true,
        "id": "_Ts36PoyCVto"
      },
      "execution_count": null,
      "outputs": []
    },
    {
      "cell_type": "code",
      "source": [
        "model1.evaluate(X_dev, y_dev)"
      ],
      "metadata": {
        "execution": {
          "iopub.status.busy": "2024-02-12T15:50:18.782855Z",
          "iopub.execute_input": "2024-02-12T15:50:18.783589Z",
          "iopub.status.idle": "2024-02-12T15:50:19.194653Z",
          "shell.execute_reply.started": "2024-02-12T15:50:18.783557Z",
          "shell.execute_reply": "2024-02-12T15:50:19.193821Z"
        },
        "trusted": true,
        "id": "xQRjhuyVCVtp",
        "outputId": "3fe09aae-dc34-40f6-d648-2383566ad0f4"
      },
      "execution_count": null,
      "outputs": [
        {
          "name": "stdout",
          "text": "157/157 [==============================] - 0s 2ms/step - loss: 0.1269 - accuracy: 0.9370\n",
          "output_type": "stream"
        },
        {
          "execution_count": 42,
          "output_type": "execute_result",
          "data": {
            "text/plain": "[0.12690497934818268, 0.9369999766349792]"
          },
          "metadata": {}
        }
      ]
    },
    {
      "cell_type": "code",
      "source": [
        "test_dat = pd.read_csv('/kaggle/input/yamunas-odyssey-a-dream-to-conquer-iit-jammu/test.csv')\n",
        "test_dat.head()"
      ],
      "metadata": {
        "execution": {
          "iopub.status.busy": "2024-02-12T15:50:19.19581Z",
          "iopub.execute_input": "2024-02-12T15:50:19.196222Z",
          "iopub.status.idle": "2024-02-12T15:50:19.254659Z",
          "shell.execute_reply.started": "2024-02-12T15:50:19.196189Z",
          "shell.execute_reply": "2024-02-12T15:50:19.253836Z"
        },
        "trusted": true,
        "id": "Le7IIFpTCVtp",
        "outputId": "eb5076cb-bca6-4876-e189-322ae0efeb5e"
      },
      "execution_count": null,
      "outputs": [
        {
          "execution_count": 43,
          "output_type": "execute_result",
          "data": {
            "text/plain": "     Roll No         Name Caoching  High School Marks 12th Appearing  \\\n0  546722345  GIJPQ ZYZPW      YES               87.3             NO   \n1  546722346  YJMBL EIQFA      YES               81.9            YES   \n2  546722347  POTQM FVTEG      YES               75.8            YES   \n3  546722348  VNPZP BMQTZ       NO               97.8             NO   \n4  546722349  CDAAU LMXVV      YES               90.0             NO   \n\n   Intermediate Marks  Income Dummy       School Board Device to Study  \\\n0                83.5  393000    NO           AP Board             NaN   \n1                 NaN  174000    NO  Maharashtra Board          Tablet   \n2                 NaN   13000   YES          Goa Board             NaN   \n3                98.7  122000    NO               CBSE          Laptop   \n4                93.6  124000    NO           MP Board           Phone   \n\n  Online Course     Category PwD  Age Sex  \n0           NaN  General-EWS  NO   16   M  \n1           YES      OBC-NCL  NO   21   F  \n2           NaN  General-EWS  NO   21   F  \n3           YES           ST  NO   19   M  \n4           NaN           SC  NO   16   F  ",
            "text/html": "<div>\n<style scoped>\n    .dataframe tbody tr th:only-of-type {\n        vertical-align: middle;\n    }\n\n    .dataframe tbody tr th {\n        vertical-align: top;\n    }\n\n    .dataframe thead th {\n        text-align: right;\n    }\n</style>\n<table border=\"1\" class=\"dataframe\">\n  <thead>\n    <tr style=\"text-align: right;\">\n      <th></th>\n      <th>Roll No</th>\n      <th>Name</th>\n      <th>Caoching</th>\n      <th>High School Marks</th>\n      <th>12th Appearing</th>\n      <th>Intermediate Marks</th>\n      <th>Income</th>\n      <th>Dummy</th>\n      <th>School Board</th>\n      <th>Device to Study</th>\n      <th>Online Course</th>\n      <th>Category</th>\n      <th>PwD</th>\n      <th>Age</th>\n      <th>Sex</th>\n    </tr>\n  </thead>\n  <tbody>\n    <tr>\n      <th>0</th>\n      <td>546722345</td>\n      <td>GIJPQ ZYZPW</td>\n      <td>YES</td>\n      <td>87.3</td>\n      <td>NO</td>\n      <td>83.5</td>\n      <td>393000</td>\n      <td>NO</td>\n      <td>AP Board</td>\n      <td>NaN</td>\n      <td>NaN</td>\n      <td>General-EWS</td>\n      <td>NO</td>\n      <td>16</td>\n      <td>M</td>\n    </tr>\n    <tr>\n      <th>1</th>\n      <td>546722346</td>\n      <td>YJMBL EIQFA</td>\n      <td>YES</td>\n      <td>81.9</td>\n      <td>YES</td>\n      <td>NaN</td>\n      <td>174000</td>\n      <td>NO</td>\n      <td>Maharashtra Board</td>\n      <td>Tablet</td>\n      <td>YES</td>\n      <td>OBC-NCL</td>\n      <td>NO</td>\n      <td>21</td>\n      <td>F</td>\n    </tr>\n    <tr>\n      <th>2</th>\n      <td>546722347</td>\n      <td>POTQM FVTEG</td>\n      <td>YES</td>\n      <td>75.8</td>\n      <td>YES</td>\n      <td>NaN</td>\n      <td>13000</td>\n      <td>YES</td>\n      <td>Goa Board</td>\n      <td>NaN</td>\n      <td>NaN</td>\n      <td>General-EWS</td>\n      <td>NO</td>\n      <td>21</td>\n      <td>F</td>\n    </tr>\n    <tr>\n      <th>3</th>\n      <td>546722348</td>\n      <td>VNPZP BMQTZ</td>\n      <td>NO</td>\n      <td>97.8</td>\n      <td>NO</td>\n      <td>98.7</td>\n      <td>122000</td>\n      <td>NO</td>\n      <td>CBSE</td>\n      <td>Laptop</td>\n      <td>YES</td>\n      <td>ST</td>\n      <td>NO</td>\n      <td>19</td>\n      <td>M</td>\n    </tr>\n    <tr>\n      <th>4</th>\n      <td>546722349</td>\n      <td>CDAAU LMXVV</td>\n      <td>YES</td>\n      <td>90.0</td>\n      <td>NO</td>\n      <td>93.6</td>\n      <td>124000</td>\n      <td>NO</td>\n      <td>MP Board</td>\n      <td>Phone</td>\n      <td>NaN</td>\n      <td>SC</td>\n      <td>NO</td>\n      <td>16</td>\n      <td>F</td>\n    </tr>\n  </tbody>\n</table>\n</div>"
          },
          "metadata": {}
        }
      ]
    },
    {
      "cell_type": "code",
      "source": [
        "ids = test_dat['Roll No']\n",
        "test_dat.drop(['Roll No', 'Name'], axis=1, inplace=True)"
      ],
      "metadata": {
        "execution": {
          "iopub.status.busy": "2024-02-12T15:50:19.2559Z",
          "iopub.execute_input": "2024-02-12T15:50:19.256245Z",
          "iopub.status.idle": "2024-02-12T15:50:19.26224Z",
          "shell.execute_reply.started": "2024-02-12T15:50:19.256213Z",
          "shell.execute_reply": "2024-02-12T15:50:19.261376Z"
        },
        "trusted": true,
        "id": "mxFO3nelCVtp"
      },
      "execution_count": null,
      "outputs": []
    },
    {
      "cell_type": "code",
      "source": [
        "test_dat.rename(columns={'Caoching':'coach', 'High School Marks':'hs_marks', '12th Appearing':'12_app', 'Intermediate Marks':'inter_marks', 'Income':'income', 'Dummy':'dummy', 'School Board':'board', 'Device to Study':'device', 'Online Course':'on_course', 'Category':'cat', 'PwD':'pwd', 'Age':'age', 'Sex':'sex','Passed':'pass'}, inplace=True)"
      ],
      "metadata": {
        "execution": {
          "iopub.status.busy": "2024-02-12T15:50:19.263312Z",
          "iopub.execute_input": "2024-02-12T15:50:19.263817Z",
          "iopub.status.idle": "2024-02-12T15:50:19.272257Z",
          "shell.execute_reply.started": "2024-02-12T15:50:19.263792Z",
          "shell.execute_reply": "2024-02-12T15:50:19.271435Z"
        },
        "trusted": true,
        "id": "z89qYorYCVtq"
      },
      "execution_count": null,
      "outputs": []
    },
    {
      "cell_type": "code",
      "source": [
        "print(test_dat.isna().sum())"
      ],
      "metadata": {
        "execution": {
          "iopub.status.busy": "2024-02-12T15:50:19.273455Z",
          "iopub.execute_input": "2024-02-12T15:50:19.27377Z",
          "iopub.status.idle": "2024-02-12T15:50:19.288074Z",
          "shell.execute_reply.started": "2024-02-12T15:50:19.273745Z",
          "shell.execute_reply": "2024-02-12T15:50:19.28718Z"
        },
        "trusted": true,
        "id": "eIglYxtBCVtq",
        "outputId": "10285798-9d08-4130-eb38-967242550cbf"
      },
      "execution_count": null,
      "outputs": [
        {
          "name": "stdout",
          "text": "coach             0\nhs_marks          0\n12_app            0\ninter_marks    1926\nincome            0\ndummy             0\nboard             0\ndevice         2466\non_course      3231\ncat               0\npwd               0\nage               0\nsex               0\ndtype: int64\n",
          "output_type": "stream"
        }
      ]
    },
    {
      "cell_type": "code",
      "source": [
        "inter_mean"
      ],
      "metadata": {
        "execution": {
          "iopub.status.busy": "2024-02-12T15:50:19.289415Z",
          "iopub.execute_input": "2024-02-12T15:50:19.289859Z",
          "iopub.status.idle": "2024-02-12T15:50:19.299033Z",
          "shell.execute_reply.started": "2024-02-12T15:50:19.289825Z",
          "shell.execute_reply": "2024-02-12T15:50:19.298215Z"
        },
        "trusted": true,
        "id": "NFFPbqReCVtq",
        "outputId": "d69dc8b5-335f-4c4d-9db7-c4f8f73bde2a"
      },
      "execution_count": null,
      "outputs": [
        {
          "execution_count": 47,
          "output_type": "execute_result",
          "data": {
            "text/plain": "87.41933942632637"
          },
          "metadata": {}
        }
      ]
    },
    {
      "cell_type": "code",
      "source": [
        "test_dat['inter_marks'] = test_dat['inter_marks'].fillna(inter_mean)"
      ],
      "metadata": {
        "execution": {
          "iopub.status.busy": "2024-02-12T15:50:19.300132Z",
          "iopub.execute_input": "2024-02-12T15:50:19.300974Z",
          "iopub.status.idle": "2024-02-12T15:50:19.307605Z",
          "shell.execute_reply.started": "2024-02-12T15:50:19.300942Z",
          "shell.execute_reply": "2024-02-12T15:50:19.306666Z"
        },
        "trusted": true,
        "id": "6cRx6glJCVtq"
      },
      "execution_count": null,
      "outputs": []
    },
    {
      "cell_type": "code",
      "source": [
        "test_dat.head()"
      ],
      "metadata": {
        "execution": {
          "iopub.status.busy": "2024-02-12T15:50:19.308777Z",
          "iopub.execute_input": "2024-02-12T15:50:19.309053Z",
          "iopub.status.idle": "2024-02-12T15:50:19.327536Z",
          "shell.execute_reply.started": "2024-02-12T15:50:19.30903Z",
          "shell.execute_reply": "2024-02-12T15:50:19.32664Z"
        },
        "trusted": true,
        "id": "kKJWwXTLCVtq",
        "outputId": "34c070ba-3818-4b04-bfb2-8fb62b64e9a0"
      },
      "execution_count": null,
      "outputs": [
        {
          "execution_count": 49,
          "output_type": "execute_result",
          "data": {
            "text/plain": "  coach  hs_marks 12_app  inter_marks  income dummy              board  \\\n0   YES      87.3     NO    83.500000  393000    NO           AP Board   \n1   YES      81.9    YES    87.419339  174000    NO  Maharashtra Board   \n2   YES      75.8    YES    87.419339   13000   YES          Goa Board   \n3    NO      97.8     NO    98.700000  122000    NO               CBSE   \n4   YES      90.0     NO    93.600000  124000    NO           MP Board   \n\n   device on_course          cat pwd  age sex  \n0     NaN       NaN  General-EWS  NO   16   M  \n1  Tablet       YES      OBC-NCL  NO   21   F  \n2     NaN       NaN  General-EWS  NO   21   F  \n3  Laptop       YES           ST  NO   19   M  \n4   Phone       NaN           SC  NO   16   F  ",
            "text/html": "<div>\n<style scoped>\n    .dataframe tbody tr th:only-of-type {\n        vertical-align: middle;\n    }\n\n    .dataframe tbody tr th {\n        vertical-align: top;\n    }\n\n    .dataframe thead th {\n        text-align: right;\n    }\n</style>\n<table border=\"1\" class=\"dataframe\">\n  <thead>\n    <tr style=\"text-align: right;\">\n      <th></th>\n      <th>coach</th>\n      <th>hs_marks</th>\n      <th>12_app</th>\n      <th>inter_marks</th>\n      <th>income</th>\n      <th>dummy</th>\n      <th>board</th>\n      <th>device</th>\n      <th>on_course</th>\n      <th>cat</th>\n      <th>pwd</th>\n      <th>age</th>\n      <th>sex</th>\n    </tr>\n  </thead>\n  <tbody>\n    <tr>\n      <th>0</th>\n      <td>YES</td>\n      <td>87.3</td>\n      <td>NO</td>\n      <td>83.500000</td>\n      <td>393000</td>\n      <td>NO</td>\n      <td>AP Board</td>\n      <td>NaN</td>\n      <td>NaN</td>\n      <td>General-EWS</td>\n      <td>NO</td>\n      <td>16</td>\n      <td>M</td>\n    </tr>\n    <tr>\n      <th>1</th>\n      <td>YES</td>\n      <td>81.9</td>\n      <td>YES</td>\n      <td>87.419339</td>\n      <td>174000</td>\n      <td>NO</td>\n      <td>Maharashtra Board</td>\n      <td>Tablet</td>\n      <td>YES</td>\n      <td>OBC-NCL</td>\n      <td>NO</td>\n      <td>21</td>\n      <td>F</td>\n    </tr>\n    <tr>\n      <th>2</th>\n      <td>YES</td>\n      <td>75.8</td>\n      <td>YES</td>\n      <td>87.419339</td>\n      <td>13000</td>\n      <td>YES</td>\n      <td>Goa Board</td>\n      <td>NaN</td>\n      <td>NaN</td>\n      <td>General-EWS</td>\n      <td>NO</td>\n      <td>21</td>\n      <td>F</td>\n    </tr>\n    <tr>\n      <th>3</th>\n      <td>NO</td>\n      <td>97.8</td>\n      <td>NO</td>\n      <td>98.700000</td>\n      <td>122000</td>\n      <td>NO</td>\n      <td>CBSE</td>\n      <td>Laptop</td>\n      <td>YES</td>\n      <td>ST</td>\n      <td>NO</td>\n      <td>19</td>\n      <td>M</td>\n    </tr>\n    <tr>\n      <th>4</th>\n      <td>YES</td>\n      <td>90.0</td>\n      <td>NO</td>\n      <td>93.600000</td>\n      <td>124000</td>\n      <td>NO</td>\n      <td>MP Board</td>\n      <td>Phone</td>\n      <td>NaN</td>\n      <td>SC</td>\n      <td>NO</td>\n      <td>16</td>\n      <td>F</td>\n    </tr>\n  </tbody>\n</table>\n</div>"
          },
          "metadata": {}
        }
      ]
    },
    {
      "cell_type": "code",
      "source": [
        "test_dat['on_course'] = test_dat['on_course'].fillna('NO')\n",
        "test_dat.head()"
      ],
      "metadata": {
        "execution": {
          "iopub.status.busy": "2024-02-12T15:50:19.328509Z",
          "iopub.execute_input": "2024-02-12T15:50:19.328875Z",
          "iopub.status.idle": "2024-02-12T15:50:19.347037Z",
          "shell.execute_reply.started": "2024-02-12T15:50:19.328851Z",
          "shell.execute_reply": "2024-02-12T15:50:19.346111Z"
        },
        "trusted": true,
        "id": "eWOg13oUCVtq",
        "outputId": "5b2cb205-e0ce-42e4-a5bb-1d33bfb47a2e"
      },
      "execution_count": null,
      "outputs": [
        {
          "execution_count": 50,
          "output_type": "execute_result",
          "data": {
            "text/plain": "  coach  hs_marks 12_app  inter_marks  income dummy              board  \\\n0   YES      87.3     NO    83.500000  393000    NO           AP Board   \n1   YES      81.9    YES    87.419339  174000    NO  Maharashtra Board   \n2   YES      75.8    YES    87.419339   13000   YES          Goa Board   \n3    NO      97.8     NO    98.700000  122000    NO               CBSE   \n4   YES      90.0     NO    93.600000  124000    NO           MP Board   \n\n   device on_course          cat pwd  age sex  \n0     NaN        NO  General-EWS  NO   16   M  \n1  Tablet       YES      OBC-NCL  NO   21   F  \n2     NaN        NO  General-EWS  NO   21   F  \n3  Laptop       YES           ST  NO   19   M  \n4   Phone        NO           SC  NO   16   F  ",
            "text/html": "<div>\n<style scoped>\n    .dataframe tbody tr th:only-of-type {\n        vertical-align: middle;\n    }\n\n    .dataframe tbody tr th {\n        vertical-align: top;\n    }\n\n    .dataframe thead th {\n        text-align: right;\n    }\n</style>\n<table border=\"1\" class=\"dataframe\">\n  <thead>\n    <tr style=\"text-align: right;\">\n      <th></th>\n      <th>coach</th>\n      <th>hs_marks</th>\n      <th>12_app</th>\n      <th>inter_marks</th>\n      <th>income</th>\n      <th>dummy</th>\n      <th>board</th>\n      <th>device</th>\n      <th>on_course</th>\n      <th>cat</th>\n      <th>pwd</th>\n      <th>age</th>\n      <th>sex</th>\n    </tr>\n  </thead>\n  <tbody>\n    <tr>\n      <th>0</th>\n      <td>YES</td>\n      <td>87.3</td>\n      <td>NO</td>\n      <td>83.500000</td>\n      <td>393000</td>\n      <td>NO</td>\n      <td>AP Board</td>\n      <td>NaN</td>\n      <td>NO</td>\n      <td>General-EWS</td>\n      <td>NO</td>\n      <td>16</td>\n      <td>M</td>\n    </tr>\n    <tr>\n      <th>1</th>\n      <td>YES</td>\n      <td>81.9</td>\n      <td>YES</td>\n      <td>87.419339</td>\n      <td>174000</td>\n      <td>NO</td>\n      <td>Maharashtra Board</td>\n      <td>Tablet</td>\n      <td>YES</td>\n      <td>OBC-NCL</td>\n      <td>NO</td>\n      <td>21</td>\n      <td>F</td>\n    </tr>\n    <tr>\n      <th>2</th>\n      <td>YES</td>\n      <td>75.8</td>\n      <td>YES</td>\n      <td>87.419339</td>\n      <td>13000</td>\n      <td>YES</td>\n      <td>Goa Board</td>\n      <td>NaN</td>\n      <td>NO</td>\n      <td>General-EWS</td>\n      <td>NO</td>\n      <td>21</td>\n      <td>F</td>\n    </tr>\n    <tr>\n      <th>3</th>\n      <td>NO</td>\n      <td>97.8</td>\n      <td>NO</td>\n      <td>98.700000</td>\n      <td>122000</td>\n      <td>NO</td>\n      <td>CBSE</td>\n      <td>Laptop</td>\n      <td>YES</td>\n      <td>ST</td>\n      <td>NO</td>\n      <td>19</td>\n      <td>M</td>\n    </tr>\n    <tr>\n      <th>4</th>\n      <td>YES</td>\n      <td>90.0</td>\n      <td>NO</td>\n      <td>93.600000</td>\n      <td>124000</td>\n      <td>NO</td>\n      <td>MP Board</td>\n      <td>Phone</td>\n      <td>NO</td>\n      <td>SC</td>\n      <td>NO</td>\n      <td>16</td>\n      <td>F</td>\n    </tr>\n  </tbody>\n</table>\n</div>"
          },
          "metadata": {}
        }
      ]
    },
    {
      "cell_type": "markdown",
      "source": [],
      "metadata": {
        "id": "8YaxwGVPCVtr"
      }
    },
    {
      "cell_type": "code",
      "source": [
        "test_dat.isna().sum()"
      ],
      "metadata": {
        "execution": {
          "iopub.status.busy": "2024-02-12T15:50:19.348141Z",
          "iopub.execute_input": "2024-02-12T15:50:19.348414Z",
          "iopub.status.idle": "2024-02-12T15:50:19.364897Z",
          "shell.execute_reply.started": "2024-02-12T15:50:19.348374Z",
          "shell.execute_reply": "2024-02-12T15:50:19.364043Z"
        },
        "trusted": true,
        "id": "pfm-CzRMCVts",
        "outputId": "462e0f1e-a11f-4591-edeb-c2ae3e94f37d"
      },
      "execution_count": null,
      "outputs": [
        {
          "execution_count": 51,
          "output_type": "execute_result",
          "data": {
            "text/plain": "coach             0\nhs_marks          0\n12_app            0\ninter_marks       0\nincome            0\ndummy             0\nboard             0\ndevice         2466\non_course         0\ncat               0\npwd               0\nage               0\nsex               0\ndtype: int64"
          },
          "metadata": {}
        }
      ]
    },
    {
      "cell_type": "code",
      "source": [
        "scaled_data = scaler.transform(test_dat[numerical_columns])\n",
        "for i, col in enumerate(numerical_columns):\n",
        "    test_dat['scaled_' + col] = scaled_data[:, i]"
      ],
      "metadata": {
        "execution": {
          "iopub.status.busy": "2024-02-12T15:50:19.365956Z",
          "iopub.execute_input": "2024-02-12T15:50:19.366293Z",
          "iopub.status.idle": "2024-02-12T15:50:19.379207Z",
          "shell.execute_reply.started": "2024-02-12T15:50:19.366249Z",
          "shell.execute_reply": "2024-02-12T15:50:19.378531Z"
        },
        "trusted": true,
        "id": "eLEkXs6dCVts"
      },
      "execution_count": null,
      "outputs": []
    },
    {
      "cell_type": "code",
      "source": [
        "test_dat.drop(numerical_columns, axis=1, inplace=True)\n",
        "test_dat.head()"
      ],
      "metadata": {
        "execution": {
          "iopub.status.busy": "2024-02-12T15:50:19.380272Z",
          "iopub.execute_input": "2024-02-12T15:50:19.380973Z",
          "iopub.status.idle": "2024-02-12T15:50:19.400567Z",
          "shell.execute_reply.started": "2024-02-12T15:50:19.380948Z",
          "shell.execute_reply": "2024-02-12T15:50:19.399706Z"
        },
        "trusted": true,
        "id": "N4kZOQUoCVts",
        "outputId": "b9b2dfab-1a59-4aef-8379-8da8e1e95de7"
      },
      "execution_count": null,
      "outputs": [
        {
          "execution_count": 53,
          "output_type": "execute_result",
          "data": {
            "text/plain": "  coach 12_app dummy              board  device on_course          cat pwd  \\\n0   YES     NO    NO           AP Board     NaN        NO  General-EWS  NO   \n1   YES    YES    NO  Maharashtra Board  Tablet       YES      OBC-NCL  NO   \n2   YES    YES   YES          Goa Board     NaN        NO  General-EWS  NO   \n3    NO     NO    NO               CBSE  Laptop       YES           ST  NO   \n4   YES     NO    NO           MP Board   Phone        NO           SC  NO   \n\n  sex  scaled_hs_marks  scaled_inter_marks  scaled_income  scaled_age  \n0   M        -0.023606           -0.696830      -0.060092   -1.461996  \n1   F        -0.767214            0.000000      -0.308066    1.461551  \n2   F        -1.607216            0.000000      -0.490366    1.461551  \n3   M         1.422298            2.005619      -0.366945    0.292132  \n4   F         0.348198            1.098876      -0.364681   -1.461996  ",
            "text/html": "<div>\n<style scoped>\n    .dataframe tbody tr th:only-of-type {\n        vertical-align: middle;\n    }\n\n    .dataframe tbody tr th {\n        vertical-align: top;\n    }\n\n    .dataframe thead th {\n        text-align: right;\n    }\n</style>\n<table border=\"1\" class=\"dataframe\">\n  <thead>\n    <tr style=\"text-align: right;\">\n      <th></th>\n      <th>coach</th>\n      <th>12_app</th>\n      <th>dummy</th>\n      <th>board</th>\n      <th>device</th>\n      <th>on_course</th>\n      <th>cat</th>\n      <th>pwd</th>\n      <th>sex</th>\n      <th>scaled_hs_marks</th>\n      <th>scaled_inter_marks</th>\n      <th>scaled_income</th>\n      <th>scaled_age</th>\n    </tr>\n  </thead>\n  <tbody>\n    <tr>\n      <th>0</th>\n      <td>YES</td>\n      <td>NO</td>\n      <td>NO</td>\n      <td>AP Board</td>\n      <td>NaN</td>\n      <td>NO</td>\n      <td>General-EWS</td>\n      <td>NO</td>\n      <td>M</td>\n      <td>-0.023606</td>\n      <td>-0.696830</td>\n      <td>-0.060092</td>\n      <td>-1.461996</td>\n    </tr>\n    <tr>\n      <th>1</th>\n      <td>YES</td>\n      <td>YES</td>\n      <td>NO</td>\n      <td>Maharashtra Board</td>\n      <td>Tablet</td>\n      <td>YES</td>\n      <td>OBC-NCL</td>\n      <td>NO</td>\n      <td>F</td>\n      <td>-0.767214</td>\n      <td>0.000000</td>\n      <td>-0.308066</td>\n      <td>1.461551</td>\n    </tr>\n    <tr>\n      <th>2</th>\n      <td>YES</td>\n      <td>YES</td>\n      <td>YES</td>\n      <td>Goa Board</td>\n      <td>NaN</td>\n      <td>NO</td>\n      <td>General-EWS</td>\n      <td>NO</td>\n      <td>F</td>\n      <td>-1.607216</td>\n      <td>0.000000</td>\n      <td>-0.490366</td>\n      <td>1.461551</td>\n    </tr>\n    <tr>\n      <th>3</th>\n      <td>NO</td>\n      <td>NO</td>\n      <td>NO</td>\n      <td>CBSE</td>\n      <td>Laptop</td>\n      <td>YES</td>\n      <td>ST</td>\n      <td>NO</td>\n      <td>M</td>\n      <td>1.422298</td>\n      <td>2.005619</td>\n      <td>-0.366945</td>\n      <td>0.292132</td>\n    </tr>\n    <tr>\n      <th>4</th>\n      <td>YES</td>\n      <td>NO</td>\n      <td>NO</td>\n      <td>MP Board</td>\n      <td>Phone</td>\n      <td>NO</td>\n      <td>SC</td>\n      <td>NO</td>\n      <td>F</td>\n      <td>0.348198</td>\n      <td>1.098876</td>\n      <td>-0.364681</td>\n      <td>-1.461996</td>\n    </tr>\n  </tbody>\n</table>\n</div>"
          },
          "metadata": {}
        }
      ]
    },
    {
      "cell_type": "code",
      "source": [
        "encoded_data = encoder.transform(test_dat[['coach', '12_app', 'dummy', 'board', 'on_course', 'cat', 'pwd', 'sex']])\n",
        "new_columns = encoder.get_feature_names_out(categorical_columns)\n",
        "test_dat[new_columns] = encoded_data"
      ],
      "metadata": {
        "execution": {
          "iopub.status.busy": "2024-02-12T15:50:19.401697Z",
          "iopub.execute_input": "2024-02-12T15:50:19.40193Z",
          "iopub.status.idle": "2024-02-12T15:50:19.43368Z",
          "shell.execute_reply.started": "2024-02-12T15:50:19.401909Z",
          "shell.execute_reply": "2024-02-12T15:50:19.432838Z"
        },
        "trusted": true,
        "id": "3vYSd7ZOCVtt"
      },
      "execution_count": null,
      "outputs": []
    },
    {
      "cell_type": "code",
      "source": [
        "test_dat.drop(categorical_columns, axis=1, inplace=True)"
      ],
      "metadata": {
        "execution": {
          "iopub.status.busy": "2024-02-12T15:50:19.434819Z",
          "iopub.execute_input": "2024-02-12T15:50:19.435338Z",
          "iopub.status.idle": "2024-02-12T15:50:19.441875Z",
          "shell.execute_reply.started": "2024-02-12T15:50:19.435307Z",
          "shell.execute_reply": "2024-02-12T15:50:19.440903Z"
        },
        "trusted": true,
        "id": "8H6-SOU9CVtt"
      },
      "execution_count": null,
      "outputs": []
    },
    {
      "cell_type": "code",
      "source": [
        "test_dat.head()"
      ],
      "metadata": {
        "execution": {
          "iopub.status.busy": "2024-02-12T15:50:19.442881Z",
          "iopub.execute_input": "2024-02-12T15:50:19.443129Z",
          "iopub.status.idle": "2024-02-12T15:50:19.479193Z",
          "shell.execute_reply.started": "2024-02-12T15:50:19.443106Z",
          "shell.execute_reply": "2024-02-12T15:50:19.47842Z"
        },
        "trusted": true,
        "id": "R4IRbFg5CVtt",
        "outputId": "1b69bb26-d339-4df1-a47a-74e79fd5e481"
      },
      "execution_count": null,
      "outputs": [
        {
          "execution_count": 56,
          "output_type": "execute_result",
          "data": {
            "text/plain": "   device  scaled_hs_marks  scaled_inter_marks  scaled_income  scaled_age  \\\n0     NaN        -0.023606           -0.696830      -0.060092   -1.461996   \n1  Tablet        -0.767214            0.000000      -0.308066    1.461551   \n2     NaN        -1.607216            0.000000      -0.490366    1.461551   \n3  Laptop         1.422298            2.005619      -0.366945    0.292132   \n4   Phone         0.348198            1.098876      -0.364681   -1.461996   \n\n   coach_NO  coach_YES  12_app_NO  12_app_YES  dummy_NO  ...  cat_General  \\\n0       0.0        1.0        1.0         0.0       1.0  ...          0.0   \n1       0.0        1.0        0.0         1.0       1.0  ...          0.0   \n2       0.0        1.0        0.0         1.0       0.0  ...          0.0   \n3       1.0        0.0        1.0         0.0       1.0  ...          0.0   \n4       0.0        1.0        1.0         0.0       1.0  ...          0.0   \n\n   cat_General-EWS  cat_Minority  cat_OBC-NCL  cat_SC  cat_ST  pwd_NO  \\\n0              1.0           0.0          0.0     0.0     0.0     1.0   \n1              0.0           0.0          1.0     0.0     0.0     1.0   \n2              1.0           0.0          0.0     0.0     0.0     1.0   \n3              0.0           0.0          0.0     0.0     1.0     1.0   \n4              0.0           0.0          0.0     1.0     0.0     1.0   \n\n   pwd_YES  sex_F  sex_M  \n0      0.0    0.0    1.0  \n1      0.0    1.0    0.0  \n2      0.0    1.0    0.0  \n3      0.0    0.0    1.0  \n4      0.0    1.0    0.0  \n\n[5 rows x 43 columns]",
            "text/html": "<div>\n<style scoped>\n    .dataframe tbody tr th:only-of-type {\n        vertical-align: middle;\n    }\n\n    .dataframe tbody tr th {\n        vertical-align: top;\n    }\n\n    .dataframe thead th {\n        text-align: right;\n    }\n</style>\n<table border=\"1\" class=\"dataframe\">\n  <thead>\n    <tr style=\"text-align: right;\">\n      <th></th>\n      <th>device</th>\n      <th>scaled_hs_marks</th>\n      <th>scaled_inter_marks</th>\n      <th>scaled_income</th>\n      <th>scaled_age</th>\n      <th>coach_NO</th>\n      <th>coach_YES</th>\n      <th>12_app_NO</th>\n      <th>12_app_YES</th>\n      <th>dummy_NO</th>\n      <th>...</th>\n      <th>cat_General</th>\n      <th>cat_General-EWS</th>\n      <th>cat_Minority</th>\n      <th>cat_OBC-NCL</th>\n      <th>cat_SC</th>\n      <th>cat_ST</th>\n      <th>pwd_NO</th>\n      <th>pwd_YES</th>\n      <th>sex_F</th>\n      <th>sex_M</th>\n    </tr>\n  </thead>\n  <tbody>\n    <tr>\n      <th>0</th>\n      <td>NaN</td>\n      <td>-0.023606</td>\n      <td>-0.696830</td>\n      <td>-0.060092</td>\n      <td>-1.461996</td>\n      <td>0.0</td>\n      <td>1.0</td>\n      <td>1.0</td>\n      <td>0.0</td>\n      <td>1.0</td>\n      <td>...</td>\n      <td>0.0</td>\n      <td>1.0</td>\n      <td>0.0</td>\n      <td>0.0</td>\n      <td>0.0</td>\n      <td>0.0</td>\n      <td>1.0</td>\n      <td>0.0</td>\n      <td>0.0</td>\n      <td>1.0</td>\n    </tr>\n    <tr>\n      <th>1</th>\n      <td>Tablet</td>\n      <td>-0.767214</td>\n      <td>0.000000</td>\n      <td>-0.308066</td>\n      <td>1.461551</td>\n      <td>0.0</td>\n      <td>1.0</td>\n      <td>0.0</td>\n      <td>1.0</td>\n      <td>1.0</td>\n      <td>...</td>\n      <td>0.0</td>\n      <td>0.0</td>\n      <td>0.0</td>\n      <td>1.0</td>\n      <td>0.0</td>\n      <td>0.0</td>\n      <td>1.0</td>\n      <td>0.0</td>\n      <td>1.0</td>\n      <td>0.0</td>\n    </tr>\n    <tr>\n      <th>2</th>\n      <td>NaN</td>\n      <td>-1.607216</td>\n      <td>0.000000</td>\n      <td>-0.490366</td>\n      <td>1.461551</td>\n      <td>0.0</td>\n      <td>1.0</td>\n      <td>0.0</td>\n      <td>1.0</td>\n      <td>0.0</td>\n      <td>...</td>\n      <td>0.0</td>\n      <td>1.0</td>\n      <td>0.0</td>\n      <td>0.0</td>\n      <td>0.0</td>\n      <td>0.0</td>\n      <td>1.0</td>\n      <td>0.0</td>\n      <td>1.0</td>\n      <td>0.0</td>\n    </tr>\n    <tr>\n      <th>3</th>\n      <td>Laptop</td>\n      <td>1.422298</td>\n      <td>2.005619</td>\n      <td>-0.366945</td>\n      <td>0.292132</td>\n      <td>1.0</td>\n      <td>0.0</td>\n      <td>1.0</td>\n      <td>0.0</td>\n      <td>1.0</td>\n      <td>...</td>\n      <td>0.0</td>\n      <td>0.0</td>\n      <td>0.0</td>\n      <td>0.0</td>\n      <td>0.0</td>\n      <td>1.0</td>\n      <td>1.0</td>\n      <td>0.0</td>\n      <td>0.0</td>\n      <td>1.0</td>\n    </tr>\n    <tr>\n      <th>4</th>\n      <td>Phone</td>\n      <td>0.348198</td>\n      <td>1.098876</td>\n      <td>-0.364681</td>\n      <td>-1.461996</td>\n      <td>0.0</td>\n      <td>1.0</td>\n      <td>1.0</td>\n      <td>0.0</td>\n      <td>1.0</td>\n      <td>...</td>\n      <td>0.0</td>\n      <td>0.0</td>\n      <td>0.0</td>\n      <td>0.0</td>\n      <td>1.0</td>\n      <td>0.0</td>\n      <td>1.0</td>\n      <td>0.0</td>\n      <td>1.0</td>\n      <td>0.0</td>\n    </tr>\n  </tbody>\n</table>\n<p>5 rows × 43 columns</p>\n</div>"
          },
          "metadata": {}
        }
      ]
    },
    {
      "cell_type": "code",
      "source": [
        "test_dat.drop('device', axis=1, inplace=True)"
      ],
      "metadata": {
        "execution": {
          "iopub.status.busy": "2024-02-12T15:50:19.480213Z",
          "iopub.execute_input": "2024-02-12T15:50:19.480555Z",
          "iopub.status.idle": "2024-02-12T15:50:19.486939Z",
          "shell.execute_reply.started": "2024-02-12T15:50:19.480523Z",
          "shell.execute_reply": "2024-02-12T15:50:19.486025Z"
        },
        "trusted": true,
        "id": "VGlhpoc3CVtt"
      },
      "execution_count": null,
      "outputs": []
    },
    {
      "cell_type": "code",
      "source": [
        "test_dat.head()"
      ],
      "metadata": {
        "execution": {
          "iopub.status.busy": "2024-02-12T15:50:19.487979Z",
          "iopub.execute_input": "2024-02-12T15:50:19.4883Z",
          "iopub.status.idle": "2024-02-12T15:50:19.521122Z",
          "shell.execute_reply.started": "2024-02-12T15:50:19.48826Z",
          "shell.execute_reply": "2024-02-12T15:50:19.520324Z"
        },
        "trusted": true,
        "id": "PwqDCABACVtu",
        "outputId": "298bce91-a756-4a84-cf6f-397af77dd102"
      },
      "execution_count": null,
      "outputs": [
        {
          "execution_count": 58,
          "output_type": "execute_result",
          "data": {
            "text/plain": "   scaled_hs_marks  scaled_inter_marks  scaled_income  scaled_age  coach_NO  \\\n0        -0.023606           -0.696830      -0.060092   -1.461996       0.0   \n1        -0.767214            0.000000      -0.308066    1.461551       0.0   \n2        -1.607216            0.000000      -0.490366    1.461551       0.0   \n3         1.422298            2.005619      -0.366945    0.292132       1.0   \n4         0.348198            1.098876      -0.364681   -1.461996       0.0   \n\n   coach_YES  12_app_NO  12_app_YES  dummy_NO  dummy_YES  ...  cat_General  \\\n0        1.0        1.0         0.0       1.0        0.0  ...          0.0   \n1        1.0        0.0         1.0       1.0        0.0  ...          0.0   \n2        1.0        0.0         1.0       0.0        1.0  ...          0.0   \n3        0.0        1.0         0.0       1.0        0.0  ...          0.0   \n4        1.0        1.0         0.0       1.0        0.0  ...          0.0   \n\n   cat_General-EWS  cat_Minority  cat_OBC-NCL  cat_SC  cat_ST  pwd_NO  \\\n0              1.0           0.0          0.0     0.0     0.0     1.0   \n1              0.0           0.0          1.0     0.0     0.0     1.0   \n2              1.0           0.0          0.0     0.0     0.0     1.0   \n3              0.0           0.0          0.0     0.0     1.0     1.0   \n4              0.0           0.0          0.0     1.0     0.0     1.0   \n\n   pwd_YES  sex_F  sex_M  \n0      0.0    0.0    1.0  \n1      0.0    1.0    0.0  \n2      0.0    1.0    0.0  \n3      0.0    0.0    1.0  \n4      0.0    1.0    0.0  \n\n[5 rows x 42 columns]",
            "text/html": "<div>\n<style scoped>\n    .dataframe tbody tr th:only-of-type {\n        vertical-align: middle;\n    }\n\n    .dataframe tbody tr th {\n        vertical-align: top;\n    }\n\n    .dataframe thead th {\n        text-align: right;\n    }\n</style>\n<table border=\"1\" class=\"dataframe\">\n  <thead>\n    <tr style=\"text-align: right;\">\n      <th></th>\n      <th>scaled_hs_marks</th>\n      <th>scaled_inter_marks</th>\n      <th>scaled_income</th>\n      <th>scaled_age</th>\n      <th>coach_NO</th>\n      <th>coach_YES</th>\n      <th>12_app_NO</th>\n      <th>12_app_YES</th>\n      <th>dummy_NO</th>\n      <th>dummy_YES</th>\n      <th>...</th>\n      <th>cat_General</th>\n      <th>cat_General-EWS</th>\n      <th>cat_Minority</th>\n      <th>cat_OBC-NCL</th>\n      <th>cat_SC</th>\n      <th>cat_ST</th>\n      <th>pwd_NO</th>\n      <th>pwd_YES</th>\n      <th>sex_F</th>\n      <th>sex_M</th>\n    </tr>\n  </thead>\n  <tbody>\n    <tr>\n      <th>0</th>\n      <td>-0.023606</td>\n      <td>-0.696830</td>\n      <td>-0.060092</td>\n      <td>-1.461996</td>\n      <td>0.0</td>\n      <td>1.0</td>\n      <td>1.0</td>\n      <td>0.0</td>\n      <td>1.0</td>\n      <td>0.0</td>\n      <td>...</td>\n      <td>0.0</td>\n      <td>1.0</td>\n      <td>0.0</td>\n      <td>0.0</td>\n      <td>0.0</td>\n      <td>0.0</td>\n      <td>1.0</td>\n      <td>0.0</td>\n      <td>0.0</td>\n      <td>1.0</td>\n    </tr>\n    <tr>\n      <th>1</th>\n      <td>-0.767214</td>\n      <td>0.000000</td>\n      <td>-0.308066</td>\n      <td>1.461551</td>\n      <td>0.0</td>\n      <td>1.0</td>\n      <td>0.0</td>\n      <td>1.0</td>\n      <td>1.0</td>\n      <td>0.0</td>\n      <td>...</td>\n      <td>0.0</td>\n      <td>0.0</td>\n      <td>0.0</td>\n      <td>1.0</td>\n      <td>0.0</td>\n      <td>0.0</td>\n      <td>1.0</td>\n      <td>0.0</td>\n      <td>1.0</td>\n      <td>0.0</td>\n    </tr>\n    <tr>\n      <th>2</th>\n      <td>-1.607216</td>\n      <td>0.000000</td>\n      <td>-0.490366</td>\n      <td>1.461551</td>\n      <td>0.0</td>\n      <td>1.0</td>\n      <td>0.0</td>\n      <td>1.0</td>\n      <td>0.0</td>\n      <td>1.0</td>\n      <td>...</td>\n      <td>0.0</td>\n      <td>1.0</td>\n      <td>0.0</td>\n      <td>0.0</td>\n      <td>0.0</td>\n      <td>0.0</td>\n      <td>1.0</td>\n      <td>0.0</td>\n      <td>1.0</td>\n      <td>0.0</td>\n    </tr>\n    <tr>\n      <th>3</th>\n      <td>1.422298</td>\n      <td>2.005619</td>\n      <td>-0.366945</td>\n      <td>0.292132</td>\n      <td>1.0</td>\n      <td>0.0</td>\n      <td>1.0</td>\n      <td>0.0</td>\n      <td>1.0</td>\n      <td>0.0</td>\n      <td>...</td>\n      <td>0.0</td>\n      <td>0.0</td>\n      <td>0.0</td>\n      <td>0.0</td>\n      <td>0.0</td>\n      <td>1.0</td>\n      <td>1.0</td>\n      <td>0.0</td>\n      <td>0.0</td>\n      <td>1.0</td>\n    </tr>\n    <tr>\n      <th>4</th>\n      <td>0.348198</td>\n      <td>1.098876</td>\n      <td>-0.364681</td>\n      <td>-1.461996</td>\n      <td>0.0</td>\n      <td>1.0</td>\n      <td>1.0</td>\n      <td>0.0</td>\n      <td>1.0</td>\n      <td>0.0</td>\n      <td>...</td>\n      <td>0.0</td>\n      <td>0.0</td>\n      <td>0.0</td>\n      <td>0.0</td>\n      <td>1.0</td>\n      <td>0.0</td>\n      <td>1.0</td>\n      <td>0.0</td>\n      <td>1.0</td>\n      <td>0.0</td>\n    </tr>\n  </tbody>\n</table>\n<p>5 rows × 42 columns</p>\n</div>"
          },
          "metadata": {}
        }
      ]
    },
    {
      "cell_type": "code",
      "source": [
        "test_pred = model1.predict(test_dat)"
      ],
      "metadata": {
        "execution": {
          "iopub.status.busy": "2024-02-12T15:50:19.521967Z",
          "iopub.execute_input": "2024-02-12T15:50:19.522205Z",
          "iopub.status.idle": "2024-02-12T15:50:20.014706Z",
          "shell.execute_reply.started": "2024-02-12T15:50:19.522182Z",
          "shell.execute_reply": "2024-02-12T15:50:20.013933Z"
        },
        "trusted": true,
        "id": "pt1-ziiGCVtu",
        "outputId": "24ce865d-b144-4d16-92ec-4b1bb6328475"
      },
      "execution_count": null,
      "outputs": [
        {
          "name": "stdout",
          "text": "157/157 [==============================] - 0s 1ms/step\n",
          "output_type": "stream"
        }
      ]
    },
    {
      "cell_type": "code",
      "source": [
        "test_pred"
      ],
      "metadata": {
        "execution": {
          "iopub.status.busy": "2024-02-12T15:50:20.015938Z",
          "iopub.execute_input": "2024-02-12T15:50:20.016532Z",
          "iopub.status.idle": "2024-02-12T15:50:20.02278Z",
          "shell.execute_reply.started": "2024-02-12T15:50:20.016498Z",
          "shell.execute_reply": "2024-02-12T15:50:20.021865Z"
        },
        "trusted": true,
        "id": "ftIe0KdiCVtu",
        "outputId": "19a64acb-e7fd-4038-a11d-304ec34fa3c7"
      },
      "execution_count": null,
      "outputs": [
        {
          "execution_count": 60,
          "output_type": "execute_result",
          "data": {
            "text/plain": "array([[0.9996872 ],\n       [0.97993076],\n       [0.9978795 ],\n       ...,\n       [0.00199832],\n       [0.00360807],\n       [0.99916613]], dtype=float32)"
          },
          "metadata": {}
        }
      ]
    },
    {
      "cell_type": "code",
      "source": [
        "prob = pd.DataFrame(test_pred, columns=['Pass'])\n",
        "df_final = pd.concat([ids, prob], axis=1)\n",
        "def pass_fail_converter(value):\n",
        "    return \"PASS\" if value >= 0.90 else \"FAIL\"\n",
        "df_final[\"Passed\"] = df_final[\"Pass\"].apply(pass_fail_converter)\n",
        "df_final.drop(\"Pass\", axis=1, inplace=True)\n",
        "df_final.head()\n"
      ],
      "metadata": {
        "execution": {
          "iopub.status.busy": "2024-02-12T15:50:20.024076Z",
          "iopub.execute_input": "2024-02-12T15:50:20.024453Z",
          "iopub.status.idle": "2024-02-12T15:50:20.042813Z",
          "shell.execute_reply.started": "2024-02-12T15:50:20.024417Z",
          "shell.execute_reply": "2024-02-12T15:50:20.041969Z"
        },
        "trusted": true,
        "id": "3YI10_q3CVtu",
        "outputId": "b54a6786-ad5c-4b26-eaf9-1d4a6c54d863"
      },
      "execution_count": null,
      "outputs": [
        {
          "execution_count": 61,
          "output_type": "execute_result",
          "data": {
            "text/plain": "     Roll No Passed\n0  546722345   PASS\n1  546722346   PASS\n2  546722347   PASS\n3  546722348   FAIL\n4  546722349   PASS",
            "text/html": "<div>\n<style scoped>\n    .dataframe tbody tr th:only-of-type {\n        vertical-align: middle;\n    }\n\n    .dataframe tbody tr th {\n        vertical-align: top;\n    }\n\n    .dataframe thead th {\n        text-align: right;\n    }\n</style>\n<table border=\"1\" class=\"dataframe\">\n  <thead>\n    <tr style=\"text-align: right;\">\n      <th></th>\n      <th>Roll No</th>\n      <th>Passed</th>\n    </tr>\n  </thead>\n  <tbody>\n    <tr>\n      <th>0</th>\n      <td>546722345</td>\n      <td>PASS</td>\n    </tr>\n    <tr>\n      <th>1</th>\n      <td>546722346</td>\n      <td>PASS</td>\n    </tr>\n    <tr>\n      <th>2</th>\n      <td>546722347</td>\n      <td>PASS</td>\n    </tr>\n    <tr>\n      <th>3</th>\n      <td>546722348</td>\n      <td>FAIL</td>\n    </tr>\n    <tr>\n      <th>4</th>\n      <td>546722349</td>\n      <td>PASS</td>\n    </tr>\n  </tbody>\n</table>\n</div>"
          },
          "metadata": {}
        }
      ]
    },
    {
      "cell_type": "code",
      "source": [
        "print(df_final)"
      ],
      "metadata": {
        "execution": {
          "iopub.status.busy": "2024-02-12T15:50:20.044042Z",
          "iopub.execute_input": "2024-02-12T15:50:20.044356Z",
          "iopub.status.idle": "2024-02-12T15:50:20.051271Z",
          "shell.execute_reply.started": "2024-02-12T15:50:20.044327Z",
          "shell.execute_reply": "2024-02-12T15:50:20.05045Z"
        },
        "trusted": true,
        "id": "st5xT9NsCVtv",
        "outputId": "f1eb283f-237c-4670-b601-c776b82656cd"
      },
      "execution_count": null,
      "outputs": [
        {
          "name": "stdout",
          "text": "        Roll No Passed\n0     546722345   PASS\n1     546722346   PASS\n2     546722347   PASS\n3     546722348   FAIL\n4     546722349   PASS\n...         ...    ...\n4995  546727340   PASS\n4996  546727341   PASS\n4997  546727342   FAIL\n4998  546727343   FAIL\n4999  546727344   PASS\n\n[5000 rows x 2 columns]\n",
          "output_type": "stream"
        }
      ]
    },
    {
      "cell_type": "code",
      "source": [
        "df_final.to_csv('submission.csv', index=False)"
      ],
      "metadata": {
        "execution": {
          "iopub.status.busy": "2024-02-12T15:50:20.052439Z",
          "iopub.execute_input": "2024-02-12T15:50:20.052831Z",
          "iopub.status.idle": "2024-02-12T15:50:20.069327Z",
          "shell.execute_reply.started": "2024-02-12T15:50:20.0528Z",
          "shell.execute_reply": "2024-02-12T15:50:20.068648Z"
        },
        "trusted": true,
        "id": "OCsrpZEVCVtv"
      },
      "execution_count": null,
      "outputs": []
    },
    {
      "cell_type": "code",
      "source": [],
      "metadata": {
        "id": "ZRq3IxvPCVtv"
      },
      "execution_count": null,
      "outputs": []
    }
  ]
}